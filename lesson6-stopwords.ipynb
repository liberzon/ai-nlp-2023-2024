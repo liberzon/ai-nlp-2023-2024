{
 "cells": [
  {
   "cell_type": "code",
   "execution_count": 2,
   "outputs": [
    {
     "name": "stdout",
     "output_type": "stream",
     "text": [
      "showing info https://raw.githubusercontent.com/nltk/nltk_data/gh-pages/index.xml\n"
     ]
    },
    {
     "data": {
      "text/plain": "True"
     },
     "execution_count": 2,
     "metadata": {},
     "output_type": "execute_result"
    }
   ],
   "source": [
    "import nltk\n",
    "nltk.download()"
   ],
   "metadata": {
    "collapsed": false
   }
  },
  {
   "cell_type": "code",
   "execution_count": 3,
   "outputs": [],
   "source": [
    "from nltk.corpus import stopwords"
   ],
   "metadata": {
    "collapsed": false
   }
  },
  {
   "cell_type": "code",
   "execution_count": 9,
   "outputs": [
    {
     "data": {
      "text/plain": "['i',\n 'me',\n 'my',\n 'myself',\n 'we',\n 'our',\n 'ours',\n 'ourselves',\n 'you',\n \"you're\",\n \"you've\",\n \"you'll\",\n \"you'd\",\n 'your',\n 'yours',\n 'yourself',\n 'yourselves',\n 'he',\n 'him',\n 'his',\n 'himself',\n 'she',\n \"she's\",\n 'her',\n 'hers',\n 'herself',\n 'it',\n \"it's\",\n 'its',\n 'itself',\n 'they',\n 'them',\n 'their',\n 'theirs',\n 'themselves',\n 'what',\n 'which',\n 'who',\n 'whom',\n 'this',\n 'that',\n \"that'll\",\n 'these',\n 'those',\n 'am',\n 'is',\n 'are',\n 'was',\n 'were',\n 'be',\n 'been',\n 'being',\n 'have',\n 'has',\n 'had',\n 'having',\n 'do',\n 'does',\n 'did',\n 'doing',\n 'a',\n 'an',\n 'the',\n 'and',\n 'but',\n 'if',\n 'or',\n 'because',\n 'as',\n 'until',\n 'while',\n 'of',\n 'at',\n 'by',\n 'for',\n 'with',\n 'about',\n 'against',\n 'between',\n 'into',\n 'through',\n 'during',\n 'before',\n 'after',\n 'above',\n 'below',\n 'to',\n 'from',\n 'up',\n 'down',\n 'in',\n 'out',\n 'on',\n 'off',\n 'over',\n 'under',\n 'again',\n 'further',\n 'then',\n 'once',\n 'here',\n 'there',\n 'when',\n 'where',\n 'why',\n 'how',\n 'all',\n 'any',\n 'both',\n 'each',\n 'few',\n 'more',\n 'most',\n 'other',\n 'some',\n 'such',\n 'no',\n 'nor',\n 'not',\n 'only',\n 'own',\n 'same',\n 'so',\n 'than',\n 'too',\n 'very',\n 's',\n 't',\n 'can',\n 'will',\n 'just',\n 'don',\n \"don't\",\n 'should',\n \"should've\",\n 'now',\n 'd',\n 'll',\n 'm',\n 'o',\n 're',\n 've',\n 'y',\n 'ain',\n 'aren',\n \"aren't\",\n 'couldn',\n \"couldn't\",\n 'didn',\n \"didn't\",\n 'doesn',\n \"doesn't\",\n 'hadn',\n \"hadn't\",\n 'hasn',\n \"hasn't\",\n 'haven',\n \"haven't\",\n 'isn',\n \"isn't\",\n 'ma',\n 'mightn',\n \"mightn't\",\n 'mustn',\n \"mustn't\",\n 'needn',\n \"needn't\",\n 'shan',\n \"shan't\",\n 'shouldn',\n \"shouldn't\",\n 'wasn',\n \"wasn't\",\n 'weren',\n \"weren't\",\n 'won',\n \"won't\",\n 'wouldn',\n \"wouldn't\"]"
     },
     "execution_count": 9,
     "metadata": {},
     "output_type": "execute_result"
    }
   ],
   "source": [
    "stopwords.words('english')"
   ],
   "metadata": {
    "collapsed": false
   }
  },
  {
   "cell_type": "code",
   "execution_count": 9,
   "outputs": [
    {
     "data": {
      "text/plain": "['אני',\n 'את',\n 'אתה',\n 'אנחנו',\n 'אתן',\n 'אתם',\n 'הם',\n 'הן',\n 'היא',\n 'הוא',\n 'שלי',\n 'שלו',\n 'שלך',\n 'שלה',\n 'שלנו',\n 'שלכם',\n 'שלכן',\n 'שלהם',\n 'שלהן',\n 'לי',\n 'לו',\n 'לה',\n 'לנו',\n 'לכם',\n 'לכן',\n 'להם',\n 'להן',\n 'אותה',\n 'אותו',\n 'זה',\n 'זאת',\n 'אלה',\n 'אלו',\n 'תחת',\n 'מתחת',\n 'מעל',\n 'בין',\n 'עם',\n 'עד',\n 'נגר',\n 'על',\n 'אל',\n 'מול',\n 'של',\n 'אצל',\n 'כמו',\n 'אחר',\n 'אותו',\n 'בלי',\n 'לפני',\n 'אחרי',\n 'מאחורי',\n 'עלי',\n 'עליו',\n 'עליה',\n 'עליך',\n 'עלינו',\n 'עליכם',\n 'לעיכן',\n 'עליהם',\n 'עליהן',\n 'כל',\n 'כולם',\n 'כולן',\n 'כך',\n 'ככה',\n 'כזה',\n 'זה',\n 'זות',\n 'אותי',\n 'אותה',\n 'אותם',\n 'אותך',\n 'אותו',\n 'אותן',\n 'אותנו',\n 'ואת',\n 'את',\n 'אתכם',\n 'אתכן',\n 'איתי',\n 'איתו',\n 'איתך',\n 'איתה',\n 'איתם',\n 'איתן',\n 'איתנו',\n 'איתכם',\n 'איתכן',\n 'יהיה',\n 'תהיה',\n 'היתי',\n 'היתה',\n 'היה',\n 'להיות',\n 'עצמי',\n 'עצמו',\n 'עצמה',\n 'עצמם',\n 'עצמן',\n 'עצמנו',\n 'עצמהם',\n 'עצמהן',\n 'מי',\n 'מה',\n 'איפה',\n 'היכן',\n 'במקום שבו',\n 'אם',\n 'לאן',\n 'למקום שבו',\n 'מקום בו',\n 'איזה',\n 'מהיכן',\n 'איך',\n 'כיצד',\n 'באיזו מידה',\n 'מתי',\n 'בשעה ש',\n 'כאשר',\n 'כש',\n 'למרות',\n 'לפני',\n 'אחרי',\n 'מאיזו סיבה',\n 'הסיבה שבגללה',\n 'למה',\n 'מדוע',\n 'לאיזו תכלית',\n 'כי',\n 'יש',\n 'אין',\n 'אך',\n 'מנין',\n 'מאין',\n 'מאיפה',\n 'יכל',\n 'יכלה',\n 'יכלו',\n 'יכול',\n 'יכולה',\n 'יכולים',\n 'יכולות',\n 'יוכלו',\n 'יוכל',\n 'מסוגל',\n 'לא',\n 'רק',\n 'אולי',\n 'אין',\n 'לאו',\n 'אי',\n 'כלל',\n 'נגד',\n 'אם',\n 'עם',\n 'אל',\n 'אלה',\n 'אלו',\n 'אף',\n 'על',\n 'מעל',\n 'מתחת',\n 'מצד',\n 'בשביל',\n 'לבין',\n 'באמצע',\n 'בתוך',\n 'דרך',\n 'מבעד',\n 'באמצעות',\n 'למעלה',\n 'למטה',\n 'מחוץ',\n 'מן',\n 'לעבר',\n 'מכאן',\n 'כאן',\n 'הנה',\n 'הרי',\n 'פה',\n 'שם',\n 'אך',\n 'ברם',\n 'שוב',\n 'אבל',\n 'מבלי',\n 'בלי',\n 'מלבד',\n 'רק',\n 'בגלל',\n 'מכיוון',\n 'עד',\n 'אשר',\n 'ואילו',\n 'למרות',\n 'אס',\n 'כמו',\n 'כפי',\n 'אז',\n 'אחרי',\n 'כן',\n 'לכן',\n 'לפיכך',\n 'מאד',\n 'עז',\n 'מעט',\n 'מעטים',\n 'במידה',\n 'שוב',\n 'יותר',\n 'מדי',\n 'גם',\n 'כן',\n 'נו',\n 'אחר',\n 'אחרת',\n 'אחרים',\n 'אחרות',\n 'אשר',\n 'או']"
     },
     "execution_count": 9,
     "metadata": {},
     "output_type": "execute_result"
    }
   ],
   "source": [
    "stopwords.words('hebrew')"
   ],
   "metadata": {
    "collapsed": false
   }
  },
  {
   "cell_type": "code",
   "execution_count": null,
   "outputs": [],
   "source": [],
   "metadata": {
    "collapsed": false
   }
  }
 ],
 "metadata": {
  "kernelspec": {
   "display_name": "Python 3",
   "language": "python",
   "name": "python3"
  },
  "language_info": {
   "codemirror_mode": {
    "name": "ipython",
    "version": 2
   },
   "file_extension": ".py",
   "mimetype": "text/x-python",
   "name": "python",
   "nbconvert_exporter": "python",
   "pygments_lexer": "ipython2",
   "version": "2.7.6"
  }
 },
 "nbformat": 4,
 "nbformat_minor": 0
}
