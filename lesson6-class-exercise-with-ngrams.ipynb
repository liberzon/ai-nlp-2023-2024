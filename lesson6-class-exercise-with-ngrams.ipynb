{
 "cells": [
  {
   "cell_type": "markdown",
   "source": [
    "# Purpose: Predict whether a superhero is from Marvel Comics based on their history and powers text\n",
    "\n",
    "A (History text + Powers text) -> B (Marvel: Yes / No)"
   ],
   "metadata": {
    "collapsed": false
   },
   "id": "42ebd690fabe9e8a"
  },
  {
   "cell_type": "code",
   "execution_count": 1,
   "id": "initial_id",
   "metadata": {
    "collapsed": true,
    "ExecuteTime": {
<<<<<<< Updated upstream
     "end_time": "2024-01-30T13:40:32.992941Z",
     "start_time": "2024-01-30T13:40:31.304511Z"
=======
     "end_time": "2024-01-30T16:14:09.655490500Z",
     "start_time": "2024-01-30T16:14:09.016077300Z"
>>>>>>> Stashed changes
    }
   },
   "outputs": [],
   "source": [
    "import pandas as pd"
   ]
  },
  {
   "cell_type": "markdown",
   "source": [
    "\n",
    "# 1 - Load Dataset to Memory"
   ],
   "metadata": {
    "collapsed": false
   },
   "id": "8910f024e9a42c16"
  },
  {
   "cell_type": "code",
   "execution_count": 2,
   "outputs": [],
   "source": [
    "file_path = 'super-heroes-dataset/superheroes_nlp_dataset.csv'\n",
    "df = pd.read_csv(file_path)"
   ],
   "metadata": {
    "collapsed": false,
    "ExecuteTime": {
<<<<<<< Updated upstream
     "end_time": "2024-01-30T13:40:33.069658Z",
     "start_time": "2024-01-30T13:40:32.993600Z"
=======
     "end_time": "2024-01-30T16:14:09.779826500Z",
     "start_time": "2024-01-30T16:14:09.658485400Z"
>>>>>>> Stashed changes
    }
   },
   "id": "441b69cb68aecd4a"
  },
  {
   "cell_type": "markdown",
   "source": [
    "\n",
    "# 1.1 - Explore the data (Get more familiar with the data)"
   ],
   "metadata": {
    "collapsed": false
   },
   "id": "4ba1dba1fb0f4d51"
  },
  {
   "cell_type": "code",
   "outputs": [
    {
     "data": {
      "text/plain": "               name               real_name               full_name  \\\n0           3-D Man     Delroy Garrett, Jr.     Delroy Garrett, Jr.   \n1     514A (Gotham)             Bruce Wayne                     NaN   \n2            A-Bomb  Richard Milhouse Jones  Richard Milhouse Jones   \n3                Aa                      Aa                     NaN   \n4        Aaron Cash              Aaron Cash              Aaron Cash   \n...             ...                     ...                     ...   \n1445        Zatanna          Zatanna Zatara          Zatanna Zatara   \n1446           Zero             DWN-∞: Zero             DWN-∞: Zero   \n1447  Zoom (New 52)          Hunter Zolomon                     NaN   \n1448           Zoom          Hunter Zolomon          Hunter Zolomon   \n1449          Zzzax                     NaN                     NaN   \n\n     overall_score                                       history_text  \\\n0                6  Delroy Garrett, Jr. grew up to become a track ...   \n1               10  He was one of the many prisoners of Indian Hil...   \n2               20   Richard \"Rick\" Jones was orphaned at a young ...   \n3               12  Aa is one of the more passive members of the P...   \n4                5  Aaron Cash is the head of security at Arkham A...   \n...            ...                                                ...   \n1445            10  Zatanna is the daughter of adventurer John Zat...   \n1446            18   Zero was created by the late Dr. Albert Wily ...   \n1447            20  Hunter Zolomon is better known as Zoom, a spee...   \n1448             9   Hunter Zolomon had a troubled relationship wi...   \n1449             5  Zzzax was the product of an accident that occu...   \n\n                                            powers_text  intelligence_score  \\\n0                                                   NaN                  85   \n1                                                   NaN                 100   \n2       On rare occasions, and through unusual circu...                  80   \n3                                                   NaN                  80   \n4                                                   NaN                  80   \n...                                                 ...                 ...   \n1445   Zatanna is genetically talented with her magi...                  90   \n1446                                                NaN                  80   \n1447  After tricking Barry Allen and Wally West into...                  95   \n1448  Zoom is able to alter time, to make himself ev...                  75   \n1449                                                NaN                  45   \n\n      strength_score  speed_score  durability_score  ...  has_flight  \\\n0                 30           60                60  ...         0.0   \n1                 20           30                50  ...         0.0   \n2                100           80               100  ...         0.0   \n3                 50           55                45  ...         0.0   \n4                 10           25                40  ...         0.0   \n...              ...          ...               ...  ...         ...   \n1445              10           25                30  ...         0.0   \n1446             100          100               100  ...         0.0   \n1447              50          100                75  ...         0.0   \n1448              10          100                30  ...         0.0   \n1449              80           75                95  ...         1.0   \n\n      has_accelerated_healing has_weapons_master has_intelligence  \\\n0                         0.0                0.0              0.0   \n1                         0.0                0.0              0.0   \n2                         1.0                0.0              0.0   \n3                         0.0                0.0              0.0   \n4                         0.0                1.0              0.0   \n...                       ...                ...              ...   \n1445                      0.0                0.0              0.0   \n1446                      1.0                1.0              1.0   \n1447                      1.0                0.0              1.0   \n1448                      0.0                0.0              0.0   \n1449                      0.0                0.0              0.0   \n\n     has_reflexes has_super_speed has_durability has_stamina has_agility  \\\n0             0.0             1.0            0.0         0.0         0.0   \n1             1.0             0.0            1.0         0.0         0.0   \n2             1.0             1.0            1.0         1.0         1.0   \n3             0.0             0.0            0.0         0.0         0.0   \n4             0.0             0.0            0.0         0.0         0.0   \n...           ...             ...            ...         ...         ...   \n1445          0.0             0.0            0.0         0.0         0.0   \n1446          1.0             1.0            1.0         1.0         1.0   \n1447          1.0             1.0            1.0         1.0         1.0   \n1448          0.0             1.0            0.0         0.0         0.0   \n1449          0.0             1.0            0.0         0.0         1.0   \n\n     has_super_strength  \n0                   1.0  \n1                   1.0  \n2                   1.0  \n3                   0.0  \n4                   0.0  \n...                 ...  \n1445                0.0  \n1446                1.0  \n1447                1.0  \n1448                0.0  \n1449                1.0  \n\n[1450 rows x 81 columns]",
      "text/html": "<div>\n<style scoped>\n    .dataframe tbody tr th:only-of-type {\n        vertical-align: middle;\n    }\n\n    .dataframe tbody tr th {\n        vertical-align: top;\n    }\n\n    .dataframe thead th {\n        text-align: right;\n    }\n</style>\n<table border=\"1\" class=\"dataframe\">\n  <thead>\n    <tr style=\"text-align: right;\">\n      <th></th>\n      <th>name</th>\n      <th>real_name</th>\n      <th>full_name</th>\n      <th>overall_score</th>\n      <th>history_text</th>\n      <th>powers_text</th>\n      <th>intelligence_score</th>\n      <th>strength_score</th>\n      <th>speed_score</th>\n      <th>durability_score</th>\n      <th>...</th>\n      <th>has_flight</th>\n      <th>has_accelerated_healing</th>\n      <th>has_weapons_master</th>\n      <th>has_intelligence</th>\n      <th>has_reflexes</th>\n      <th>has_super_speed</th>\n      <th>has_durability</th>\n      <th>has_stamina</th>\n      <th>has_agility</th>\n      <th>has_super_strength</th>\n    </tr>\n  </thead>\n  <tbody>\n    <tr>\n      <th>0</th>\n      <td>3-D Man</td>\n      <td>Delroy Garrett, Jr.</td>\n      <td>Delroy Garrett, Jr.</td>\n      <td>6</td>\n      <td>Delroy Garrett, Jr. grew up to become a track ...</td>\n      <td>NaN</td>\n      <td>85</td>\n      <td>30</td>\n      <td>60</td>\n      <td>60</td>\n      <td>...</td>\n      <td>0.0</td>\n      <td>0.0</td>\n      <td>0.0</td>\n      <td>0.0</td>\n      <td>0.0</td>\n      <td>1.0</td>\n      <td>0.0</td>\n      <td>0.0</td>\n      <td>0.0</td>\n      <td>1.0</td>\n    </tr>\n    <tr>\n      <th>1</th>\n      <td>514A (Gotham)</td>\n      <td>Bruce Wayne</td>\n      <td>NaN</td>\n      <td>10</td>\n      <td>He was one of the many prisoners of Indian Hil...</td>\n      <td>NaN</td>\n      <td>100</td>\n      <td>20</td>\n      <td>30</td>\n      <td>50</td>\n      <td>...</td>\n      <td>0.0</td>\n      <td>0.0</td>\n      <td>0.0</td>\n      <td>0.0</td>\n      <td>1.0</td>\n      <td>0.0</td>\n      <td>1.0</td>\n      <td>0.0</td>\n      <td>0.0</td>\n      <td>1.0</td>\n    </tr>\n    <tr>\n      <th>2</th>\n      <td>A-Bomb</td>\n      <td>Richard Milhouse Jones</td>\n      <td>Richard Milhouse Jones</td>\n      <td>20</td>\n      <td>Richard \"Rick\" Jones was orphaned at a young ...</td>\n      <td>On rare occasions, and through unusual circu...</td>\n      <td>80</td>\n      <td>100</td>\n      <td>80</td>\n      <td>100</td>\n      <td>...</td>\n      <td>0.0</td>\n      <td>1.0</td>\n      <td>0.0</td>\n      <td>0.0</td>\n      <td>1.0</td>\n      <td>1.0</td>\n      <td>1.0</td>\n      <td>1.0</td>\n      <td>1.0</td>\n      <td>1.0</td>\n    </tr>\n    <tr>\n      <th>3</th>\n      <td>Aa</td>\n      <td>Aa</td>\n      <td>NaN</td>\n      <td>12</td>\n      <td>Aa is one of the more passive members of the P...</td>\n      <td>NaN</td>\n      <td>80</td>\n      <td>50</td>\n      <td>55</td>\n      <td>45</td>\n      <td>...</td>\n      <td>0.0</td>\n      <td>0.0</td>\n      <td>0.0</td>\n      <td>0.0</td>\n      <td>0.0</td>\n      <td>0.0</td>\n      <td>0.0</td>\n      <td>0.0</td>\n      <td>0.0</td>\n      <td>0.0</td>\n    </tr>\n    <tr>\n      <th>4</th>\n      <td>Aaron Cash</td>\n      <td>Aaron Cash</td>\n      <td>Aaron Cash</td>\n      <td>5</td>\n      <td>Aaron Cash is the head of security at Arkham A...</td>\n      <td>NaN</td>\n      <td>80</td>\n      <td>10</td>\n      <td>25</td>\n      <td>40</td>\n      <td>...</td>\n      <td>0.0</td>\n      <td>0.0</td>\n      <td>1.0</td>\n      <td>0.0</td>\n      <td>0.0</td>\n      <td>0.0</td>\n      <td>0.0</td>\n      <td>0.0</td>\n      <td>0.0</td>\n      <td>0.0</td>\n    </tr>\n    <tr>\n      <th>...</th>\n      <td>...</td>\n      <td>...</td>\n      <td>...</td>\n      <td>...</td>\n      <td>...</td>\n      <td>...</td>\n      <td>...</td>\n      <td>...</td>\n      <td>...</td>\n      <td>...</td>\n      <td>...</td>\n      <td>...</td>\n      <td>...</td>\n      <td>...</td>\n      <td>...</td>\n      <td>...</td>\n      <td>...</td>\n      <td>...</td>\n      <td>...</td>\n      <td>...</td>\n      <td>...</td>\n    </tr>\n    <tr>\n      <th>1445</th>\n      <td>Zatanna</td>\n      <td>Zatanna Zatara</td>\n      <td>Zatanna Zatara</td>\n      <td>10</td>\n      <td>Zatanna is the daughter of adventurer John Zat...</td>\n      <td>Zatanna is genetically talented with her magi...</td>\n      <td>90</td>\n      <td>10</td>\n      <td>25</td>\n      <td>30</td>\n      <td>...</td>\n      <td>0.0</td>\n      <td>0.0</td>\n      <td>0.0</td>\n      <td>0.0</td>\n      <td>0.0</td>\n      <td>0.0</td>\n      <td>0.0</td>\n      <td>0.0</td>\n      <td>0.0</td>\n      <td>0.0</td>\n    </tr>\n    <tr>\n      <th>1446</th>\n      <td>Zero</td>\n      <td>DWN-∞: Zero</td>\n      <td>DWN-∞: Zero</td>\n      <td>18</td>\n      <td>Zero was created by the late Dr. Albert Wily ...</td>\n      <td>NaN</td>\n      <td>80</td>\n      <td>100</td>\n      <td>100</td>\n      <td>100</td>\n      <td>...</td>\n      <td>0.0</td>\n      <td>1.0</td>\n      <td>1.0</td>\n      <td>1.0</td>\n      <td>1.0</td>\n      <td>1.0</td>\n      <td>1.0</td>\n      <td>1.0</td>\n      <td>1.0</td>\n      <td>1.0</td>\n    </tr>\n    <tr>\n      <th>1447</th>\n      <td>Zoom (New 52)</td>\n      <td>Hunter Zolomon</td>\n      <td>NaN</td>\n      <td>20</td>\n      <td>Hunter Zolomon is better known as Zoom, a spee...</td>\n      <td>After tricking Barry Allen and Wally West into...</td>\n      <td>95</td>\n      <td>50</td>\n      <td>100</td>\n      <td>75</td>\n      <td>...</td>\n      <td>0.0</td>\n      <td>1.0</td>\n      <td>0.0</td>\n      <td>1.0</td>\n      <td>1.0</td>\n      <td>1.0</td>\n      <td>1.0</td>\n      <td>1.0</td>\n      <td>1.0</td>\n      <td>1.0</td>\n    </tr>\n    <tr>\n      <th>1448</th>\n      <td>Zoom</td>\n      <td>Hunter Zolomon</td>\n      <td>Hunter Zolomon</td>\n      <td>9</td>\n      <td>Hunter Zolomon had a troubled relationship wi...</td>\n      <td>Zoom is able to alter time, to make himself ev...</td>\n      <td>75</td>\n      <td>10</td>\n      <td>100</td>\n      <td>30</td>\n      <td>...</td>\n      <td>0.0</td>\n      <td>0.0</td>\n      <td>0.0</td>\n      <td>0.0</td>\n      <td>0.0</td>\n      <td>1.0</td>\n      <td>0.0</td>\n      <td>0.0</td>\n      <td>0.0</td>\n      <td>0.0</td>\n    </tr>\n    <tr>\n      <th>1449</th>\n      <td>Zzzax</td>\n      <td>NaN</td>\n      <td>NaN</td>\n      <td>5</td>\n      <td>Zzzax was the product of an accident that occu...</td>\n      <td>NaN</td>\n      <td>45</td>\n      <td>80</td>\n      <td>75</td>\n      <td>95</td>\n      <td>...</td>\n      <td>1.0</td>\n      <td>0.0</td>\n      <td>0.0</td>\n      <td>0.0</td>\n      <td>0.0</td>\n      <td>1.0</td>\n      <td>0.0</td>\n      <td>0.0</td>\n      <td>1.0</td>\n      <td>1.0</td>\n    </tr>\n  </tbody>\n</table>\n<p>1450 rows × 81 columns</p>\n</div>"
     },
     "execution_count": 3,
     "metadata": {},
     "output_type": "execute_result"
    }
   ],
   "source": [
    "# Print the top few instances\n",
    "df"
   ],
   "metadata": {
    "collapsed": false,
    "ExecuteTime": {
<<<<<<< Updated upstream
     "end_time": "2024-01-30T13:40:33.095908Z",
     "start_time": "2024-01-30T13:40:33.074676Z"
=======
     "end_time": "2024-01-30T16:14:09.827033800Z",
     "start_time": "2024-01-30T16:14:09.782819600Z"
>>>>>>> Stashed changes
    }
   },
   "id": "5d94b63ade7a984e",
   "execution_count": 3
  },
  {
   "cell_type": "code",
   "outputs": [
    {
     "data": {
      "text/plain": "name                   object\nreal_name              object\nfull_name              object\noverall_score          object\nhistory_text           object\n                       ...   \nhas_super_speed       float64\nhas_durability        float64\nhas_stamina           float64\nhas_agility           float64\nhas_super_strength    float64\nLength: 81, dtype: object"
     },
     "execution_count": 4,
     "metadata": {},
     "output_type": "execute_result"
    }
   ],
   "source": [
    "# Print the data types to get more familiar with the data\n",
    "df.dtypes"
   ],
   "metadata": {
    "collapsed": false,
    "ExecuteTime": {
<<<<<<< Updated upstream
     "end_time": "2024-01-30T13:40:33.096872Z",
     "start_time": "2024-01-30T13:40:33.093371Z"
=======
     "end_time": "2024-01-30T16:14:09.895455100Z",
     "start_time": "2024-01-30T16:14:09.832019900Z"
>>>>>>> Stashed changes
    }
   },
   "id": "53555a4cc029ffeb",
   "execution_count": 4
  },
  {
   "cell_type": "code",
   "outputs": [
    {
     "data": {
      "text/plain": "(1450, 81)"
     },
     "execution_count": 5,
     "metadata": {},
     "output_type": "execute_result"
    }
   ],
   "source": [
    "# Print the amount of data\n",
    "df.shape"
   ],
   "metadata": {
    "collapsed": false,
    "ExecuteTime": {
<<<<<<< Updated upstream
     "end_time": "2024-01-30T13:40:33.103336Z",
     "start_time": "2024-01-30T13:40:33.097166Z"
=======
     "end_time": "2024-01-30T16:14:09.916401400Z",
     "start_time": "2024-01-30T16:14:09.859946400Z"
>>>>>>> Stashed changes
    }
   },
   "id": "aa34ad1147e9200b",
   "execution_count": 5
  },
  {
   "cell_type": "code",
   "outputs": [
    {
     "data": {
      "text/plain": "            name               real_name               full_name  \\\n0        3-D Man     Delroy Garrett, Jr.     Delroy Garrett, Jr.   \n1  514A (Gotham)             Bruce Wayne                     NaN   \n2         A-Bomb  Richard Milhouse Jones  Richard Milhouse Jones   \n3             Aa                      Aa                     NaN   \n4     Aaron Cash              Aaron Cash              Aaron Cash   \n\n  overall_score                                       history_text  \\\n0             6  Delroy Garrett, Jr. grew up to become a track ...   \n1            10  He was one of the many prisoners of Indian Hil...   \n2            20   Richard \"Rick\" Jones was orphaned at a young ...   \n3            12  Aa is one of the more passive members of the P...   \n4             5  Aaron Cash is the head of security at Arkham A...   \n\n                                         powers_text  intelligence_score  \\\n0                                                NaN                  85   \n1                                                NaN                 100   \n2    On rare occasions, and through unusual circu...                  80   \n3                                                NaN                  80   \n4                                                NaN                  80   \n\n   strength_score  speed_score  durability_score  ...  has_flight  \\\n0              30           60                60  ...         0.0   \n1              20           30                50  ...         0.0   \n2             100           80               100  ...         0.0   \n3              50           55                45  ...         0.0   \n4              10           25                40  ...         0.0   \n\n   has_accelerated_healing has_weapons_master has_intelligence has_reflexes  \\\n0                      0.0                0.0              0.0          0.0   \n1                      0.0                0.0              0.0          1.0   \n2                      1.0                0.0              0.0          1.0   \n3                      0.0                0.0              0.0          0.0   \n4                      0.0                1.0              0.0          0.0   \n\n  has_super_speed has_durability has_stamina has_agility has_super_strength  \n0             1.0            0.0         0.0         0.0                1.0  \n1             0.0            1.0         0.0         0.0                1.0  \n2             1.0            1.0         1.0         1.0                1.0  \n3             0.0            0.0         0.0         0.0                0.0  \n4             0.0            0.0         0.0         0.0                0.0  \n\n[5 rows x 81 columns]",
      "text/html": "<div>\n<style scoped>\n    .dataframe tbody tr th:only-of-type {\n        vertical-align: middle;\n    }\n\n    .dataframe tbody tr th {\n        vertical-align: top;\n    }\n\n    .dataframe thead th {\n        text-align: right;\n    }\n</style>\n<table border=\"1\" class=\"dataframe\">\n  <thead>\n    <tr style=\"text-align: right;\">\n      <th></th>\n      <th>name</th>\n      <th>real_name</th>\n      <th>full_name</th>\n      <th>overall_score</th>\n      <th>history_text</th>\n      <th>powers_text</th>\n      <th>intelligence_score</th>\n      <th>strength_score</th>\n      <th>speed_score</th>\n      <th>durability_score</th>\n      <th>...</th>\n      <th>has_flight</th>\n      <th>has_accelerated_healing</th>\n      <th>has_weapons_master</th>\n      <th>has_intelligence</th>\n      <th>has_reflexes</th>\n      <th>has_super_speed</th>\n      <th>has_durability</th>\n      <th>has_stamina</th>\n      <th>has_agility</th>\n      <th>has_super_strength</th>\n    </tr>\n  </thead>\n  <tbody>\n    <tr>\n      <th>0</th>\n      <td>3-D Man</td>\n      <td>Delroy Garrett, Jr.</td>\n      <td>Delroy Garrett, Jr.</td>\n      <td>6</td>\n      <td>Delroy Garrett, Jr. grew up to become a track ...</td>\n      <td>NaN</td>\n      <td>85</td>\n      <td>30</td>\n      <td>60</td>\n      <td>60</td>\n      <td>...</td>\n      <td>0.0</td>\n      <td>0.0</td>\n      <td>0.0</td>\n      <td>0.0</td>\n      <td>0.0</td>\n      <td>1.0</td>\n      <td>0.0</td>\n      <td>0.0</td>\n      <td>0.0</td>\n      <td>1.0</td>\n    </tr>\n    <tr>\n      <th>1</th>\n      <td>514A (Gotham)</td>\n      <td>Bruce Wayne</td>\n      <td>NaN</td>\n      <td>10</td>\n      <td>He was one of the many prisoners of Indian Hil...</td>\n      <td>NaN</td>\n      <td>100</td>\n      <td>20</td>\n      <td>30</td>\n      <td>50</td>\n      <td>...</td>\n      <td>0.0</td>\n      <td>0.0</td>\n      <td>0.0</td>\n      <td>0.0</td>\n      <td>1.0</td>\n      <td>0.0</td>\n      <td>1.0</td>\n      <td>0.0</td>\n      <td>0.0</td>\n      <td>1.0</td>\n    </tr>\n    <tr>\n      <th>2</th>\n      <td>A-Bomb</td>\n      <td>Richard Milhouse Jones</td>\n      <td>Richard Milhouse Jones</td>\n      <td>20</td>\n      <td>Richard \"Rick\" Jones was orphaned at a young ...</td>\n      <td>On rare occasions, and through unusual circu...</td>\n      <td>80</td>\n      <td>100</td>\n      <td>80</td>\n      <td>100</td>\n      <td>...</td>\n      <td>0.0</td>\n      <td>1.0</td>\n      <td>0.0</td>\n      <td>0.0</td>\n      <td>1.0</td>\n      <td>1.0</td>\n      <td>1.0</td>\n      <td>1.0</td>\n      <td>1.0</td>\n      <td>1.0</td>\n    </tr>\n    <tr>\n      <th>3</th>\n      <td>Aa</td>\n      <td>Aa</td>\n      <td>NaN</td>\n      <td>12</td>\n      <td>Aa is one of the more passive members of the P...</td>\n      <td>NaN</td>\n      <td>80</td>\n      <td>50</td>\n      <td>55</td>\n      <td>45</td>\n      <td>...</td>\n      <td>0.0</td>\n      <td>0.0</td>\n      <td>0.0</td>\n      <td>0.0</td>\n      <td>0.0</td>\n      <td>0.0</td>\n      <td>0.0</td>\n      <td>0.0</td>\n      <td>0.0</td>\n      <td>0.0</td>\n    </tr>\n    <tr>\n      <th>4</th>\n      <td>Aaron Cash</td>\n      <td>Aaron Cash</td>\n      <td>Aaron Cash</td>\n      <td>5</td>\n      <td>Aaron Cash is the head of security at Arkham A...</td>\n      <td>NaN</td>\n      <td>80</td>\n      <td>10</td>\n      <td>25</td>\n      <td>40</td>\n      <td>...</td>\n      <td>0.0</td>\n      <td>0.0</td>\n      <td>1.0</td>\n      <td>0.0</td>\n      <td>0.0</td>\n      <td>0.0</td>\n      <td>0.0</td>\n      <td>0.0</td>\n      <td>0.0</td>\n      <td>0.0</td>\n    </tr>\n  </tbody>\n</table>\n<p>5 rows × 81 columns</p>\n</div>"
     },
     "execution_count": 6,
     "metadata": {},
     "output_type": "execute_result"
    }
   ],
   "source": [
    "# Another way to print the top few instances\n",
    "df.head()"
   ],
   "metadata": {
    "collapsed": false,
    "ExecuteTime": {
<<<<<<< Updated upstream
     "end_time": "2024-01-30T13:40:33.110081Z",
     "start_time": "2024-01-30T13:40:33.106560Z"
=======
     "end_time": "2024-01-30T16:14:09.961281Z",
     "start_time": "2024-01-30T16:14:09.875905400Z"
>>>>>>> Stashed changes
    }
   },
   "id": "7b5610e655327439",
   "execution_count": 6
  },
  {
   "cell_type": "code",
   "outputs": [
    {
     "data": {
      "text/plain": "(615, 81)"
     },
     "execution_count": 7,
     "metadata": {},
     "output_type": "execute_result"
    }
   ],
   "source": [
    "# Filter the data to play with it and understand it better\n",
    "df[df['creator'] == 'Marvel Comics'].shape"
   ],
   "metadata": {
    "collapsed": false,
    "ExecuteTime": {
<<<<<<< Updated upstream
     "end_time": "2024-01-30T13:40:33.145266Z",
     "start_time": "2024-01-30T13:40:33.110777Z"
=======
     "end_time": "2024-01-30T16:14:09.978235900Z",
     "start_time": "2024-01-30T16:14:09.909420100Z"
>>>>>>> Stashed changes
    }
   },
   "id": "283b45bfdb6dfe90",
   "execution_count": 7
  },
  {
   "cell_type": "code",
   "outputs": [
    {
     "data": {
      "text/plain": "                   name               real_name               full_name  \\\n0               3-D Man     Delroy Garrett, Jr.     Delroy Garrett, Jr.   \n2                A-Bomb  Richard Milhouse Jones  Richard Milhouse Jones   \n8           Abomination            Emil Blonsky            Emil Blonsky   \n11              Abraxas                 Abraxas                 Abraxas   \n12  Absorbing Man (MCU)              Carl Creel              Carl Creel   \n\n   overall_score                                       history_text  \\\n0              6  Delroy Garrett, Jr. grew up to become a track ...   \n2             20   Richard \"Rick\" Jones was orphaned at a young ...   \n8             22  Formerly known as Emil Blonsky, a spy of Sovie...   \n11             ∞  Born within the abstract entity Eternity, Abra...   \n12             8  Carl \"Crusher\" Creel was an enhanced individua...   \n\n                                          powers_text  intelligence_score  \\\n0                                                 NaN                  85   \n2     On rare occasions, and through unusual circu...                  80   \n8   'Blonsky''s transformation into the Abominatio...                  85   \n11  As antithesis to the cosmic entity Eternity, A...                 100   \n12   Carl Creel was able to duplicate at will the ...                  75   \n\n    strength_score  speed_score  durability_score  ...  has_flight  \\\n0               30           60                60  ...         0.0   \n2              100           80               100  ...         0.0   \n8              100           80                90  ...         0.0   \n11             100          100               100  ...         1.0   \n12              15           30                40  ...         0.0   \n\n    has_accelerated_healing has_weapons_master has_intelligence has_reflexes  \\\n0                       0.0                0.0              0.0          0.0   \n2                       1.0                0.0              0.0          1.0   \n8                       1.0                0.0              1.0          0.0   \n11                      0.0                0.0              1.0          0.0   \n12                      0.0                0.0              0.0          0.0   \n\n   has_super_speed has_durability has_stamina has_agility has_super_strength  \n0              1.0            0.0         0.0         0.0                1.0  \n2              1.0            1.0         1.0         1.0                1.0  \n8              1.0            1.0         1.0         1.0                1.0  \n11             1.0            1.0         1.0         0.0                1.0  \n12             0.0            1.0         1.0         1.0                1.0  \n\n[5 rows x 81 columns]",
      "text/html": "<div>\n<style scoped>\n    .dataframe tbody tr th:only-of-type {\n        vertical-align: middle;\n    }\n\n    .dataframe tbody tr th {\n        vertical-align: top;\n    }\n\n    .dataframe thead th {\n        text-align: right;\n    }\n</style>\n<table border=\"1\" class=\"dataframe\">\n  <thead>\n    <tr style=\"text-align: right;\">\n      <th></th>\n      <th>name</th>\n      <th>real_name</th>\n      <th>full_name</th>\n      <th>overall_score</th>\n      <th>history_text</th>\n      <th>powers_text</th>\n      <th>intelligence_score</th>\n      <th>strength_score</th>\n      <th>speed_score</th>\n      <th>durability_score</th>\n      <th>...</th>\n      <th>has_flight</th>\n      <th>has_accelerated_healing</th>\n      <th>has_weapons_master</th>\n      <th>has_intelligence</th>\n      <th>has_reflexes</th>\n      <th>has_super_speed</th>\n      <th>has_durability</th>\n      <th>has_stamina</th>\n      <th>has_agility</th>\n      <th>has_super_strength</th>\n    </tr>\n  </thead>\n  <tbody>\n    <tr>\n      <th>0</th>\n      <td>3-D Man</td>\n      <td>Delroy Garrett, Jr.</td>\n      <td>Delroy Garrett, Jr.</td>\n      <td>6</td>\n      <td>Delroy Garrett, Jr. grew up to become a track ...</td>\n      <td>NaN</td>\n      <td>85</td>\n      <td>30</td>\n      <td>60</td>\n      <td>60</td>\n      <td>...</td>\n      <td>0.0</td>\n      <td>0.0</td>\n      <td>0.0</td>\n      <td>0.0</td>\n      <td>0.0</td>\n      <td>1.0</td>\n      <td>0.0</td>\n      <td>0.0</td>\n      <td>0.0</td>\n      <td>1.0</td>\n    </tr>\n    <tr>\n      <th>2</th>\n      <td>A-Bomb</td>\n      <td>Richard Milhouse Jones</td>\n      <td>Richard Milhouse Jones</td>\n      <td>20</td>\n      <td>Richard \"Rick\" Jones was orphaned at a young ...</td>\n      <td>On rare occasions, and through unusual circu...</td>\n      <td>80</td>\n      <td>100</td>\n      <td>80</td>\n      <td>100</td>\n      <td>...</td>\n      <td>0.0</td>\n      <td>1.0</td>\n      <td>0.0</td>\n      <td>0.0</td>\n      <td>1.0</td>\n      <td>1.0</td>\n      <td>1.0</td>\n      <td>1.0</td>\n      <td>1.0</td>\n      <td>1.0</td>\n    </tr>\n    <tr>\n      <th>8</th>\n      <td>Abomination</td>\n      <td>Emil Blonsky</td>\n      <td>Emil Blonsky</td>\n      <td>22</td>\n      <td>Formerly known as Emil Blonsky, a spy of Sovie...</td>\n      <td>'Blonsky''s transformation into the Abominatio...</td>\n      <td>85</td>\n      <td>100</td>\n      <td>80</td>\n      <td>90</td>\n      <td>...</td>\n      <td>0.0</td>\n      <td>1.0</td>\n      <td>0.0</td>\n      <td>1.0</td>\n      <td>0.0</td>\n      <td>1.0</td>\n      <td>1.0</td>\n      <td>1.0</td>\n      <td>1.0</td>\n      <td>1.0</td>\n    </tr>\n    <tr>\n      <th>11</th>\n      <td>Abraxas</td>\n      <td>Abraxas</td>\n      <td>Abraxas</td>\n      <td>∞</td>\n      <td>Born within the abstract entity Eternity, Abra...</td>\n      <td>As antithesis to the cosmic entity Eternity, A...</td>\n      <td>100</td>\n      <td>100</td>\n      <td>100</td>\n      <td>100</td>\n      <td>...</td>\n      <td>1.0</td>\n      <td>0.0</td>\n      <td>0.0</td>\n      <td>1.0</td>\n      <td>0.0</td>\n      <td>1.0</td>\n      <td>1.0</td>\n      <td>1.0</td>\n      <td>0.0</td>\n      <td>1.0</td>\n    </tr>\n    <tr>\n      <th>12</th>\n      <td>Absorbing Man (MCU)</td>\n      <td>Carl Creel</td>\n      <td>Carl Creel</td>\n      <td>8</td>\n      <td>Carl \"Crusher\" Creel was an enhanced individua...</td>\n      <td>Carl Creel was able to duplicate at will the ...</td>\n      <td>75</td>\n      <td>15</td>\n      <td>30</td>\n      <td>40</td>\n      <td>...</td>\n      <td>0.0</td>\n      <td>0.0</td>\n      <td>0.0</td>\n      <td>0.0</td>\n      <td>0.0</td>\n      <td>0.0</td>\n      <td>1.0</td>\n      <td>1.0</td>\n      <td>1.0</td>\n      <td>1.0</td>\n    </tr>\n  </tbody>\n</table>\n<p>5 rows × 81 columns</p>\n</div>"
     },
     "execution_count": 8,
     "metadata": {},
     "output_type": "execute_result"
    }
   ],
   "source": [
    "# Filter the data to play with it and understand it better\n",
    "df[df['creator']=='Marvel Comics'].head()"
   ],
   "metadata": {
    "collapsed": false,
    "ExecuteTime": {
<<<<<<< Updated upstream
     "end_time": "2024-01-30T13:40:33.160446Z",
     "start_time": "2024-01-30T13:40:33.114069Z"
=======
     "end_time": "2024-01-30T16:14:09.986230600Z",
     "start_time": "2024-01-30T16:14:09.939339600Z"
>>>>>>> Stashed changes
    }
   },
   "id": "d1ab6325639eb03d",
   "execution_count": 8
  },
  {
   "cell_type": "markdown",
   "source": [
    "# 2 - Adjust the dataset to train / test set structure"
   ],
   "metadata": {
    "collapsed": false
   },
   "id": "30b4bab39ba490a1"
  },
  {
   "cell_type": "markdown",
   "source": [
    "2.1. Create the input data\n",
    "Combine the textual columns into one column"
   ],
   "metadata": {
    "collapsed": false
   },
   "id": "e56f3edbf585ced8"
  },
  {
   "cell_type": "code",
   "outputs": [],
   "source": [
    "# The list columns that needs to be combined\n",
    "text_columns = ['history_text', 'powers_text']\n",
    "\n",
    "# The two textual columns are  combined into a new column called 'combined_text'. Missing values in these columns are filled with empty strings before combining.\n",
    "# The .agg(' '.join, axis=1) concatenates the text from the two columns with a space in between.\n",
    "df['combined_text'] = df[text_columns].fillna('').agg(' '.join, axis=1).astype(str)"
   ],
   "metadata": {
    "collapsed": false,
    "ExecuteTime": {
<<<<<<< Updated upstream
     "end_time": "2024-01-30T13:40:33.192001Z",
     "start_time": "2024-01-30T13:40:33.133210Z"
=======
     "end_time": "2024-01-30T16:14:10.040584500Z",
     "start_time": "2024-01-30T16:14:09.970257100Z"
>>>>>>> Stashed changes
    }
   },
   "id": "cf6d6ccf2954b202",
   "execution_count": 9
  },
  {
   "cell_type": "markdown",
   "source": [
    "2.2. Create a binary target column"
   ],
   "metadata": {
    "collapsed": false
   },
   "id": "f96429f8c06274fe"
  },
  {
   "cell_type": "code",
   "outputs": [],
   "source": [
    "# This line creates a new column 'is_marvel', which is a binary indicator (1 or 0). It's set to 1 if the creator of the superhero is 'Marvel Comics', otherwise 0. This is done using the .apply() method with a lambda function.\n",
    "\n",
    "# A lambda function, often referred to as an anonymous function, is a small, unnamed function defined with the lambda keyword in Python. Unlike a regular function defined using def, a lambda function is typically a single expression with a concise syntax. Lambda functions are especially useful when you need a simple function for a short period and where it might feel overkill to define a full function using def.\n",
    "df['is_marvel'] = df['creator'].apply(lambda x: 1 if x == 'Marvel Comics' else 0)"
   ],
   "metadata": {
    "collapsed": false,
    "ExecuteTime": {
<<<<<<< Updated upstream
     "end_time": "2024-01-30T13:40:33.192589Z",
     "start_time": "2024-01-30T13:40:33.136697Z"
=======
     "end_time": "2024-01-30T16:14:10.117671200Z",
     "start_time": "2024-01-30T16:14:10.011663100Z"
>>>>>>> Stashed changes
    }
   },
   "id": "52e857a09904dfa1",
   "execution_count": 10
  },
  {
   "cell_type": "markdown",
   "source": [
    "# 3. Split the dataset into train set and test set"
   ],
   "metadata": {
    "collapsed": false
   },
   "id": "3b4bfc0a9c7e5b77"
  },
  {
   "cell_type": "code",
   "execution_count": 11,
   "outputs": [],
   "source": [
    "# This code splits the dataset into training and test sets, with 20% of the data reserved for testing. The split is done using train_test_split with a random state for reproducibility.\n",
    "\n",
    "# The random_state parameter in the train_test_split function from Scikit-learn is used to control the randomness of the split into training and test sets.\n",
    "from sklearn.model_selection import train_test_split\n",
    "X_train, X_test, y_train, y_test = (\n",
    "    train_test_split(df['combined_text'], df['is_marvel'],\n",
    "                     test_size=0.2,\n",
    "                     random_state=42))"
   ],
   "metadata": {
    "collapsed": false,
    "ExecuteTime": {
<<<<<<< Updated upstream
     "end_time": "2024-01-30T13:40:36.998993Z",
     "start_time": "2024-01-30T13:40:33.140026Z"
=======
     "end_time": "2024-01-30T16:14:11.151953200Z",
     "start_time": "2024-01-30T16:14:10.033603100Z"
>>>>>>> Stashed changes
    }
   },
   "id": "4c0ebbbcfd63648d"
  },
  {
   "cell_type": "markdown",
   "source": [
    "# 4 & 5 - Feature Extraction and Classification"
   ],
   "metadata": {
    "collapsed": false
   },
   "id": "7b79268cbad7efa2"
  },
  {
   "cell_type": "code",
   "outputs": [],
   "source": [
    "from sklearn.feature_extraction.text import TfidfVectorizer\n",
    "from sklearn.feature_extraction.text import CountVectorizer\n",
    "from sklearn.linear_model import LogisticRegression\n",
    "from sklearn.tree import DecisionTreeClassifier\n",
    "from sklearn.pipeline import Pipeline"
   ],
   "metadata": {
    "collapsed": false,
    "ExecuteTime": {
<<<<<<< Updated upstream
     "end_time": "2024-01-30T13:40:37.657334Z",
     "start_time": "2024-01-30T13:40:37.000025Z"
=======
     "end_time": "2024-01-30T16:14:11.615022600Z",
     "start_time": "2024-01-30T16:14:11.154943700Z"
>>>>>>> Stashed changes
    }
   },
   "id": "9bd1b93aa0f5c913",
   "execution_count": 12
  },
  {
   "cell_type": "code",
   "outputs": [],
   "source": [
    "pipeline = Pipeline([\n",
    "    # --- FEATURE EXTRACTION ---\n",
    "    # Case 1: Number of features\n",
    "    #('bow', CountVectorizer(max_features=100)),\n",
    "\n",
    "    # Case 2: Lower case usage\n",
    "    #('bow', CountVectorizer(lowercase=True)),\n",
    "\n",
    "    # Case 3: Stopwords\n",
    "    #('bow', CountVectorizer(lowercase=True, stop_words='english')),\n",
    "\n",
    "    # Case 4: Ngram\n",
    "    ('bow', CountVectorizer(ngram_range=(1, 3))),\n",
    "\n",
    "    # Case 5: TF / IDF\n",
    "    #('tfidf', TfidfVectorizer()),\n",
    "\n",
    "    # Case 6: TF / IDF + Ngrams + Stopwords\n",
    "    #('tfidf', TfidfVectorizer(stop_words=\"english\", ngram_range=(1, 3))),\n",
    "\n",
    "    # Case 7: TF / IDF + longer Ngrams + Stopwords\n",
    "    #('tfidf', TfidfVectorizer(ngram_range=(1, 5))),\n",
    "\n",
    "    # --- CLASSIFICATION ---\n",
    "    ('lr', LogisticRegression())\n",
    "    #('dt', DecisionTreeClassifier())\n",
    "])"
   ],
   "metadata": {
    "collapsed": false,
    "ExecuteTime": {
<<<<<<< Updated upstream
     "end_time": "2024-01-30T13:40:37.661987Z",
     "start_time": "2024-01-30T13:40:37.656894Z"
=======
     "end_time": "2024-01-30T16:14:11.631977300Z",
     "start_time": "2024-01-30T16:14:11.618014400Z"
>>>>>>> Stashed changes
    }
   },
   "id": "d413d9c0c046921c",
   "execution_count": 13
  },
  {
   "cell_type": "markdown",
   "source": [
    "# 6 - Train the model"
   ],
   "metadata": {
    "collapsed": false
   },
   "id": "14c1a98e23388238"
  },
  {
   "cell_type": "markdown",
   "source": [],
   "metadata": {
    "collapsed": false
   },
   "id": "ae2e48db10e6ff8a"
  },
  {
   "cell_type": "code",
   "outputs": [
    {
<<<<<<< Updated upstream
=======
     "name": "stderr",
     "output_type": "stream",
     "text": [
      "C:\\Users\\yairli\\ai-nlp-2023-2024\\venv\\lib\\site-packages\\sklearn\\linear_model\\_logistic.py:460: ConvergenceWarning: lbfgs failed to converge (status=1):\n",
      "STOP: TOTAL NO. of ITERATIONS REACHED LIMIT.\n",
      "\n",
      "Increase the number of iterations (max_iter) or scale the data as shown in:\n",
      "    https://scikit-learn.org/stable/modules/preprocessing.html\n",
      "Please also refer to the documentation for alternative solver options:\n",
      "    https://scikit-learn.org/stable/modules/linear_model.html#logistic-regression\n",
      "  n_iter_i = _check_optimize_result(\n"
     ]
    },
    {
>>>>>>> Stashed changes
     "data": {
      "text/plain": "Pipeline(steps=[('bow', CountVectorizer(ngram_range=(1, 3))),\n                ('lr', LogisticRegression())])",
      "text/html": "<style>#sk-container-id-1 {color: black;}#sk-container-id-1 pre{padding: 0;}#sk-container-id-1 div.sk-toggleable {background-color: white;}#sk-container-id-1 label.sk-toggleable__label {cursor: pointer;display: block;width: 100%;margin-bottom: 0;padding: 0.3em;box-sizing: border-box;text-align: center;}#sk-container-id-1 label.sk-toggleable__label-arrow:before {content: \"▸\";float: left;margin-right: 0.25em;color: #696969;}#sk-container-id-1 label.sk-toggleable__label-arrow:hover:before {color: black;}#sk-container-id-1 div.sk-estimator:hover label.sk-toggleable__label-arrow:before {color: black;}#sk-container-id-1 div.sk-toggleable__content {max-height: 0;max-width: 0;overflow: hidden;text-align: left;background-color: #f0f8ff;}#sk-container-id-1 div.sk-toggleable__content pre {margin: 0.2em;color: black;border-radius: 0.25em;background-color: #f0f8ff;}#sk-container-id-1 input.sk-toggleable__control:checked~div.sk-toggleable__content {max-height: 200px;max-width: 100%;overflow: auto;}#sk-container-id-1 input.sk-toggleable__control:checked~label.sk-toggleable__label-arrow:before {content: \"▾\";}#sk-container-id-1 div.sk-estimator input.sk-toggleable__control:checked~label.sk-toggleable__label {background-color: #d4ebff;}#sk-container-id-1 div.sk-label input.sk-toggleable__control:checked~label.sk-toggleable__label {background-color: #d4ebff;}#sk-container-id-1 input.sk-hidden--visually {border: 0;clip: rect(1px 1px 1px 1px);clip: rect(1px, 1px, 1px, 1px);height: 1px;margin: -1px;overflow: hidden;padding: 0;position: absolute;width: 1px;}#sk-container-id-1 div.sk-estimator {font-family: monospace;background-color: #f0f8ff;border: 1px dotted black;border-radius: 0.25em;box-sizing: border-box;margin-bottom: 0.5em;}#sk-container-id-1 div.sk-estimator:hover {background-color: #d4ebff;}#sk-container-id-1 div.sk-parallel-item::after {content: \"\";width: 100%;border-bottom: 1px solid gray;flex-grow: 1;}#sk-container-id-1 div.sk-label:hover label.sk-toggleable__label {background-color: #d4ebff;}#sk-container-id-1 div.sk-serial::before {content: \"\";position: absolute;border-left: 1px solid gray;box-sizing: border-box;top: 0;bottom: 0;left: 50%;z-index: 0;}#sk-container-id-1 div.sk-serial {display: flex;flex-direction: column;align-items: center;background-color: white;padding-right: 0.2em;padding-left: 0.2em;position: relative;}#sk-container-id-1 div.sk-item {position: relative;z-index: 1;}#sk-container-id-1 div.sk-parallel {display: flex;align-items: stretch;justify-content: center;background-color: white;position: relative;}#sk-container-id-1 div.sk-item::before, #sk-container-id-1 div.sk-parallel-item::before {content: \"\";position: absolute;border-left: 1px solid gray;box-sizing: border-box;top: 0;bottom: 0;left: 50%;z-index: -1;}#sk-container-id-1 div.sk-parallel-item {display: flex;flex-direction: column;z-index: 1;position: relative;background-color: white;}#sk-container-id-1 div.sk-parallel-item:first-child::after {align-self: flex-end;width: 50%;}#sk-container-id-1 div.sk-parallel-item:last-child::after {align-self: flex-start;width: 50%;}#sk-container-id-1 div.sk-parallel-item:only-child::after {width: 0;}#sk-container-id-1 div.sk-dashed-wrapped {border: 1px dashed gray;margin: 0 0.4em 0.5em 0.4em;box-sizing: border-box;padding-bottom: 0.4em;background-color: white;}#sk-container-id-1 div.sk-label label {font-family: monospace;font-weight: bold;display: inline-block;line-height: 1.2em;}#sk-container-id-1 div.sk-label-container {text-align: center;}#sk-container-id-1 div.sk-container {/* jupyter's `normalize.less` sets `[hidden] { display: none; }` but bootstrap.min.css set `[hidden] { display: none !important; }` so we also need the `!important` here to be able to override the default hidden behavior on the sphinx rendered scikit-learn.org. See: https://github.com/scikit-learn/scikit-learn/issues/21755 */display: inline-block !important;position: relative;}#sk-container-id-1 div.sk-text-repr-fallback {display: none;}</style><div id=\"sk-container-id-1\" class=\"sk-top-container\"><div class=\"sk-text-repr-fallback\"><pre>Pipeline(steps=[(&#x27;bow&#x27;, CountVectorizer(ngram_range=(1, 3))),\n                (&#x27;lr&#x27;, LogisticRegression())])</pre><b>In a Jupyter environment, please rerun this cell to show the HTML representation or trust the notebook. <br />On GitHub, the HTML representation is unable to render, please try loading this page with nbviewer.org.</b></div><div class=\"sk-container\" hidden><div class=\"sk-item sk-dashed-wrapped\"><div class=\"sk-label-container\"><div class=\"sk-label sk-toggleable\"><input class=\"sk-toggleable__control sk-hidden--visually\" id=\"sk-estimator-id-1\" type=\"checkbox\" ><label for=\"sk-estimator-id-1\" class=\"sk-toggleable__label sk-toggleable__label-arrow\">Pipeline</label><div class=\"sk-toggleable__content\"><pre>Pipeline(steps=[(&#x27;bow&#x27;, CountVectorizer(ngram_range=(1, 3))),\n                (&#x27;lr&#x27;, LogisticRegression())])</pre></div></div></div><div class=\"sk-serial\"><div class=\"sk-item\"><div class=\"sk-estimator sk-toggleable\"><input class=\"sk-toggleable__control sk-hidden--visually\" id=\"sk-estimator-id-2\" type=\"checkbox\" ><label for=\"sk-estimator-id-2\" class=\"sk-toggleable__label sk-toggleable__label-arrow\">CountVectorizer</label><div class=\"sk-toggleable__content\"><pre>CountVectorizer(ngram_range=(1, 3))</pre></div></div></div><div class=\"sk-item\"><div class=\"sk-estimator sk-toggleable\"><input class=\"sk-toggleable__control sk-hidden--visually\" id=\"sk-estimator-id-3\" type=\"checkbox\" ><label for=\"sk-estimator-id-3\" class=\"sk-toggleable__label sk-toggleable__label-arrow\">LogisticRegression</label><div class=\"sk-toggleable__content\"><pre>LogisticRegression()</pre></div></div></div></div></div></div></div>"
     },
     "execution_count": 14,
     "metadata": {},
     "output_type": "execute_result"
    }
   ],
   "source": [
    "# Fitting the model\n",
    "pipeline.fit(X_train, y_train)"
   ],
   "metadata": {
    "collapsed": false,
    "ExecuteTime": {
<<<<<<< Updated upstream
     "end_time": "2024-01-30T13:40:50.414553Z",
     "start_time": "2024-01-30T13:40:37.660816Z"
=======
     "end_time": "2024-01-30T16:14:31.302658900Z",
     "start_time": "2024-01-30T16:14:11.633971300Z"
>>>>>>> Stashed changes
    }
   },
   "id": "ae6407d6028252ec",
   "execution_count": 14
  },
  {
   "cell_type": "markdown",
   "source": [],
   "metadata": {
    "collapsed": false
   },
   "id": "aa34936704521414"
  },
  {
   "cell_type": "markdown",
   "source": [
    "# 4, 5 & 6 - Alternative solution"
   ],
   "metadata": {
    "collapsed": false
   },
   "id": "8a3fda20da426760"
  },
  {
   "cell_type": "code",
   "execution_count": 15,
   "outputs": [
    {
     "name": "stdout",
     "output_type": "stream",
     "text": [
<<<<<<< Updated upstream
      "Accuracy: 0.8827586206896552\n"
=======
      "Accuracy: 0.8896551724137931\n"
     ]
    },
    {
     "name": "stderr",
     "output_type": "stream",
     "text": [
      "C:\\Users\\yairli\\ai-nlp-2023-2024\\venv\\lib\\site-packages\\sklearn\\linear_model\\_logistic.py:460: ConvergenceWarning: lbfgs failed to converge (status=1):\n",
      "STOP: TOTAL NO. of ITERATIONS REACHED LIMIT.\n",
      "\n",
      "Increase the number of iterations (max_iter) or scale the data as shown in:\n",
      "    https://scikit-learn.org/stable/modules/preprocessing.html\n",
      "Please also refer to the documentation for alternative solver options:\n",
      "    https://scikit-learn.org/stable/modules/linear_model.html#logistic-regression\n",
      "  n_iter_i = _check_optimize_result(\n"
>>>>>>> Stashed changes
     ]
    }
   ],
   "source": [
    "from sklearn.metrics import accuracy_score\n",
    "\n",
    "# Vectorize the text data\n",
    "vectorizer = CountVectorizer()\n",
    "X_train_transformed = vectorizer.fit_transform(X_train)\n",
    "X_test_transformed = vectorizer.transform(X_test)\n",
    "\n",
    "# Train the logistic regression model\n",
    "log_reg = LogisticRegression()\n",
    "log_reg.fit(X_train_transformed, y_train)\n",
    "\n",
    "# Predict and evaluate the model\n",
    "y_pred = log_reg.predict(X_test_transformed)\n",
    "accuracy = accuracy_score(y_test, y_pred)\n",
    "print(\"Accuracy:\", accuracy)"
   ],
   "metadata": {
    "collapsed": false,
    "ExecuteTime": {
<<<<<<< Updated upstream
     "end_time": "2024-01-30T13:40:51.322499Z",
     "start_time": "2024-01-30T13:40:50.468599Z"
=======
     "end_time": "2024-01-30T16:14:32.388529Z",
     "start_time": "2024-01-30T16:14:31.304672200Z"
>>>>>>> Stashed changes
    }
   },
   "id": "c415a35d49ca81a6"
  },
  {
   "cell_type": "markdown",
   "source": [
    "# 7 - Accuracy test with the test set\n",
    "Evaluating the model using the score method"
   ],
   "metadata": {
    "collapsed": false
   },
   "id": "20e79f64c55af029"
  },
  {
   "cell_type": "code",
   "outputs": [
    {
     "name": "stdout",
     "output_type": "stream",
     "text": [
      "Accuracy: 0.8724137931034482\n"
     ]
    }
   ],
   "source": [
    "accuracy = pipeline.score(X_test, y_test)\n",
    "print(\"Accuracy:\", accuracy)"
   ],
   "metadata": {
    "collapsed": false,
    "ExecuteTime": {
<<<<<<< Updated upstream
     "end_time": "2024-01-30T13:40:51.645080Z",
     "start_time": "2024-01-30T13:40:51.327399Z"
=======
     "end_time": "2024-01-30T16:14:32.766341300Z",
     "start_time": "2024-01-30T16:14:32.390871900Z"
>>>>>>> Stashed changes
    }
   },
   "id": "bb7f28c5c31bc264",
   "execution_count": 16
  },
  {
   "cell_type": "code",
   "outputs": [
    {
     "name": "stdout",
     "output_type": "stream",
     "text": [
      "              precision    recall  f1-score   support\n",
      "\n",
      "           0       0.84      0.98      0.90       176\n",
      "           1       0.96      0.70      0.81       114\n",
      "\n",
      "    accuracy                           0.87       290\n",
      "   macro avg       0.90      0.84      0.86       290\n",
      "weighted avg       0.89      0.87      0.87       290\n"
     ]
    }
   ],
   "source": [
    "from sklearn.metrics import classification_report\n",
    "\n",
    "#model testing\n",
    "y_pred=pipeline.predict(X_test)\n",
    "print(classification_report(y_test, y_pred))"
   ],
   "metadata": {
    "collapsed": false,
    "ExecuteTime": {
<<<<<<< Updated upstream
     "end_time": "2024-01-30T13:40:51.965930Z",
     "start_time": "2024-01-30T13:40:51.716209Z"
=======
     "end_time": "2024-01-30T16:14:33.145146100Z",
     "start_time": "2024-01-30T16:14:32.768336300Z"
>>>>>>> Stashed changes
    }
   },
   "id": "7054c41098e86242",
   "execution_count": 17
  }
 ],
 "metadata": {
  "kernelspec": {
   "display_name": "Python 3",
   "language": "python",
   "name": "python3"
  },
  "language_info": {
   "codemirror_mode": {
    "name": "ipython",
    "version": 2
   },
   "file_extension": ".py",
   "mimetype": "text/x-python",
   "name": "python",
   "nbconvert_exporter": "python",
   "pygments_lexer": "ipython2",
   "version": "2.7.6"
  }
 },
 "nbformat": 4,
 "nbformat_minor": 5
}
