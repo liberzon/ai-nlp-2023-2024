{
 "cells": [
  {
   "cell_type": "code",
   "outputs": [],
   "source": [
    "import pandas as pd"
   ],
   "metadata": {
    "collapsed": false,
    "ExecuteTime": {
     "end_time": "2024-03-14T06:39:53.734709Z",
     "start_time": "2024-03-14T06:39:53.732125Z"
    }
   },
   "id": "f7c7c046f26fe883",
   "execution_count": 9
  },
  {
   "cell_type": "code",
   "outputs": [],
   "source": [
    "def process_chat_input(user_input, current_state):\n",
    "    # This is a placeholder for whatever processing you intend to do.\n",
    "    # Adjust this logic to fit your ChatBot needs using current_state and user_input.\n",
    "    # You can also use a context object if you'd like.\n",
    "    return 'no answer', 1, current_state + 1, {'GPE': [], 'PRODUCTS': []}, 0.0"
   ],
   "metadata": {
    "collapsed": false,
    "ExecuteTime": {
     "end_time": "2024-03-14T06:39:53.739300Z",
     "start_time": "2024-03-14T06:39:53.736347Z"
    }
   },
   "id": "ef9724f8a8c96d61",
   "execution_count": 10
  },
  {
   "cell_type": "code",
   "outputs": [],
   "source": [
    "def run_online_chatbot():\n",
    "    current_state = 0\n",
    "    while True:\n",
    "        user_input = input('What can I help you with? ')\n",
    "        if str.lower(user_input) == 'exit':\n",
    "            break\n",
    "        print('User: ' + user_input)\n",
    "        output, intent, next_state, entities, polarity = process_chat_input(user_input, current_state)\n",
    "        print('Chatbot: ' + output)\n",
    "        # Write DataFrame of output parameters"
   ],
   "metadata": {
    "collapsed": false,
    "ExecuteTime": {
     "end_time": "2024-03-14T06:40:16.498667Z",
     "start_time": "2024-03-14T06:40:16.495242Z"
    }
   },
   "id": "48bc02ee62dfe8e6",
   "execution_count": 13
  },
  {
   "cell_type": "code",
   "outputs": [
    {
     "name": "stdout",
     "output_type": "stream",
     "text": [
      "User: gg\n",
      "Chatbot: no answer\n"
     ]
    }
   ],
   "source": [
    "# This will start the chatbot.\n",
    "run_online_chatbot()"
   ],
   "metadata": {
    "collapsed": true,
    "ExecuteTime": {
     "end_time": "2024-03-14T06:40:21.748425Z",
     "start_time": "2024-03-14T06:40:16.922881Z"
    }
   },
   "id": "initial_id",
   "execution_count": 14
  },
  {
   "cell_type": "code",
   "outputs": [],
   "source": [
    "def read_chat_input_file(file_path):\n",
    "    data = pd.read_csv(file_path, header=None, names=['text'])\n",
    "    return data"
   ],
   "metadata": {
    "collapsed": false,
    "ExecuteTime": {
     "end_time": "2024-03-14T06:40:25.452107Z",
     "start_time": "2024-03-14T06:40:25.449657Z"
    }
   },
   "id": "b3497ad4da77e20b",
   "execution_count": 15
  },
  {
   "cell_type": "code",
   "outputs": [],
   "source": [
    "def run_offline_chatbot(file_path):\n",
    "    current_state = 0\n",
    "    df = read_chat_input_file(file_path)\n",
    "\n",
    "    # Prepare a list to store the responses and other information\n",
    "    responses = []\n",
    "    for index, row in df.iterrows():\n",
    "        output, intent, next_state, entities, polarity = process_chat_input(row['text'], current_state)\n",
    "        # Append the results to the DataFrame\n",
    "        responses.append({\n",
    "            'output': output,\n",
    "            'intent': intent,\n",
    "            'state': next_state,\n",
    "            'entities': entities,\n",
    "            'polarity': polarity\n",
    "        })\n",
    "        # Update the current state for the next iteration\n",
    "        current_state = next_state\n",
    "        \n",
    "    responses_df = pd.DataFrame(responses, columns=['output', 'intent', 'state', 'entities', 'polarity'])\n",
    "    # Write the DataFrame to a CSV file\n",
    "\n",
    "    return responses_df"
   ],
   "metadata": {
    "collapsed": false,
    "ExecuteTime": {
     "end_time": "2024-03-14T06:40:25.732498Z",
     "start_time": "2024-03-14T06:40:25.728151Z"
    }
   },
   "id": "c27cd5745f215822",
   "execution_count": 16
  },
  {
   "cell_type": "code",
   "outputs": [
    {
     "data": {
      "text/plain": "      output  intent  state                     entities  polarity\n0  no answer       1      1  {'GPE': [], 'PRODUCTS': []}       0.0\n1  no answer       1      2  {'GPE': [], 'PRODUCTS': []}       0.0\n2  no answer       1      3  {'GPE': [], 'PRODUCTS': []}       0.0\n3  no answer       1      4  {'GPE': [], 'PRODUCTS': []}       0.0\n4  no answer       1      5  {'GPE': [], 'PRODUCTS': []}       0.0",
      "text/html": "<div>\n<style scoped>\n    .dataframe tbody tr th:only-of-type {\n        vertical-align: middle;\n    }\n\n    .dataframe tbody tr th {\n        vertical-align: top;\n    }\n\n    .dataframe thead th {\n        text-align: right;\n    }\n</style>\n<table border=\"1\" class=\"dataframe\">\n  <thead>\n    <tr style=\"text-align: right;\">\n      <th></th>\n      <th>output</th>\n      <th>intent</th>\n      <th>state</th>\n      <th>entities</th>\n      <th>polarity</th>\n    </tr>\n  </thead>\n  <tbody>\n    <tr>\n      <th>0</th>\n      <td>no answer</td>\n      <td>1</td>\n      <td>1</td>\n      <td>{'GPE': [], 'PRODUCTS': []}</td>\n      <td>0.0</td>\n    </tr>\n    <tr>\n      <th>1</th>\n      <td>no answer</td>\n      <td>1</td>\n      <td>2</td>\n      <td>{'GPE': [], 'PRODUCTS': []}</td>\n      <td>0.0</td>\n    </tr>\n    <tr>\n      <th>2</th>\n      <td>no answer</td>\n      <td>1</td>\n      <td>3</td>\n      <td>{'GPE': [], 'PRODUCTS': []}</td>\n      <td>0.0</td>\n    </tr>\n    <tr>\n      <th>3</th>\n      <td>no answer</td>\n      <td>1</td>\n      <td>4</td>\n      <td>{'GPE': [], 'PRODUCTS': []}</td>\n      <td>0.0</td>\n    </tr>\n    <tr>\n      <th>4</th>\n      <td>no answer</td>\n      <td>1</td>\n      <td>5</td>\n      <td>{'GPE': [], 'PRODUCTS': []}</td>\n      <td>0.0</td>\n    </tr>\n  </tbody>\n</table>\n</div>"
     },
     "execution_count": 17,
     "metadata": {},
     "output_type": "execute_result"
    }
   ],
   "source": [
    "run_offline_chatbot('exercise2-sample-chat-input.csv')"
   ],
   "metadata": {
    "collapsed": false,
    "ExecuteTime": {
     "end_time": "2024-03-14T06:40:26.227533Z",
     "start_time": "2024-03-14T06:40:26.216419Z"
    }
   },
   "id": "704ff87b25a0323a",
   "execution_count": 17
  },
  {
   "cell_type": "code",
   "outputs": [],
   "source": [
    "class LightBulbContext:\n",
    "    def __init__(self):\n",
    "        self.state = 0  # 0 for off, 1 for on\n",
    "\n",
    "    def toggle_light(self):\n",
    "        self.state = 1 - self.state  # Toggle between 0 and 1\n",
    "        return self.state"
   ],
   "metadata": {
    "collapsed": false,
    "ExecuteTime": {
     "end_time": "2024-03-14T06:40:26.530172Z",
     "start_time": "2024-03-14T06:40:26.527891Z"
    }
   },
   "id": "3dfc1b9ac98f391e",
   "execution_count": 18
  },
  {
   "cell_type": "code",
   "outputs": [],
   "source": [
    "def process_toggle_light(context):\n",
    "    new_state = context.toggle_light()\n",
    "    state_str = \"on\" if new_state else \"off\"\n",
    "    print(f\"Light is now {state_str}\")\n",
    "    return new_state"
   ],
   "metadata": {
    "collapsed": false,
    "ExecuteTime": {
     "end_time": "2024-03-14T06:40:27.199114Z",
     "start_time": "2024-03-14T06:40:27.195771Z"
    }
   },
   "id": "c483e6810c87181f",
   "execution_count": 19
  },
  {
   "cell_type": "code",
   "outputs": [],
   "source": [
    "def run_light_simulation():\n",
    "    context = LightBulbContext()  # Create a new context object\n",
    "\n",
    "    while True:\n",
    "        user_input = input(\"Enter 'toggle' to change the light state or 'exit' to quit: \").strip().lower()\n",
    "        if user_input == \"exit\":\n",
    "            break\n",
    "        elif user_input == \"toggle\":\n",
    "            new_state = process_toggle_light(context)\n",
    "            # Here you can do something with the new_state if needed\n",
    "        else:\n",
    "            print(\"Invalid command. Please enter 'toggle' or 'exit'.\")"
   ],
   "metadata": {
    "collapsed": false,
    "ExecuteTime": {
     "end_time": "2024-03-14T06:40:27.433829Z",
     "start_time": "2024-03-14T06:40:27.430761Z"
    }
   },
   "id": "56666098c1007c4e",
   "execution_count": 20
  },
  {
   "cell_type": "code",
   "outputs": [
    {
     "name": "stdout",
     "output_type": "stream",
     "text": [
      "Light is now on\n"
     ]
    }
   ],
   "source": [
    "# To run the simulation, simply call run_light_simulation() in a Jupyter Notebook cell.\n",
    "run_light_simulation()"
   ],
   "metadata": {
    "collapsed": false,
    "ExecuteTime": {
     "end_time": "2024-03-14T06:40:32.850929Z",
     "start_time": "2024-03-14T06:40:28.151362Z"
    }
   },
   "id": "d51abcced48af499",
   "execution_count": 21
  }
 ],
 "metadata": {
  "kernelspec": {
   "display_name": "Python 3",
   "language": "python",
   "name": "python3"
  },
  "language_info": {
   "codemirror_mode": {
    "name": "ipython",
    "version": 2
   },
   "file_extension": ".py",
   "mimetype": "text/x-python",
   "name": "python",
   "nbconvert_exporter": "python",
   "pygments_lexer": "ipython2",
   "version": "2.7.6"
  }
 },
 "nbformat": 4,
 "nbformat_minor": 5
}
