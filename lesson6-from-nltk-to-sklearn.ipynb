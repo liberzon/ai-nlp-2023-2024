{
 "cells": [
  {
   "cell_type": "markdown",
   "source": [
    "# Setup"
   ],
   "metadata": {
    "collapsed": false
   }
  },
  {
   "cell_type": "code",
   "execution_count": 1,
   "outputs": [],
   "source": [
    "import pandas as pd"
   ],
   "metadata": {
    "collapsed": false,
    "ExecuteTime": {
     "end_time": "2024-01-30T17:48:03.288762Z",
     "start_time": "2024-01-30T17:48:02.159453Z"
    }
   }
  },
  {
   "cell_type": "code",
   "execution_count": 2,
   "outputs": [
    {
     "name": "stderr",
     "output_type": "stream",
     "text": [
      "[nltk_data] Downloading package punkt to /Users/yairl/nltk_data...\n",
      "[nltk_data]   Package punkt is already up-to-date!\n"
     ]
    },
    {
     "data": {
      "text/plain": "True"
     },
     "execution_count": 2,
     "metadata": {},
     "output_type": "execute_result"
    }
   ],
   "source": [
    "import nltk\n",
    "nltk.download('punkt')"
   ],
   "metadata": {
    "collapsed": false,
    "ExecuteTime": {
     "end_time": "2024-01-30T17:48:06.317016Z",
     "start_time": "2024-01-30T17:48:03.289169Z"
    }
   }
  },
  {
   "cell_type": "code",
   "execution_count": 3,
   "metadata": {
    "collapsed": true,
    "ExecuteTime": {
     "end_time": "2024-01-30T17:48:07.264014Z",
     "start_time": "2024-01-30T17:48:07.260914Z"
    }
   },
   "outputs": [],
   "source": [
    "doc1 = 'This pasta is very tasty and affordable.'\n",
    "doc2 = 'This pasta is not tasty and is affordable.'\n",
    "doc3 = 'This pasta is delicious and cheap.'\n",
    "doc4 = 'Pasta is tasty and pasta tastes good.'"
   ]
  },
  {
   "cell_type": "code",
   "execution_count": 4,
   "outputs": [],
   "source": [
    "df = pd.DataFrame(data = [doc1, doc2, doc3, doc4], columns=['text'])"
   ],
   "metadata": {
    "collapsed": false,
    "ExecuteTime": {
     "end_time": "2024-01-30T17:48:07.630259Z",
     "start_time": "2024-01-30T17:48:07.627654Z"
    }
   }
  },
  {
   "cell_type": "code",
   "execution_count": 5,
   "outputs": [
    {
     "data": {
      "text/plain": "                                         text\n0    This pasta is very tasty and affordable.\n1  This pasta is not tasty and is affordable.\n2          This pasta is delicious and cheap.\n3       Pasta is tasty and pasta tastes good.",
      "text/html": "<div>\n<style scoped>\n    .dataframe tbody tr th:only-of-type {\n        vertical-align: middle;\n    }\n\n    .dataframe tbody tr th {\n        vertical-align: top;\n    }\n\n    .dataframe thead th {\n        text-align: right;\n    }\n</style>\n<table border=\"1\" class=\"dataframe\">\n  <thead>\n    <tr style=\"text-align: right;\">\n      <th></th>\n      <th>text</th>\n    </tr>\n  </thead>\n  <tbody>\n    <tr>\n      <th>0</th>\n      <td>This pasta is very tasty and affordable.</td>\n    </tr>\n    <tr>\n      <th>1</th>\n      <td>This pasta is not tasty and is affordable.</td>\n    </tr>\n    <tr>\n      <th>2</th>\n      <td>This pasta is delicious and cheap.</td>\n    </tr>\n    <tr>\n      <th>3</th>\n      <td>Pasta is tasty and pasta tastes good.</td>\n    </tr>\n  </tbody>\n</table>\n</div>"
     },
     "execution_count": 5,
     "metadata": {},
     "output_type": "execute_result"
    }
   ],
   "source": [
    "df.head()"
   ],
   "metadata": {
    "collapsed": false,
    "ExecuteTime": {
     "end_time": "2024-01-30T17:48:12.093556Z",
     "start_time": "2024-01-30T17:48:12.080903Z"
    }
   }
  },
  {
   "cell_type": "code",
   "execution_count": 6,
   "outputs": [],
   "source": [
    "from nltk import word_tokenize\n",
    "\n",
    "df['tokens'] = df['text'].apply(lambda x: word_tokenize(x))"
   ],
   "metadata": {
    "collapsed": false,
    "ExecuteTime": {
     "end_time": "2024-01-30T17:48:41.500872Z",
     "start_time": "2024-01-30T17:48:41.487866Z"
    }
   }
  },
  {
   "cell_type": "markdown",
   "source": [
    "Build a vectorizer that doesn't tokenize or preprocess the text"
   ],
   "metadata": {
    "collapsed": false
   }
  },
  {
   "cell_type": "code",
   "execution_count": 7,
   "outputs": [
    {
     "data": {
      "text/plain": "                                         text  \\\n0    This pasta is very tasty and affordable.   \n1  This pasta is not tasty and is affordable.   \n2          This pasta is delicious and cheap.   \n3       Pasta is tasty and pasta tastes good.   \n\n                                              tokens  \n0  [This, pasta, is, very, tasty, and, affordable...  \n1  [This, pasta, is, not, tasty, and, is, afforda...  \n2        [This, pasta, is, delicious, and, cheap, .]  \n3    [Pasta, is, tasty, and, pasta, tastes, good, .]  ",
      "text/html": "<div>\n<style scoped>\n    .dataframe tbody tr th:only-of-type {\n        vertical-align: middle;\n    }\n\n    .dataframe tbody tr th {\n        vertical-align: top;\n    }\n\n    .dataframe thead th {\n        text-align: right;\n    }\n</style>\n<table border=\"1\" class=\"dataframe\">\n  <thead>\n    <tr style=\"text-align: right;\">\n      <th></th>\n      <th>text</th>\n      <th>tokens</th>\n    </tr>\n  </thead>\n  <tbody>\n    <tr>\n      <th>0</th>\n      <td>This pasta is very tasty and affordable.</td>\n      <td>[This, pasta, is, very, tasty, and, affordable...</td>\n    </tr>\n    <tr>\n      <th>1</th>\n      <td>This pasta is not tasty and is affordable.</td>\n      <td>[This, pasta, is, not, tasty, and, is, afforda...</td>\n    </tr>\n    <tr>\n      <th>2</th>\n      <td>This pasta is delicious and cheap.</td>\n      <td>[This, pasta, is, delicious, and, cheap, .]</td>\n    </tr>\n    <tr>\n      <th>3</th>\n      <td>Pasta is tasty and pasta tastes good.</td>\n      <td>[Pasta, is, tasty, and, pasta, tastes, good, .]</td>\n    </tr>\n  </tbody>\n</table>\n</div>"
     },
     "execution_count": 7,
     "metadata": {},
     "output_type": "execute_result"
    }
   ],
   "source": [
    "df"
   ],
   "metadata": {
    "collapsed": false,
    "ExecuteTime": {
     "end_time": "2024-01-30T17:48:44.345074Z",
     "start_time": "2024-01-30T17:48:44.340980Z"
    }
   }
  },
  {
   "cell_type": "code",
   "execution_count": 8,
   "outputs": [],
   "source": [
    "from sklearn.feature_extraction.text import CountVectorizer\n",
    "\n",
    "vectorizer = CountVectorizer(lowercase=False,\n",
    "                             preprocessor=lambda x: x,\n",
    "                             tokenizer=lambda x: x)"
   ],
   "metadata": {
    "collapsed": false,
    "ExecuteTime": {
     "end_time": "2024-01-30T17:49:32.105570Z",
     "start_time": "2024-01-30T17:49:32.101421Z"
    }
   }
  },
  {
   "cell_type": "markdown",
   "source": [
    "Get list of lists of tokens"
   ],
   "metadata": {
    "collapsed": false
   }
  },
  {
   "cell_type": "code",
   "execution_count": 9,
   "outputs": [],
   "source": [
    "docs = df['tokens'].tolist()"
   ],
   "metadata": {
    "collapsed": false,
    "ExecuteTime": {
     "end_time": "2024-01-30T17:49:33.779254Z",
     "start_time": "2024-01-30T17:49:33.775629Z"
    }
   }
  },
  {
   "cell_type": "markdown",
   "source": [
    "Note the <b>fit()</b> here"
   ],
   "metadata": {
    "collapsed": false
   }
  },
  {
   "cell_type": "code",
   "execution_count": 10,
   "outputs": [
    {
     "data": {
      "text/plain": "[['This', 'pasta', 'is', 'very', 'tasty', 'and', 'affordable', '.'],\n ['This', 'pasta', 'is', 'not', 'tasty', 'and', 'is', 'affordable', '.'],\n ['This', 'pasta', 'is', 'delicious', 'and', 'cheap', '.'],\n ['Pasta', 'is', 'tasty', 'and', 'pasta', 'tastes', 'good', '.']]"
     },
     "execution_count": 10,
     "metadata": {},
     "output_type": "execute_result"
    }
   ],
   "source": [
    "docs"
   ],
   "metadata": {
    "collapsed": false,
    "ExecuteTime": {
     "end_time": "2024-01-30T17:49:38.253939Z",
     "start_time": "2024-01-30T17:49:38.243679Z"
    }
   }
  },
  {
   "cell_type": "code",
   "execution_count": 11,
   "outputs": [
    {
     "data": {
      "text/plain": "CountVectorizer(lowercase=False,\n                preprocessor=<function <lambda> at 0x16b84ff70>,\n                tokenizer=<function <lambda> at 0x16b84fc10>)",
      "text/html": "<style>#sk-container-id-1 {color: black;}#sk-container-id-1 pre{padding: 0;}#sk-container-id-1 div.sk-toggleable {background-color: white;}#sk-container-id-1 label.sk-toggleable__label {cursor: pointer;display: block;width: 100%;margin-bottom: 0;padding: 0.3em;box-sizing: border-box;text-align: center;}#sk-container-id-1 label.sk-toggleable__label-arrow:before {content: \"▸\";float: left;margin-right: 0.25em;color: #696969;}#sk-container-id-1 label.sk-toggleable__label-arrow:hover:before {color: black;}#sk-container-id-1 div.sk-estimator:hover label.sk-toggleable__label-arrow:before {color: black;}#sk-container-id-1 div.sk-toggleable__content {max-height: 0;max-width: 0;overflow: hidden;text-align: left;background-color: #f0f8ff;}#sk-container-id-1 div.sk-toggleable__content pre {margin: 0.2em;color: black;border-radius: 0.25em;background-color: #f0f8ff;}#sk-container-id-1 input.sk-toggleable__control:checked~div.sk-toggleable__content {max-height: 200px;max-width: 100%;overflow: auto;}#sk-container-id-1 input.sk-toggleable__control:checked~label.sk-toggleable__label-arrow:before {content: \"▾\";}#sk-container-id-1 div.sk-estimator input.sk-toggleable__control:checked~label.sk-toggleable__label {background-color: #d4ebff;}#sk-container-id-1 div.sk-label input.sk-toggleable__control:checked~label.sk-toggleable__label {background-color: #d4ebff;}#sk-container-id-1 input.sk-hidden--visually {border: 0;clip: rect(1px 1px 1px 1px);clip: rect(1px, 1px, 1px, 1px);height: 1px;margin: -1px;overflow: hidden;padding: 0;position: absolute;width: 1px;}#sk-container-id-1 div.sk-estimator {font-family: monospace;background-color: #f0f8ff;border: 1px dotted black;border-radius: 0.25em;box-sizing: border-box;margin-bottom: 0.5em;}#sk-container-id-1 div.sk-estimator:hover {background-color: #d4ebff;}#sk-container-id-1 div.sk-parallel-item::after {content: \"\";width: 100%;border-bottom: 1px solid gray;flex-grow: 1;}#sk-container-id-1 div.sk-label:hover label.sk-toggleable__label {background-color: #d4ebff;}#sk-container-id-1 div.sk-serial::before {content: \"\";position: absolute;border-left: 1px solid gray;box-sizing: border-box;top: 0;bottom: 0;left: 50%;z-index: 0;}#sk-container-id-1 div.sk-serial {display: flex;flex-direction: column;align-items: center;background-color: white;padding-right: 0.2em;padding-left: 0.2em;position: relative;}#sk-container-id-1 div.sk-item {position: relative;z-index: 1;}#sk-container-id-1 div.sk-parallel {display: flex;align-items: stretch;justify-content: center;background-color: white;position: relative;}#sk-container-id-1 div.sk-item::before, #sk-container-id-1 div.sk-parallel-item::before {content: \"\";position: absolute;border-left: 1px solid gray;box-sizing: border-box;top: 0;bottom: 0;left: 50%;z-index: -1;}#sk-container-id-1 div.sk-parallel-item {display: flex;flex-direction: column;z-index: 1;position: relative;background-color: white;}#sk-container-id-1 div.sk-parallel-item:first-child::after {align-self: flex-end;width: 50%;}#sk-container-id-1 div.sk-parallel-item:last-child::after {align-self: flex-start;width: 50%;}#sk-container-id-1 div.sk-parallel-item:only-child::after {width: 0;}#sk-container-id-1 div.sk-dashed-wrapped {border: 1px dashed gray;margin: 0 0.4em 0.5em 0.4em;box-sizing: border-box;padding-bottom: 0.4em;background-color: white;}#sk-container-id-1 div.sk-label label {font-family: monospace;font-weight: bold;display: inline-block;line-height: 1.2em;}#sk-container-id-1 div.sk-label-container {text-align: center;}#sk-container-id-1 div.sk-container {/* jupyter's `normalize.less` sets `[hidden] { display: none; }` but bootstrap.min.css set `[hidden] { display: none !important; }` so we also need the `!important` here to be able to override the default hidden behavior on the sphinx rendered scikit-learn.org. See: https://github.com/scikit-learn/scikit-learn/issues/21755 */display: inline-block !important;position: relative;}#sk-container-id-1 div.sk-text-repr-fallback {display: none;}</style><div id=\"sk-container-id-1\" class=\"sk-top-container\"><div class=\"sk-text-repr-fallback\"><pre>CountVectorizer(lowercase=False,\n                preprocessor=&lt;function &lt;lambda&gt; at 0x16b84ff70&gt;,\n                tokenizer=&lt;function &lt;lambda&gt; at 0x16b84fc10&gt;)</pre><b>In a Jupyter environment, please rerun this cell to show the HTML representation or trust the notebook. <br />On GitHub, the HTML representation is unable to render, please try loading this page with nbviewer.org.</b></div><div class=\"sk-container\" hidden><div class=\"sk-item\"><div class=\"sk-estimator sk-toggleable\"><input class=\"sk-toggleable__control sk-hidden--visually\" id=\"sk-estimator-id-1\" type=\"checkbox\" checked><label for=\"sk-estimator-id-1\" class=\"sk-toggleable__label sk-toggleable__label-arrow\">CountVectorizer</label><div class=\"sk-toggleable__content\"><pre>CountVectorizer(lowercase=False,\n                preprocessor=&lt;function &lt;lambda&gt; at 0x16b84ff70&gt;,\n                tokenizer=&lt;function &lt;lambda&gt; at 0x16b84fc10&gt;)</pre></div></div></div></div></div>"
     },
     "execution_count": 11,
     "metadata": {},
     "output_type": "execute_result"
    }
   ],
   "source": [
    "vectorizer.fit(docs)"
   ],
   "metadata": {
    "collapsed": false,
    "ExecuteTime": {
     "end_time": "2024-01-30T17:49:51.060987Z",
     "start_time": "2024-01-30T17:49:51.053133Z"
    }
   }
  },
  {
   "cell_type": "markdown",
   "source": [
    "Print the feature names list"
   ],
   "metadata": {
    "collapsed": false
   }
  },
  {
   "cell_type": "code",
   "execution_count": 12,
   "outputs": [
    {
     "data": {
      "text/plain": "array(['.', 'Pasta', 'This', 'affordable', 'and', 'cheap', 'delicious',\n       'good', 'is', 'not', 'pasta', 'tastes', 'tasty', 'very'],\n      dtype=object)"
     },
     "execution_count": 12,
     "metadata": {},
     "output_type": "execute_result"
    }
   ],
   "source": [
    "vectorizer.get_feature_names_out()"
   ],
   "metadata": {
    "collapsed": false,
    "ExecuteTime": {
     "end_time": "2024-01-30T17:49:56.908860Z",
     "start_time": "2024-01-30T17:49:56.903733Z"
    }
   }
  },
  {
   "cell_type": "markdown",
   "source": [
    "Create vectors"
   ],
   "metadata": {
    "collapsed": false
   }
  },
  {
   "cell_type": "code",
   "execution_count": 13,
   "outputs": [],
   "source": [
    "matrix1 = vectorizer.transform(docs)"
   ],
   "metadata": {
    "collapsed": false,
    "ExecuteTime": {
     "end_time": "2024-01-30T17:50:12.185827Z",
     "start_time": "2024-01-30T17:50:12.182503Z"
    }
   }
  },
  {
   "cell_type": "code",
   "outputs": [
    {
     "name": "stdout",
     "output_type": "stream",
     "text": [
      "[[1 0 1 1 1 0 0 0 1 0 1 0 1 1]\n",
      " [1 0 1 1 1 0 0 0 2 1 1 0 1 0]\n",
      " [1 0 1 0 1 1 1 0 1 0 1 0 0 0]\n",
      " [1 1 0 0 1 0 0 1 1 0 1 1 1 0]]\n"
     ]
    }
   ],
   "source": [
    "print(matrix1.toarray())"
   ],
   "metadata": {
    "collapsed": false,
    "ExecuteTime": {
     "end_time": "2024-01-30T17:50:12.861961Z",
     "start_time": "2024-01-30T17:50:12.857569Z"
    }
   },
   "execution_count": 14
  },
  {
   "cell_type": "code",
   "execution_count": 49,
   "outputs": [],
   "source": [
    "matrix2 = vectorizer.fit_transform(docs)"
   ],
   "metadata": {
    "collapsed": false,
    "ExecuteTime": {
     "end_time": "2024-01-30T13:46:09.287593Z",
     "start_time": "2024-01-30T13:46:09.282949Z"
    }
   }
  },
  {
   "cell_type": "code",
   "outputs": [
    {
     "name": "stdout",
     "output_type": "stream",
     "text": [
      "[[1 0 1 1 1 0 0 0 1 0 1 0 1 1]\n",
      " [1 0 1 1 1 0 0 0 2 1 1 0 1 0]\n",
      " [1 0 1 0 1 1 1 0 1 0 1 0 0 0]\n",
      " [1 1 0 0 1 0 0 1 1 0 1 1 1 0]]\n"
     ]
    }
   ],
   "source": [
    "print(matrix2.toarray())"
   ],
   "metadata": {
    "collapsed": false,
    "ExecuteTime": {
     "end_time": "2024-01-30T13:46:09.550764Z",
     "start_time": "2024-01-30T13:46:09.545461Z"
    }
   },
   "execution_count": 50
  },
  {
   "cell_type": "code",
   "outputs": [],
   "source": [],
   "metadata": {
    "collapsed": false
   }
  }
 ],
 "metadata": {
  "kernelspec": {
   "display_name": "Python 3",
   "language": "python",
   "name": "python3"
  },
  "language_info": {
   "codemirror_mode": {
    "name": "ipython",
    "version": 2
   },
   "file_extension": ".py",
   "mimetype": "text/x-python",
   "name": "python",
   "nbconvert_exporter": "python",
   "pygments_lexer": "ipython2",
   "version": "2.7.6"
  }
 },
 "nbformat": 4,
 "nbformat_minor": 0
}
