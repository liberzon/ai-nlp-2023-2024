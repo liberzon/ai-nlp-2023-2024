{
 "cells": [
  {
   "cell_type": "markdown",
   "source": [
    "# Setup"
   ],
   "metadata": {
    "collapsed": false
   }
  },
  {
   "cell_type": "code",
<<<<<<< Updated upstream
   "execution_count": 27,
=======
   "execution_count": 1,
>>>>>>> Stashed changes
   "outputs": [],
   "source": [
    "import pandas as pd"
   ],
   "metadata": {
    "collapsed": false,
    "ExecuteTime": {
<<<<<<< Updated upstream
     "end_time": "2024-01-30T13:42:00.134287Z",
     "start_time": "2024-01-30T13:42:00.110858Z"
=======
     "end_time": "2024-01-30T16:13:56.065746200Z",
     "start_time": "2024-01-30T16:13:55.435513300Z"
>>>>>>> Stashed changes
    }
   }
  },
  {
   "cell_type": "code",
<<<<<<< Updated upstream
   "execution_count": 28,
=======
   "execution_count": 2,
>>>>>>> Stashed changes
   "outputs": [
    {
     "name": "stderr",
     "output_type": "stream",
     "text": [
<<<<<<< Updated upstream
      "[nltk_data] Downloading package punkt to /Users/yairl/nltk_data...\n",
=======
      "[nltk_data] Downloading package punkt to\n",
      "[nltk_data]     C:\\Users\\yairli\\AppData\\Roaming\\nltk_data...\n",
>>>>>>> Stashed changes
      "[nltk_data]   Package punkt is already up-to-date!\n"
     ]
    },
    {
     "data": {
      "text/plain": "True"
     },
<<<<<<< Updated upstream
     "execution_count": 28,
=======
     "execution_count": 2,
>>>>>>> Stashed changes
     "metadata": {},
     "output_type": "execute_result"
    }
   ],
   "source": [
    "import nltk\n",
    "nltk.download('punkt')"
   ],
   "metadata": {
    "collapsed": false,
    "ExecuteTime": {
<<<<<<< Updated upstream
     "end_time": "2024-01-30T13:42:00.148482Z",
     "start_time": "2024-01-30T13:42:00.137989Z"
=======
     "end_time": "2024-01-30T16:14:00.141493Z",
     "start_time": "2024-01-30T16:13:56.067740400Z"
>>>>>>> Stashed changes
    }
   }
  },
  {
   "cell_type": "code",
<<<<<<< Updated upstream
   "execution_count": 29,
   "metadata": {
    "collapsed": true,
    "ExecuteTime": {
     "end_time": "2024-01-30T13:42:00.148942Z",
     "start_time": "2024-01-30T13:42:00.141494Z"
=======
   "execution_count": 3,
   "metadata": {
    "collapsed": true,
    "ExecuteTime": {
     "end_time": "2024-01-30T16:14:00.180033600Z",
     "start_time": "2024-01-30T16:14:00.143484400Z"
>>>>>>> Stashed changes
    }
   },
   "outputs": [],
   "source": [
    "doc1 = 'This pasta is very tasty and affordable.'\n",
    "doc2 = 'This pasta is not tasty and is affordable.'\n",
    "doc3 = 'This pasta is delicious and cheap.'\n",
    "doc4 = 'Pasta is tasty and pasta tastes good.'"
   ]
  },
  {
   "cell_type": "code",
<<<<<<< Updated upstream
   "execution_count": 30,
=======
   "execution_count": 4,
>>>>>>> Stashed changes
   "outputs": [],
   "source": [
    "df = pd.DataFrame(data = [doc1, doc2, doc3, doc4], columns=['text'])"
   ],
   "metadata": {
    "collapsed": false,
    "ExecuteTime": {
<<<<<<< Updated upstream
     "end_time": "2024-01-30T13:42:00.150071Z",
     "start_time": "2024-01-30T13:42:00.145200Z"
=======
     "end_time": "2024-01-30T16:14:00.187014Z",
     "start_time": "2024-01-30T16:14:00.159441500Z"
>>>>>>> Stashed changes
    }
   }
  },
  {
   "cell_type": "code",
<<<<<<< Updated upstream
   "execution_count": 31,
=======
   "execution_count": 5,
>>>>>>> Stashed changes
   "outputs": [
    {
     "data": {
      "text/plain": "                                         text\n0    This pasta is very tasty and affordable.\n1  This pasta is not tasty and is affordable.\n2          This pasta is delicious and cheap.\n3       Pasta is tasty and pasta tastes good.",
      "text/html": "<div>\n<style scoped>\n    .dataframe tbody tr th:only-of-type {\n        vertical-align: middle;\n    }\n\n    .dataframe tbody tr th {\n        vertical-align: top;\n    }\n\n    .dataframe thead th {\n        text-align: right;\n    }\n</style>\n<table border=\"1\" class=\"dataframe\">\n  <thead>\n    <tr style=\"text-align: right;\">\n      <th></th>\n      <th>text</th>\n    </tr>\n  </thead>\n  <tbody>\n    <tr>\n      <th>0</th>\n      <td>This pasta is very tasty and affordable.</td>\n    </tr>\n    <tr>\n      <th>1</th>\n      <td>This pasta is not tasty and is affordable.</td>\n    </tr>\n    <tr>\n      <th>2</th>\n      <td>This pasta is delicious and cheap.</td>\n    </tr>\n    <tr>\n      <th>3</th>\n      <td>Pasta is tasty and pasta tastes good.</td>\n    </tr>\n  </tbody>\n</table>\n</div>"
     },
<<<<<<< Updated upstream
     "execution_count": 31,
=======
     "execution_count": 5,
>>>>>>> Stashed changes
     "metadata": {},
     "output_type": "execute_result"
    }
   ],
   "source": [
    "df.head()"
   ],
   "metadata": {
    "collapsed": false,
    "ExecuteTime": {
<<<<<<< Updated upstream
     "end_time": "2024-01-30T13:42:00.160552Z",
     "start_time": "2024-01-30T13:42:00.149627Z"
=======
     "end_time": "2024-01-30T16:14:00.202972700Z",
     "start_time": "2024-01-30T16:14:00.176043400Z"
>>>>>>> Stashed changes
    }
   }
  },
  {
   "cell_type": "code",
<<<<<<< Updated upstream
   "execution_count": 32,
=======
   "execution_count": 6,
>>>>>>> Stashed changes
   "outputs": [],
   "source": [
    "from nltk import word_tokenize\n",
    "\n",
    "df['tokens'] = df['text'].apply(lambda x: word_tokenize(x))"
   ],
   "metadata": {
    "collapsed": false,
    "ExecuteTime": {
<<<<<<< Updated upstream
     "end_time": "2024-01-30T13:42:00.181464Z",
     "start_time": "2024-01-30T13:42:00.153996Z"
=======
     "end_time": "2024-01-30T16:14:00.277096200Z",
     "start_time": "2024-01-30T16:14:00.203973200Z"
>>>>>>> Stashed changes
    }
   }
  },
  {
   "cell_type": "markdown",
   "source": [
    "Build a vectorizer that doesn't tokenize or preprocess the text"
   ],
   "metadata": {
    "collapsed": false
   }
  },
  {
   "cell_type": "code",
<<<<<<< Updated upstream
   "execution_count": 33,
=======
   "execution_count": 7,
>>>>>>> Stashed changes
   "outputs": [
    {
     "data": {
      "text/plain": "                                         text  \\\n0    This pasta is very tasty and affordable.   \n1  This pasta is not tasty and is affordable.   \n2          This pasta is delicious and cheap.   \n3       Pasta is tasty and pasta tastes good.   \n\n                                              tokens  \n0  [This, pasta, is, very, tasty, and, affordable...  \n1  [This, pasta, is, not, tasty, and, is, afforda...  \n2        [This, pasta, is, delicious, and, cheap, .]  \n3    [Pasta, is, tasty, and, pasta, tastes, good, .]  ",
      "text/html": "<div>\n<style scoped>\n    .dataframe tbody tr th:only-of-type {\n        vertical-align: middle;\n    }\n\n    .dataframe tbody tr th {\n        vertical-align: top;\n    }\n\n    .dataframe thead th {\n        text-align: right;\n    }\n</style>\n<table border=\"1\" class=\"dataframe\">\n  <thead>\n    <tr style=\"text-align: right;\">\n      <th></th>\n      <th>text</th>\n      <th>tokens</th>\n    </tr>\n  </thead>\n  <tbody>\n    <tr>\n      <th>0</th>\n      <td>This pasta is very tasty and affordable.</td>\n      <td>[This, pasta, is, very, tasty, and, affordable...</td>\n    </tr>\n    <tr>\n      <th>1</th>\n      <td>This pasta is not tasty and is affordable.</td>\n      <td>[This, pasta, is, not, tasty, and, is, afforda...</td>\n    </tr>\n    <tr>\n      <th>2</th>\n      <td>This pasta is delicious and cheap.</td>\n      <td>[This, pasta, is, delicious, and, cheap, .]</td>\n    </tr>\n    <tr>\n      <th>3</th>\n      <td>Pasta is tasty and pasta tastes good.</td>\n      <td>[Pasta, is, tasty, and, pasta, tastes, good, .]</td>\n    </tr>\n  </tbody>\n</table>\n</div>"
     },
<<<<<<< Updated upstream
     "execution_count": 33,
=======
     "execution_count": 7,
>>>>>>> Stashed changes
     "metadata": {},
     "output_type": "execute_result"
    }
   ],
   "source": [
    "df"
   ],
   "metadata": {
    "collapsed": false,
    "ExecuteTime": {
<<<<<<< Updated upstream
     "end_time": "2024-01-30T13:42:00.182489Z",
     "start_time": "2024-01-30T13:42:00.158954Z"
=======
     "end_time": "2024-01-30T16:14:00.279090600Z",
     "start_time": "2024-01-30T16:14:00.236169200Z"
>>>>>>> Stashed changes
    }
   }
  },
  {
   "cell_type": "code",
<<<<<<< Updated upstream
   "execution_count": 34,
=======
   "execution_count": 8,
>>>>>>> Stashed changes
   "outputs": [],
   "source": [
    "from sklearn.feature_extraction.text import CountVectorizer\n",
    "\n",
    "vectorizer = CountVectorizer(lowercase=False,\n",
    "                             preprocessor=lambda x: x,\n",
    "                             tokenizer=lambda x: x)"
   ],
   "metadata": {
    "collapsed": false,
    "ExecuteTime": {
<<<<<<< Updated upstream
     "end_time": "2024-01-30T13:42:00.183425Z",
     "start_time": "2024-01-30T13:42:00.164727Z"
=======
     "end_time": "2024-01-30T16:14:00.294050900Z",
     "start_time": "2024-01-30T16:14:00.267122900Z"
>>>>>>> Stashed changes
    }
   }
  },
  {
   "cell_type": "markdown",
   "source": [
    "Get list of lists of tokens"
   ],
   "metadata": {
    "collapsed": false
   }
  },
  {
   "cell_type": "code",
<<<<<<< Updated upstream
   "execution_count": 35,
=======
   "execution_count": 9,
>>>>>>> Stashed changes
   "outputs": [],
   "source": [
    "docs = df['tokens'].tolist()"
   ],
   "metadata": {
    "collapsed": false,
    "ExecuteTime": {
<<<<<<< Updated upstream
     "end_time": "2024-01-30T13:42:00.234688Z",
     "start_time": "2024-01-30T13:42:00.186385Z"
=======
     "end_time": "2024-01-30T16:14:00.302077500Z",
     "start_time": "2024-01-30T16:14:00.283080400Z"
>>>>>>> Stashed changes
    }
   }
  },
  {
   "cell_type": "markdown",
   "source": [
    "Note the <b>fit()</b> here"
   ],
   "metadata": {
    "collapsed": false
   }
  },
  {
   "cell_type": "code",
<<<<<<< Updated upstream
   "execution_count": 36,
=======
   "execution_count": 10,
>>>>>>> Stashed changes
   "outputs": [
    {
     "data": {
      "text/plain": "[['This', 'pasta', 'is', 'very', 'tasty', 'and', 'affordable', '.'],\n ['This', 'pasta', 'is', 'not', 'tasty', 'and', 'is', 'affordable', '.'],\n ['This', 'pasta', 'is', 'delicious', 'and', 'cheap', '.'],\n ['Pasta', 'is', 'tasty', 'and', 'pasta', 'tastes', 'good', '.']]"
     },
<<<<<<< Updated upstream
     "execution_count": 36,
=======
     "execution_count": 10,
>>>>>>> Stashed changes
     "metadata": {},
     "output_type": "execute_result"
    }
   ],
   "source": [
    "docs"
   ],
   "metadata": {
    "collapsed": false,
    "ExecuteTime": {
<<<<<<< Updated upstream
     "end_time": "2024-01-30T13:42:00.271170Z",
     "start_time": "2024-01-30T13:42:00.198594Z"
=======
     "end_time": "2024-01-30T16:14:00.367362200Z",
     "start_time": "2024-01-30T16:14:00.299038Z"
>>>>>>> Stashed changes
    }
   }
  },
  {
   "cell_type": "code",
<<<<<<< Updated upstream
   "execution_count": 37,
   "outputs": [
    {
     "data": {
      "text/plain": "CountVectorizer(lowercase=False,\n                preprocessor=<function <lambda> at 0x17fcda9d0>,\n                tokenizer=<function <lambda> at 0x17fceadc0>)",
      "text/html": "<style>#sk-container-id-3 {color: black;}#sk-container-id-3 pre{padding: 0;}#sk-container-id-3 div.sk-toggleable {background-color: white;}#sk-container-id-3 label.sk-toggleable__label {cursor: pointer;display: block;width: 100%;margin-bottom: 0;padding: 0.3em;box-sizing: border-box;text-align: center;}#sk-container-id-3 label.sk-toggleable__label-arrow:before {content: \"▸\";float: left;margin-right: 0.25em;color: #696969;}#sk-container-id-3 label.sk-toggleable__label-arrow:hover:before {color: black;}#sk-container-id-3 div.sk-estimator:hover label.sk-toggleable__label-arrow:before {color: black;}#sk-container-id-3 div.sk-toggleable__content {max-height: 0;max-width: 0;overflow: hidden;text-align: left;background-color: #f0f8ff;}#sk-container-id-3 div.sk-toggleable__content pre {margin: 0.2em;color: black;border-radius: 0.25em;background-color: #f0f8ff;}#sk-container-id-3 input.sk-toggleable__control:checked~div.sk-toggleable__content {max-height: 200px;max-width: 100%;overflow: auto;}#sk-container-id-3 input.sk-toggleable__control:checked~label.sk-toggleable__label-arrow:before {content: \"▾\";}#sk-container-id-3 div.sk-estimator input.sk-toggleable__control:checked~label.sk-toggleable__label {background-color: #d4ebff;}#sk-container-id-3 div.sk-label input.sk-toggleable__control:checked~label.sk-toggleable__label {background-color: #d4ebff;}#sk-container-id-3 input.sk-hidden--visually {border: 0;clip: rect(1px 1px 1px 1px);clip: rect(1px, 1px, 1px, 1px);height: 1px;margin: -1px;overflow: hidden;padding: 0;position: absolute;width: 1px;}#sk-container-id-3 div.sk-estimator {font-family: monospace;background-color: #f0f8ff;border: 1px dotted black;border-radius: 0.25em;box-sizing: border-box;margin-bottom: 0.5em;}#sk-container-id-3 div.sk-estimator:hover {background-color: #d4ebff;}#sk-container-id-3 div.sk-parallel-item::after {content: \"\";width: 100%;border-bottom: 1px solid gray;flex-grow: 1;}#sk-container-id-3 div.sk-label:hover label.sk-toggleable__label {background-color: #d4ebff;}#sk-container-id-3 div.sk-serial::before {content: \"\";position: absolute;border-left: 1px solid gray;box-sizing: border-box;top: 0;bottom: 0;left: 50%;z-index: 0;}#sk-container-id-3 div.sk-serial {display: flex;flex-direction: column;align-items: center;background-color: white;padding-right: 0.2em;padding-left: 0.2em;position: relative;}#sk-container-id-3 div.sk-item {position: relative;z-index: 1;}#sk-container-id-3 div.sk-parallel {display: flex;align-items: stretch;justify-content: center;background-color: white;position: relative;}#sk-container-id-3 div.sk-item::before, #sk-container-id-3 div.sk-parallel-item::before {content: \"\";position: absolute;border-left: 1px solid gray;box-sizing: border-box;top: 0;bottom: 0;left: 50%;z-index: -1;}#sk-container-id-3 div.sk-parallel-item {display: flex;flex-direction: column;z-index: 1;position: relative;background-color: white;}#sk-container-id-3 div.sk-parallel-item:first-child::after {align-self: flex-end;width: 50%;}#sk-container-id-3 div.sk-parallel-item:last-child::after {align-self: flex-start;width: 50%;}#sk-container-id-3 div.sk-parallel-item:only-child::after {width: 0;}#sk-container-id-3 div.sk-dashed-wrapped {border: 1px dashed gray;margin: 0 0.4em 0.5em 0.4em;box-sizing: border-box;padding-bottom: 0.4em;background-color: white;}#sk-container-id-3 div.sk-label label {font-family: monospace;font-weight: bold;display: inline-block;line-height: 1.2em;}#sk-container-id-3 div.sk-label-container {text-align: center;}#sk-container-id-3 div.sk-container {/* jupyter's `normalize.less` sets `[hidden] { display: none; }` but bootstrap.min.css set `[hidden] { display: none !important; }` so we also need the `!important` here to be able to override the default hidden behavior on the sphinx rendered scikit-learn.org. See: https://github.com/scikit-learn/scikit-learn/issues/21755 */display: inline-block !important;position: relative;}#sk-container-id-3 div.sk-text-repr-fallback {display: none;}</style><div id=\"sk-container-id-3\" class=\"sk-top-container\"><div class=\"sk-text-repr-fallback\"><pre>CountVectorizer(lowercase=False,\n                preprocessor=&lt;function &lt;lambda&gt; at 0x17fcda9d0&gt;,\n                tokenizer=&lt;function &lt;lambda&gt; at 0x17fceadc0&gt;)</pre><b>In a Jupyter environment, please rerun this cell to show the HTML representation or trust the notebook. <br />On GitHub, the HTML representation is unable to render, please try loading this page with nbviewer.org.</b></div><div class=\"sk-container\" hidden><div class=\"sk-item\"><div class=\"sk-estimator sk-toggleable\"><input class=\"sk-toggleable__control sk-hidden--visually\" id=\"sk-estimator-id-3\" type=\"checkbox\" checked><label for=\"sk-estimator-id-3\" class=\"sk-toggleable__label sk-toggleable__label-arrow\">CountVectorizer</label><div class=\"sk-toggleable__content\"><pre>CountVectorizer(lowercase=False,\n                preprocessor=&lt;function &lt;lambda&gt; at 0x17fcda9d0&gt;,\n                tokenizer=&lt;function &lt;lambda&gt; at 0x17fceadc0&gt;)</pre></div></div></div></div></div>"
     },
     "execution_count": 37,
=======
   "execution_count": 11,
   "outputs": [
    {
     "name": "stderr",
     "output_type": "stream",
     "text": [
      "C:\\Users\\yairli\\ai-nlp-2023-2024\\venv\\lib\\site-packages\\sklearn\\feature_extraction\\text.py:525: UserWarning: The parameter 'token_pattern' will not be used since 'tokenizer' is not None'\n",
      "  warnings.warn(\n"
     ]
    },
    {
     "data": {
      "text/plain": "CountVectorizer(lowercase=False,\n                preprocessor=<function <lambda> at 0x00000235906FED30>,\n                tokenizer=<function <lambda> at 0x00000235906FEDC0>)",
      "text/html": "<style>#sk-container-id-1 {color: black;}#sk-container-id-1 pre{padding: 0;}#sk-container-id-1 div.sk-toggleable {background-color: white;}#sk-container-id-1 label.sk-toggleable__label {cursor: pointer;display: block;width: 100%;margin-bottom: 0;padding: 0.3em;box-sizing: border-box;text-align: center;}#sk-container-id-1 label.sk-toggleable__label-arrow:before {content: \"▸\";float: left;margin-right: 0.25em;color: #696969;}#sk-container-id-1 label.sk-toggleable__label-arrow:hover:before {color: black;}#sk-container-id-1 div.sk-estimator:hover label.sk-toggleable__label-arrow:before {color: black;}#sk-container-id-1 div.sk-toggleable__content {max-height: 0;max-width: 0;overflow: hidden;text-align: left;background-color: #f0f8ff;}#sk-container-id-1 div.sk-toggleable__content pre {margin: 0.2em;color: black;border-radius: 0.25em;background-color: #f0f8ff;}#sk-container-id-1 input.sk-toggleable__control:checked~div.sk-toggleable__content {max-height: 200px;max-width: 100%;overflow: auto;}#sk-container-id-1 input.sk-toggleable__control:checked~label.sk-toggleable__label-arrow:before {content: \"▾\";}#sk-container-id-1 div.sk-estimator input.sk-toggleable__control:checked~label.sk-toggleable__label {background-color: #d4ebff;}#sk-container-id-1 div.sk-label input.sk-toggleable__control:checked~label.sk-toggleable__label {background-color: #d4ebff;}#sk-container-id-1 input.sk-hidden--visually {border: 0;clip: rect(1px 1px 1px 1px);clip: rect(1px, 1px, 1px, 1px);height: 1px;margin: -1px;overflow: hidden;padding: 0;position: absolute;width: 1px;}#sk-container-id-1 div.sk-estimator {font-family: monospace;background-color: #f0f8ff;border: 1px dotted black;border-radius: 0.25em;box-sizing: border-box;margin-bottom: 0.5em;}#sk-container-id-1 div.sk-estimator:hover {background-color: #d4ebff;}#sk-container-id-1 div.sk-parallel-item::after {content: \"\";width: 100%;border-bottom: 1px solid gray;flex-grow: 1;}#sk-container-id-1 div.sk-label:hover label.sk-toggleable__label {background-color: #d4ebff;}#sk-container-id-1 div.sk-serial::before {content: \"\";position: absolute;border-left: 1px solid gray;box-sizing: border-box;top: 0;bottom: 0;left: 50%;z-index: 0;}#sk-container-id-1 div.sk-serial {display: flex;flex-direction: column;align-items: center;background-color: white;padding-right: 0.2em;padding-left: 0.2em;position: relative;}#sk-container-id-1 div.sk-item {position: relative;z-index: 1;}#sk-container-id-1 div.sk-parallel {display: flex;align-items: stretch;justify-content: center;background-color: white;position: relative;}#sk-container-id-1 div.sk-item::before, #sk-container-id-1 div.sk-parallel-item::before {content: \"\";position: absolute;border-left: 1px solid gray;box-sizing: border-box;top: 0;bottom: 0;left: 50%;z-index: -1;}#sk-container-id-1 div.sk-parallel-item {display: flex;flex-direction: column;z-index: 1;position: relative;background-color: white;}#sk-container-id-1 div.sk-parallel-item:first-child::after {align-self: flex-end;width: 50%;}#sk-container-id-1 div.sk-parallel-item:last-child::after {align-self: flex-start;width: 50%;}#sk-container-id-1 div.sk-parallel-item:only-child::after {width: 0;}#sk-container-id-1 div.sk-dashed-wrapped {border: 1px dashed gray;margin: 0 0.4em 0.5em 0.4em;box-sizing: border-box;padding-bottom: 0.4em;background-color: white;}#sk-container-id-1 div.sk-label label {font-family: monospace;font-weight: bold;display: inline-block;line-height: 1.2em;}#sk-container-id-1 div.sk-label-container {text-align: center;}#sk-container-id-1 div.sk-container {/* jupyter's `normalize.less` sets `[hidden] { display: none; }` but bootstrap.min.css set `[hidden] { display: none !important; }` so we also need the `!important` here to be able to override the default hidden behavior on the sphinx rendered scikit-learn.org. See: https://github.com/scikit-learn/scikit-learn/issues/21755 */display: inline-block !important;position: relative;}#sk-container-id-1 div.sk-text-repr-fallback {display: none;}</style><div id=\"sk-container-id-1\" class=\"sk-top-container\"><div class=\"sk-text-repr-fallback\"><pre>CountVectorizer(lowercase=False,\n                preprocessor=&lt;function &lt;lambda&gt; at 0x00000235906FED30&gt;,\n                tokenizer=&lt;function &lt;lambda&gt; at 0x00000235906FEDC0&gt;)</pre><b>In a Jupyter environment, please rerun this cell to show the HTML representation or trust the notebook. <br />On GitHub, the HTML representation is unable to render, please try loading this page with nbviewer.org.</b></div><div class=\"sk-container\" hidden><div class=\"sk-item\"><div class=\"sk-estimator sk-toggleable\"><input class=\"sk-toggleable__control sk-hidden--visually\" id=\"sk-estimator-id-1\" type=\"checkbox\" checked><label for=\"sk-estimator-id-1\" class=\"sk-toggleable__label sk-toggleable__label-arrow\">CountVectorizer</label><div class=\"sk-toggleable__content\"><pre>CountVectorizer(lowercase=False,\n                preprocessor=&lt;function &lt;lambda&gt; at 0x00000235906FED30&gt;,\n                tokenizer=&lt;function &lt;lambda&gt; at 0x00000235906FEDC0&gt;)</pre></div></div></div></div></div>"
     },
     "execution_count": 11,
>>>>>>> Stashed changes
     "metadata": {},
     "output_type": "execute_result"
    }
   ],
   "source": [
    "vectorizer.fit(docs)"
   ],
   "metadata": {
    "collapsed": false,
    "ExecuteTime": {
<<<<<<< Updated upstream
     "end_time": "2024-01-30T13:42:00.310167Z",
     "start_time": "2024-01-30T13:42:00.246593Z"
=======
     "end_time": "2024-01-30T16:14:00.436166600Z",
     "start_time": "2024-01-30T16:14:00.329956700Z"
>>>>>>> Stashed changes
    }
   }
  },
  {
   "cell_type": "markdown",
   "source": [
    "Print the feature names list"
   ],
   "metadata": {
    "collapsed": false
   }
  },
  {
   "cell_type": "code",
<<<<<<< Updated upstream
   "execution_count": 41,
=======
   "execution_count": 12,
>>>>>>> Stashed changes
   "outputs": [
    {
     "data": {
      "text/plain": "array(['.', 'Pasta', 'This', 'affordable', 'and', 'cheap', 'delicious',\n       'good', 'is', 'not', 'pasta', 'tastes', 'tasty', 'very'],\n      dtype=object)"
     },
<<<<<<< Updated upstream
     "execution_count": 41,
=======
     "execution_count": 12,
>>>>>>> Stashed changes
     "metadata": {},
     "output_type": "execute_result"
    }
   ],
   "source": [
    "vectorizer.get_feature_names_out()"
   ],
   "metadata": {
    "collapsed": false,
    "ExecuteTime": {
<<<<<<< Updated upstream
     "end_time": "2024-01-30T13:43:33.816712Z",
     "start_time": "2024-01-30T13:43:33.788813Z"
=======
     "end_time": "2024-01-30T16:14:00.437163700Z",
     "start_time": "2024-01-30T16:14:00.361384600Z"
>>>>>>> Stashed changes
    }
   }
  },
  {
   "cell_type": "markdown",
   "source": [
    "Create vectors"
   ],
   "metadata": {
    "collapsed": false
   }
  },
  {
   "cell_type": "code",
<<<<<<< Updated upstream
   "execution_count": 45,
=======
   "execution_count": 13,
>>>>>>> Stashed changes
   "outputs": [],
   "source": [
    "matrix1 = vectorizer.transform(docs)"
   ],
   "metadata": {
    "collapsed": false,
    "ExecuteTime": {
<<<<<<< Updated upstream
     "end_time": "2024-01-30T13:45:42.370879Z",
     "start_time": "2024-01-30T13:45:42.368290Z"
=======
     "end_time": "2024-01-30T16:14:00.437163700Z",
     "start_time": "2024-01-30T16:14:00.378333200Z"
>>>>>>> Stashed changes
    }
   }
  },
  {
   "cell_type": "code",
   "outputs": [
    {
     "name": "stdout",
     "output_type": "stream",
     "text": [
      "[[1 0 1 1 1 0 0 0 1 0 1 0 1 1]\n",
      " [1 0 1 1 1 0 0 0 2 1 1 0 1 0]\n",
      " [1 0 1 0 1 1 1 0 1 0 1 0 0 0]\n",
      " [1 1 0 0 1 0 0 1 1 0 1 1 1 0]]\n"
     ]
    }
   ],
   "source": [
    "print(matrix1.toarray())"
   ],
   "metadata": {
    "collapsed": false,
    "ExecuteTime": {
<<<<<<< Updated upstream
     "end_time": "2024-01-30T13:45:52.063241Z",
     "start_time": "2024-01-30T13:45:52.058874Z"
    }
   },
   "execution_count": 47
  },
  {
   "cell_type": "code",
   "execution_count": 49,
=======
     "end_time": "2024-01-30T16:14:00.477056700Z",
     "start_time": "2024-01-30T16:14:00.403267Z"
    }
   },
   "execution_count": 14
  },
  {
   "cell_type": "code",
   "execution_count": 15,
>>>>>>> Stashed changes
   "outputs": [],
   "source": [
    "matrix2 = vectorizer.fit_transform(docs)"
   ],
   "metadata": {
    "collapsed": false,
    "ExecuteTime": {
<<<<<<< Updated upstream
     "end_time": "2024-01-30T13:46:09.287593Z",
     "start_time": "2024-01-30T13:46:09.282949Z"
=======
     "end_time": "2024-01-30T16:14:00.491019800Z",
     "start_time": "2024-01-30T16:14:00.424210100Z"
>>>>>>> Stashed changes
    }
   }
  },
  {
   "cell_type": "code",
   "outputs": [
    {
     "name": "stdout",
     "output_type": "stream",
     "text": [
      "[[1 0 1 1 1 0 0 0 1 0 1 0 1 1]\n",
      " [1 0 1 1 1 0 0 0 2 1 1 0 1 0]\n",
      " [1 0 1 0 1 1 1 0 1 0 1 0 0 0]\n",
      " [1 1 0 0 1 0 0 1 1 0 1 1 1 0]]\n"
     ]
    }
   ],
   "source": [
    "print(matrix2.toarray())"
   ],
   "metadata": {
    "collapsed": false,
    "ExecuteTime": {
<<<<<<< Updated upstream
     "end_time": "2024-01-30T13:46:09.550764Z",
     "start_time": "2024-01-30T13:46:09.545461Z"
    }
   },
   "execution_count": 50
=======
     "end_time": "2024-01-30T16:14:00.492017100Z",
     "start_time": "2024-01-30T16:14:00.441153400Z"
    }
   },
   "execution_count": 16
>>>>>>> Stashed changes
  },
  {
   "cell_type": "code",
   "outputs": [],
   "source": [],
   "metadata": {
<<<<<<< Updated upstream
    "collapsed": false
   }
=======
    "collapsed": false,
    "ExecuteTime": {
     "end_time": "2024-01-30T16:14:00.492017100Z",
     "start_time": "2024-01-30T16:14:00.456113600Z"
    }
   },
   "execution_count": 16
>>>>>>> Stashed changes
  }
 ],
 "metadata": {
  "kernelspec": {
   "display_name": "Python 3",
   "language": "python",
   "name": "python3"
  },
  "language_info": {
   "codemirror_mode": {
    "name": "ipython",
    "version": 2
   },
   "file_extension": ".py",
   "mimetype": "text/x-python",
   "name": "python",
   "nbconvert_exporter": "python",
   "pygments_lexer": "ipython2",
   "version": "2.7.6"
  }
 },
 "nbformat": 4,
 "nbformat_minor": 0
}
