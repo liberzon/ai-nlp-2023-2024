{
 "cells": [
  {
   "cell_type": "code",
   "execution_count": 28,
   "outputs": [],
   "source": [
    "import pandas as pd\n",
    "import nltk\n",
    "from nltk.sentiment.vader import SentimentIntensityAnalyzer\n",
    "\n",
    "%matplotlib inline"
   ],
   "metadata": {
    "collapsed": false,
    "ExecuteTime": {
     "end_time": "2024-02-12T21:38:16.700972Z",
     "start_time": "2024-02-12T21:38:16.686212Z"
    }
   }
  },
  {
   "cell_type": "code",
   "execution_count": 29,
   "outputs": [
    {
     "name": "stderr",
     "output_type": "stream",
     "text": [
      "[nltk_data] Downloading package vader_lexicon to\n",
      "[nltk_data]     /Users/yairl/nltk_data...\n",
      "[nltk_data]   Package vader_lexicon is already up-to-date!\n"
     ]
    },
    {
     "data": {
      "text/plain": "True"
     },
     "execution_count": 29,
     "metadata": {},
     "output_type": "execute_result"
    }
   ],
   "source": [
    "nltk.download('vader_lexicon')"
   ],
   "metadata": {
    "collapsed": false,
    "ExecuteTime": {
     "end_time": "2024-02-12T21:38:16.749054Z",
     "start_time": "2024-02-12T21:38:16.698865Z"
    }
   }
  },
  {
   "cell_type": "code",
   "outputs": [],
   "source": [
    "data_source_url = \"lesson8-sentiment/reviews_sample.csv\"\n",
    "amazon_reviews = pd.read_csv(data_source_url)"
   ],
   "metadata": {
    "collapsed": false,
    "ExecuteTime": {
     "end_time": "2024-02-13T17:34:55.196380Z",
     "start_time": "2024-02-13T17:34:55.118208Z"
    }
   },
   "execution_count": 50
  },
  {
   "cell_type": "code",
   "outputs": [
    {
     "data": {
      "text/plain": "                                              review label\n0  Stuning even for the non-gamer: This sound tra...   pos\n1  The best soundtrack ever to anything.: I'm rea...   pos\n2  Amazing!: This soundtrack is my favorite music...   pos\n3  Excellent Soundtrack: I truly like this soundt...   pos\n4  Remember, Pull Your Jaw Off The Floor After He...   pos",
      "text/html": "<div>\n<style scoped>\n    .dataframe tbody tr th:only-of-type {\n        vertical-align: middle;\n    }\n\n    .dataframe tbody tr th {\n        vertical-align: top;\n    }\n\n    .dataframe thead th {\n        text-align: right;\n    }\n</style>\n<table border=\"1\" class=\"dataframe\">\n  <thead>\n    <tr style=\"text-align: right;\">\n      <th></th>\n      <th>review</th>\n      <th>label</th>\n    </tr>\n  </thead>\n  <tbody>\n    <tr>\n      <th>0</th>\n      <td>Stuning even for the non-gamer: This sound tra...</td>\n      <td>pos</td>\n    </tr>\n    <tr>\n      <th>1</th>\n      <td>The best soundtrack ever to anything.: I'm rea...</td>\n      <td>pos</td>\n    </tr>\n    <tr>\n      <th>2</th>\n      <td>Amazing!: This soundtrack is my favorite music...</td>\n      <td>pos</td>\n    </tr>\n    <tr>\n      <th>3</th>\n      <td>Excellent Soundtrack: I truly like this soundt...</td>\n      <td>pos</td>\n    </tr>\n    <tr>\n      <th>4</th>\n      <td>Remember, Pull Your Jaw Off The Floor After He...</td>\n      <td>pos</td>\n    </tr>\n  </tbody>\n</table>\n</div>"
     },
     "execution_count": 31,
     "metadata": {},
     "output_type": "execute_result"
    }
   ],
   "source": [
    "amazon_reviews.head()"
   ],
   "metadata": {
    "collapsed": false,
    "ExecuteTime": {
     "end_time": "2024-02-12T21:38:16.838302Z",
     "start_time": "2024-02-12T21:38:16.817791Z"
    }
   },
   "execution_count": 31
  },
  {
   "cell_type": "code",
   "execution_count": 32,
   "outputs": [],
   "source": [
    "sid = SentimentIntensityAnalyzer()"
   ],
   "metadata": {
    "collapsed": false,
    "ExecuteTime": {
     "end_time": "2024-02-12T21:38:16.838593Z",
     "start_time": "2024-02-12T21:38:16.820633Z"
    }
   }
  },
  {
   "cell_type": "code",
   "execution_count": 33,
   "outputs": [
    {
     "data": {
      "text/plain": "{'neg': 0.0, 'neu': 0.508, 'pos': 0.492, 'compound': 0.4404}"
     },
     "execution_count": 33,
     "metadata": {},
     "output_type": "execute_result"
    }
   ],
   "source": [
    "a = 'This was a good movie.'\n",
    "sid.polarity_scores(a)"
   ],
   "metadata": {
    "collapsed": false,
    "ExecuteTime": {
     "end_time": "2024-02-12T21:38:16.838899Z",
     "start_time": "2024-02-12T21:38:16.827338Z"
    }
   }
  },
  {
   "cell_type": "code",
   "execution_count": 34,
   "outputs": [
    {
     "data": {
      "text/plain": "{'neg': 0.0, 'neu': 0.425, 'pos': 0.575, 'compound': 0.8877}"
     },
     "execution_count": 34,
     "metadata": {},
     "output_type": "execute_result"
    }
   ],
   "source": [
    "a = 'This was the best, most awesome movie EVER MADE!!!'\n",
    "sid.polarity_scores(a)"
   ],
   "metadata": {
    "collapsed": false,
    "ExecuteTime": {
     "end_time": "2024-02-12T21:38:16.839184Z",
     "start_time": "2024-02-12T21:38:16.831235Z"
    }
   }
  },
  {
   "cell_type": "code",
   "execution_count": 35,
   "outputs": [
    {
     "data": {
      "text/plain": "label\npos    10257\nneg     9742\nName: count, dtype: int64"
     },
     "execution_count": 35,
     "metadata": {},
     "output_type": "execute_result"
    }
   ],
   "source": [
    "amazon_reviews['label'].value_counts()"
   ],
   "metadata": {
    "collapsed": false,
    "ExecuteTime": {
     "end_time": "2024-02-12T21:38:16.845970Z",
     "start_time": "2024-02-12T21:38:16.836406Z"
    }
   }
  },
  {
   "cell_type": "code",
   "execution_count": 36,
   "outputs": [],
   "source": [
    "amazon_reviews.dropna(inplace=True)\n",
    "\n",
    "blanks = []  # start with an empty list\n",
    "\n",
    "for i,lb,rv in amazon_reviews.itertuples():\n",
    "    if type(rv)==str:\n",
    "        if rv.isspace():\n",
    "            blanks.append(i)\n",
    "\n",
    "amazon_reviews.drop(blanks, inplace=True)"
   ],
   "metadata": {
    "collapsed": false,
    "ExecuteTime": {
     "end_time": "2024-02-12T21:38:16.875712Z",
     "start_time": "2024-02-12T21:38:16.841193Z"
    }
   }
  },
  {
   "cell_type": "code",
   "execution_count": 37,
   "outputs": [],
   "source": [
    "amazon_reviews['scores'] = amazon_reviews['review'].apply(lambda review: sid.polarity_scores(review))"
   ],
   "metadata": {
    "collapsed": false,
    "ExecuteTime": {
     "end_time": "2024-02-12T21:38:26.523440Z",
     "start_time": "2024-02-12T21:38:16.885076Z"
    }
   }
  },
  {
   "cell_type": "code",
   "execution_count": 49,
   "outputs": [
    {
     "data": {
      "text/plain": "                                              review label  \\\n0  Stuning even for the non-gamer: This sound tra...   pos   \n1  The best soundtrack ever to anything.: I'm rea...   pos   \n2  Amazing!: This soundtrack is my favorite music...   pos   \n3  Excellent Soundtrack: I truly like this soundt...   pos   \n4  Remember, Pull Your Jaw Off The Floor After He...   pos   \n\n                                              scores  compound comp_score  \\\n0  {'neg': 0.088, 'neu': 0.669, 'pos': 0.243, 'co...    0.9454        pos   \n1  {'neg': 0.018, 'neu': 0.837, 'pos': 0.145, 'co...    0.8957        pos   \n2  {'neg': 0.04, 'neu': 0.692, 'pos': 0.268, 'com...    0.9858        pos   \n3  {'neg': 0.09, 'neu': 0.615, 'pos': 0.295, 'com...    0.9814        pos   \n4  {'neg': 0.0, 'neu': 0.746, 'pos': 0.254, 'comp...    0.9781        pos   \n\n   agreement  \n0       True  \n1       True  \n2       True  \n3       True  \n4       True  ",
      "text/html": "<div>\n<style scoped>\n    .dataframe tbody tr th:only-of-type {\n        vertical-align: middle;\n    }\n\n    .dataframe tbody tr th {\n        vertical-align: top;\n    }\n\n    .dataframe thead th {\n        text-align: right;\n    }\n</style>\n<table border=\"1\" class=\"dataframe\">\n  <thead>\n    <tr style=\"text-align: right;\">\n      <th></th>\n      <th>review</th>\n      <th>label</th>\n      <th>scores</th>\n      <th>compound</th>\n      <th>comp_score</th>\n      <th>agreement</th>\n    </tr>\n  </thead>\n  <tbody>\n    <tr>\n      <th>0</th>\n      <td>Stuning even for the non-gamer: This sound tra...</td>\n      <td>pos</td>\n      <td>{'neg': 0.088, 'neu': 0.669, 'pos': 0.243, 'co...</td>\n      <td>0.9454</td>\n      <td>pos</td>\n      <td>True</td>\n    </tr>\n    <tr>\n      <th>1</th>\n      <td>The best soundtrack ever to anything.: I'm rea...</td>\n      <td>pos</td>\n      <td>{'neg': 0.018, 'neu': 0.837, 'pos': 0.145, 'co...</td>\n      <td>0.8957</td>\n      <td>pos</td>\n      <td>True</td>\n    </tr>\n    <tr>\n      <th>2</th>\n      <td>Amazing!: This soundtrack is my favorite music...</td>\n      <td>pos</td>\n      <td>{'neg': 0.04, 'neu': 0.692, 'pos': 0.268, 'com...</td>\n      <td>0.9858</td>\n      <td>pos</td>\n      <td>True</td>\n    </tr>\n    <tr>\n      <th>3</th>\n      <td>Excellent Soundtrack: I truly like this soundt...</td>\n      <td>pos</td>\n      <td>{'neg': 0.09, 'neu': 0.615, 'pos': 0.295, 'com...</td>\n      <td>0.9814</td>\n      <td>pos</td>\n      <td>True</td>\n    </tr>\n    <tr>\n      <th>4</th>\n      <td>Remember, Pull Your Jaw Off The Floor After He...</td>\n      <td>pos</td>\n      <td>{'neg': 0.0, 'neu': 0.746, 'pos': 0.254, 'comp...</td>\n      <td>0.9781</td>\n      <td>pos</td>\n      <td>True</td>\n    </tr>\n  </tbody>\n</table>\n</div>"
     },
     "execution_count": 49,
     "metadata": {},
     "output_type": "execute_result"
    }
   ],
   "source": [
    "amazon_reviews.head()"
   ],
   "metadata": {
    "collapsed": false,
    "ExecuteTime": {
     "end_time": "2024-02-12T21:39:12.682844Z",
     "start_time": "2024-02-12T21:39:12.674109Z"
    }
   }
  },
  {
   "cell_type": "code",
   "execution_count": 39,
   "outputs": [],
   "source": [
    "amazon_reviews['compound']  = amazon_reviews['scores'].apply(lambda score_dict: score_dict['compound'])"
   ],
   "metadata": {
    "collapsed": false,
    "ExecuteTime": {
     "end_time": "2024-02-12T21:38:26.538761Z",
     "start_time": "2024-02-12T21:38:26.533132Z"
    }
   }
  },
  {
   "cell_type": "code",
   "execution_count": 40,
   "outputs": [
    {
     "data": {
      "text/plain": "                                              review label  \\\n0  Stuning even for the non-gamer: This sound tra...   pos   \n1  The best soundtrack ever to anything.: I'm rea...   pos   \n2  Amazing!: This soundtrack is my favorite music...   pos   \n3  Excellent Soundtrack: I truly like this soundt...   pos   \n4  Remember, Pull Your Jaw Off The Floor After He...   pos   \n\n                                              scores  compound  \n0  {'neg': 0.088, 'neu': 0.669, 'pos': 0.243, 'co...    0.9454  \n1  {'neg': 0.018, 'neu': 0.837, 'pos': 0.145, 'co...    0.8957  \n2  {'neg': 0.04, 'neu': 0.692, 'pos': 0.268, 'com...    0.9858  \n3  {'neg': 0.09, 'neu': 0.615, 'pos': 0.295, 'com...    0.9814  \n4  {'neg': 0.0, 'neu': 0.746, 'pos': 0.254, 'comp...    0.9781  ",
      "text/html": "<div>\n<style scoped>\n    .dataframe tbody tr th:only-of-type {\n        vertical-align: middle;\n    }\n\n    .dataframe tbody tr th {\n        vertical-align: top;\n    }\n\n    .dataframe thead th {\n        text-align: right;\n    }\n</style>\n<table border=\"1\" class=\"dataframe\">\n  <thead>\n    <tr style=\"text-align: right;\">\n      <th></th>\n      <th>review</th>\n      <th>label</th>\n      <th>scores</th>\n      <th>compound</th>\n    </tr>\n  </thead>\n  <tbody>\n    <tr>\n      <th>0</th>\n      <td>Stuning even for the non-gamer: This sound tra...</td>\n      <td>pos</td>\n      <td>{'neg': 0.088, 'neu': 0.669, 'pos': 0.243, 'co...</td>\n      <td>0.9454</td>\n    </tr>\n    <tr>\n      <th>1</th>\n      <td>The best soundtrack ever to anything.: I'm rea...</td>\n      <td>pos</td>\n      <td>{'neg': 0.018, 'neu': 0.837, 'pos': 0.145, 'co...</td>\n      <td>0.8957</td>\n    </tr>\n    <tr>\n      <th>2</th>\n      <td>Amazing!: This soundtrack is my favorite music...</td>\n      <td>pos</td>\n      <td>{'neg': 0.04, 'neu': 0.692, 'pos': 0.268, 'com...</td>\n      <td>0.9858</td>\n    </tr>\n    <tr>\n      <th>3</th>\n      <td>Excellent Soundtrack: I truly like this soundt...</td>\n      <td>pos</td>\n      <td>{'neg': 0.09, 'neu': 0.615, 'pos': 0.295, 'com...</td>\n      <td>0.9814</td>\n    </tr>\n    <tr>\n      <th>4</th>\n      <td>Remember, Pull Your Jaw Off The Floor After He...</td>\n      <td>pos</td>\n      <td>{'neg': 0.0, 'neu': 0.746, 'pos': 0.254, 'comp...</td>\n      <td>0.9781</td>\n    </tr>\n  </tbody>\n</table>\n</div>"
     },
     "execution_count": 40,
     "metadata": {},
     "output_type": "execute_result"
    }
   ],
   "source": [
    "amazon_reviews.head()"
   ],
   "metadata": {
    "collapsed": false,
    "ExecuteTime": {
     "end_time": "2024-02-12T21:38:26.543686Z",
     "start_time": "2024-02-12T21:38:26.536322Z"
    }
   }
  },
  {
   "cell_type": "code",
   "execution_count": 41,
   "outputs": [],
   "source": [
    "def test_compound(c):\n",
    "    if c > 0:\n",
    "        return 'pos'\n",
    "    if c == 0:\n",
    "        return 'neu'\n",
    "    return 'neg'"
   ],
   "metadata": {
    "collapsed": false,
    "ExecuteTime": {
     "end_time": "2024-02-12T21:38:26.544597Z",
     "start_time": "2024-02-12T21:38:26.542033Z"
    }
   }
  },
  {
   "cell_type": "code",
   "execution_count": 42,
   "outputs": [],
   "source": [
    "amazon_reviews['comp_score'] = amazon_reviews['compound'].apply(lambda c: test_compound(c))"
   ],
   "metadata": {
    "collapsed": false,
    "ExecuteTime": {
     "end_time": "2024-02-12T21:38:26.555276Z",
     "start_time": "2024-02-12T21:38:26.545119Z"
    }
   }
  },
  {
   "cell_type": "code",
   "execution_count": 43,
   "outputs": [
    {
     "data": {
      "text/plain": "                                                  review label  \\\n0      Stuning even for the non-gamer: This sound tra...   pos   \n1      The best soundtrack ever to anything.: I'm rea...   pos   \n2      Amazing!: This soundtrack is my favorite music...   pos   \n3      Excellent Soundtrack: I truly like this soundt...   pos   \n4      Remember, Pull Your Jaw Off The Floor After He...   pos   \n...                                                  ...   ...   \n19994  Rip-off: I liked Flint, I trusted him to deliv...   neg   \n19995  Very disappointing: I have previously bought t...   neg   \n19996  Tedious collection of stories about a goat.: I...   neg   \n19997  Disappointed: I love the 1632 series. I have b...   neg   \n19998  Pretty Disappointing: I have to say that after...   neg   \n\n                                                  scores  compound comp_score  \n0      {'neg': 0.088, 'neu': 0.669, 'pos': 0.243, 'co...    0.9454        pos  \n1      {'neg': 0.018, 'neu': 0.837, 'pos': 0.145, 'co...    0.8957        pos  \n2      {'neg': 0.04, 'neu': 0.692, 'pos': 0.268, 'com...    0.9858        pos  \n3      {'neg': 0.09, 'neu': 0.615, 'pos': 0.295, 'com...    0.9814        pos  \n4      {'neg': 0.0, 'neu': 0.746, 'pos': 0.254, 'comp...    0.9781        pos  \n...                                                  ...       ...        ...  \n19994  {'neg': 0.084, 'neu': 0.83, 'pos': 0.086, 'com...   -0.2144        neg  \n19995  {'neg': 0.23, 'neu': 0.714, 'pos': 0.056, 'com...   -0.8748        neg  \n19996  {'neg': 0.071, 'neu': 0.786, 'pos': 0.143, 'co...    0.8040        pos  \n19997  {'neg': 0.081, 'neu': 0.784, 'pos': 0.135, 'co...    0.6487        pos  \n19998  {'neg': 0.084, 'neu': 0.715, 'pos': 0.201, 'co...    0.9100        pos  \n\n[19999 rows x 5 columns]",
      "text/html": "<div>\n<style scoped>\n    .dataframe tbody tr th:only-of-type {\n        vertical-align: middle;\n    }\n\n    .dataframe tbody tr th {\n        vertical-align: top;\n    }\n\n    .dataframe thead th {\n        text-align: right;\n    }\n</style>\n<table border=\"1\" class=\"dataframe\">\n  <thead>\n    <tr style=\"text-align: right;\">\n      <th></th>\n      <th>review</th>\n      <th>label</th>\n      <th>scores</th>\n      <th>compound</th>\n      <th>comp_score</th>\n    </tr>\n  </thead>\n  <tbody>\n    <tr>\n      <th>0</th>\n      <td>Stuning even for the non-gamer: This sound tra...</td>\n      <td>pos</td>\n      <td>{'neg': 0.088, 'neu': 0.669, 'pos': 0.243, 'co...</td>\n      <td>0.9454</td>\n      <td>pos</td>\n    </tr>\n    <tr>\n      <th>1</th>\n      <td>The best soundtrack ever to anything.: I'm rea...</td>\n      <td>pos</td>\n      <td>{'neg': 0.018, 'neu': 0.837, 'pos': 0.145, 'co...</td>\n      <td>0.8957</td>\n      <td>pos</td>\n    </tr>\n    <tr>\n      <th>2</th>\n      <td>Amazing!: This soundtrack is my favorite music...</td>\n      <td>pos</td>\n      <td>{'neg': 0.04, 'neu': 0.692, 'pos': 0.268, 'com...</td>\n      <td>0.9858</td>\n      <td>pos</td>\n    </tr>\n    <tr>\n      <th>3</th>\n      <td>Excellent Soundtrack: I truly like this soundt...</td>\n      <td>pos</td>\n      <td>{'neg': 0.09, 'neu': 0.615, 'pos': 0.295, 'com...</td>\n      <td>0.9814</td>\n      <td>pos</td>\n    </tr>\n    <tr>\n      <th>4</th>\n      <td>Remember, Pull Your Jaw Off The Floor After He...</td>\n      <td>pos</td>\n      <td>{'neg': 0.0, 'neu': 0.746, 'pos': 0.254, 'comp...</td>\n      <td>0.9781</td>\n      <td>pos</td>\n    </tr>\n    <tr>\n      <th>...</th>\n      <td>...</td>\n      <td>...</td>\n      <td>...</td>\n      <td>...</td>\n      <td>...</td>\n    </tr>\n    <tr>\n      <th>19994</th>\n      <td>Rip-off: I liked Flint, I trusted him to deliv...</td>\n      <td>neg</td>\n      <td>{'neg': 0.084, 'neu': 0.83, 'pos': 0.086, 'com...</td>\n      <td>-0.2144</td>\n      <td>neg</td>\n    </tr>\n    <tr>\n      <th>19995</th>\n      <td>Very disappointing: I have previously bought t...</td>\n      <td>neg</td>\n      <td>{'neg': 0.23, 'neu': 0.714, 'pos': 0.056, 'com...</td>\n      <td>-0.8748</td>\n      <td>neg</td>\n    </tr>\n    <tr>\n      <th>19996</th>\n      <td>Tedious collection of stories about a goat.: I...</td>\n      <td>neg</td>\n      <td>{'neg': 0.071, 'neu': 0.786, 'pos': 0.143, 'co...</td>\n      <td>0.8040</td>\n      <td>pos</td>\n    </tr>\n    <tr>\n      <th>19997</th>\n      <td>Disappointed: I love the 1632 series. I have b...</td>\n      <td>neg</td>\n      <td>{'neg': 0.081, 'neu': 0.784, 'pos': 0.135, 'co...</td>\n      <td>0.6487</td>\n      <td>pos</td>\n    </tr>\n    <tr>\n      <th>19998</th>\n      <td>Pretty Disappointing: I have to say that after...</td>\n      <td>neg</td>\n      <td>{'neg': 0.084, 'neu': 0.715, 'pos': 0.201, 'co...</td>\n      <td>0.9100</td>\n      <td>pos</td>\n    </tr>\n  </tbody>\n</table>\n<p>19999 rows × 5 columns</p>\n</div>"
     },
     "execution_count": 43,
     "metadata": {},
     "output_type": "execute_result"
    }
   ],
   "source": [
    "amazon_reviews"
   ],
   "metadata": {
    "collapsed": false,
    "ExecuteTime": {
     "end_time": "2024-02-12T21:38:26.592218Z",
     "start_time": "2024-02-12T21:38:26.551530Z"
    }
   }
  },
  {
   "cell_type": "code",
   "execution_count": 44,
   "outputs": [],
   "source": [
    "amazon_reviews['agreement'] = amazon_reviews['label'] == amazon_reviews['comp_score']"
   ],
   "metadata": {
    "collapsed": false,
    "ExecuteTime": {
     "end_time": "2024-02-12T21:38:26.596906Z",
     "start_time": "2024-02-12T21:38:26.560115Z"
    }
   }
  },
  {
   "cell_type": "code",
   "execution_count": 45,
   "outputs": [
    {
     "data": {
      "text/plain": "                                                  review label  \\\n0      Stuning even for the non-gamer: This sound tra...   pos   \n1      The best soundtrack ever to anything.: I'm rea...   pos   \n2      Amazing!: This soundtrack is my favorite music...   pos   \n3      Excellent Soundtrack: I truly like this soundt...   pos   \n4      Remember, Pull Your Jaw Off The Floor After He...   pos   \n...                                                  ...   ...   \n19994  Rip-off: I liked Flint, I trusted him to deliv...   neg   \n19995  Very disappointing: I have previously bought t...   neg   \n19996  Tedious collection of stories about a goat.: I...   neg   \n19997  Disappointed: I love the 1632 series. I have b...   neg   \n19998  Pretty Disappointing: I have to say that after...   neg   \n\n                                                  scores  compound comp_score  \\\n0      {'neg': 0.088, 'neu': 0.669, 'pos': 0.243, 'co...    0.9454        pos   \n1      {'neg': 0.018, 'neu': 0.837, 'pos': 0.145, 'co...    0.8957        pos   \n2      {'neg': 0.04, 'neu': 0.692, 'pos': 0.268, 'com...    0.9858        pos   \n3      {'neg': 0.09, 'neu': 0.615, 'pos': 0.295, 'com...    0.9814        pos   \n4      {'neg': 0.0, 'neu': 0.746, 'pos': 0.254, 'comp...    0.9781        pos   \n...                                                  ...       ...        ...   \n19994  {'neg': 0.084, 'neu': 0.83, 'pos': 0.086, 'com...   -0.2144        neg   \n19995  {'neg': 0.23, 'neu': 0.714, 'pos': 0.056, 'com...   -0.8748        neg   \n19996  {'neg': 0.071, 'neu': 0.786, 'pos': 0.143, 'co...    0.8040        pos   \n19997  {'neg': 0.081, 'neu': 0.784, 'pos': 0.135, 'co...    0.6487        pos   \n19998  {'neg': 0.084, 'neu': 0.715, 'pos': 0.201, 'co...    0.9100        pos   \n\n       agreement  \n0           True  \n1           True  \n2           True  \n3           True  \n4           True  \n...          ...  \n19994       True  \n19995       True  \n19996      False  \n19997      False  \n19998      False  \n\n[19999 rows x 6 columns]",
      "text/html": "<div>\n<style scoped>\n    .dataframe tbody tr th:only-of-type {\n        vertical-align: middle;\n    }\n\n    .dataframe tbody tr th {\n        vertical-align: top;\n    }\n\n    .dataframe thead th {\n        text-align: right;\n    }\n</style>\n<table border=\"1\" class=\"dataframe\">\n  <thead>\n    <tr style=\"text-align: right;\">\n      <th></th>\n      <th>review</th>\n      <th>label</th>\n      <th>scores</th>\n      <th>compound</th>\n      <th>comp_score</th>\n      <th>agreement</th>\n    </tr>\n  </thead>\n  <tbody>\n    <tr>\n      <th>0</th>\n      <td>Stuning even for the non-gamer: This sound tra...</td>\n      <td>pos</td>\n      <td>{'neg': 0.088, 'neu': 0.669, 'pos': 0.243, 'co...</td>\n      <td>0.9454</td>\n      <td>pos</td>\n      <td>True</td>\n    </tr>\n    <tr>\n      <th>1</th>\n      <td>The best soundtrack ever to anything.: I'm rea...</td>\n      <td>pos</td>\n      <td>{'neg': 0.018, 'neu': 0.837, 'pos': 0.145, 'co...</td>\n      <td>0.8957</td>\n      <td>pos</td>\n      <td>True</td>\n    </tr>\n    <tr>\n      <th>2</th>\n      <td>Amazing!: This soundtrack is my favorite music...</td>\n      <td>pos</td>\n      <td>{'neg': 0.04, 'neu': 0.692, 'pos': 0.268, 'com...</td>\n      <td>0.9858</td>\n      <td>pos</td>\n      <td>True</td>\n    </tr>\n    <tr>\n      <th>3</th>\n      <td>Excellent Soundtrack: I truly like this soundt...</td>\n      <td>pos</td>\n      <td>{'neg': 0.09, 'neu': 0.615, 'pos': 0.295, 'com...</td>\n      <td>0.9814</td>\n      <td>pos</td>\n      <td>True</td>\n    </tr>\n    <tr>\n      <th>4</th>\n      <td>Remember, Pull Your Jaw Off The Floor After He...</td>\n      <td>pos</td>\n      <td>{'neg': 0.0, 'neu': 0.746, 'pos': 0.254, 'comp...</td>\n      <td>0.9781</td>\n      <td>pos</td>\n      <td>True</td>\n    </tr>\n    <tr>\n      <th>...</th>\n      <td>...</td>\n      <td>...</td>\n      <td>...</td>\n      <td>...</td>\n      <td>...</td>\n      <td>...</td>\n    </tr>\n    <tr>\n      <th>19994</th>\n      <td>Rip-off: I liked Flint, I trusted him to deliv...</td>\n      <td>neg</td>\n      <td>{'neg': 0.084, 'neu': 0.83, 'pos': 0.086, 'com...</td>\n      <td>-0.2144</td>\n      <td>neg</td>\n      <td>True</td>\n    </tr>\n    <tr>\n      <th>19995</th>\n      <td>Very disappointing: I have previously bought t...</td>\n      <td>neg</td>\n      <td>{'neg': 0.23, 'neu': 0.714, 'pos': 0.056, 'com...</td>\n      <td>-0.8748</td>\n      <td>neg</td>\n      <td>True</td>\n    </tr>\n    <tr>\n      <th>19996</th>\n      <td>Tedious collection of stories about a goat.: I...</td>\n      <td>neg</td>\n      <td>{'neg': 0.071, 'neu': 0.786, 'pos': 0.143, 'co...</td>\n      <td>0.8040</td>\n      <td>pos</td>\n      <td>False</td>\n    </tr>\n    <tr>\n      <th>19997</th>\n      <td>Disappointed: I love the 1632 series. I have b...</td>\n      <td>neg</td>\n      <td>{'neg': 0.081, 'neu': 0.784, 'pos': 0.135, 'co...</td>\n      <td>0.6487</td>\n      <td>pos</td>\n      <td>False</td>\n    </tr>\n    <tr>\n      <th>19998</th>\n      <td>Pretty Disappointing: I have to say that after...</td>\n      <td>neg</td>\n      <td>{'neg': 0.084, 'neu': 0.715, 'pos': 0.201, 'co...</td>\n      <td>0.9100</td>\n      <td>pos</td>\n      <td>False</td>\n    </tr>\n  </tbody>\n</table>\n<p>19999 rows × 6 columns</p>\n</div>"
     },
     "execution_count": 45,
     "metadata": {},
     "output_type": "execute_result"
    }
   ],
   "source": [
    "amazon_reviews"
   ],
   "metadata": {
    "collapsed": false,
    "ExecuteTime": {
     "end_time": "2024-02-12T21:38:26.621505Z",
     "start_time": "2024-02-12T21:38:26.567632Z"
    }
   }
  },
  {
   "cell_type": "code",
   "execution_count": 46,
   "outputs": [
    {
     "data": {
      "text/plain": "(19999, 6)"
     },
     "execution_count": 46,
     "metadata": {},
     "output_type": "execute_result"
    }
   ],
   "source": [
    "amazon_reviews.shape"
   ],
   "metadata": {
    "collapsed": false,
    "ExecuteTime": {
     "end_time": "2024-02-12T21:38:26.655369Z",
     "start_time": "2024-02-12T21:38:26.570529Z"
    }
   }
  },
  {
   "cell_type": "code",
   "execution_count": 47,
   "outputs": [
    {
     "data": {
      "text/plain": "agreement\nTrue     14235\nFalse     5764\nName: count, dtype: int64"
     },
     "execution_count": 47,
     "metadata": {},
     "output_type": "execute_result"
    }
   ],
   "source": [
    "amazon_reviews.agreement.value_counts()"
   ],
   "metadata": {
    "collapsed": false,
    "ExecuteTime": {
     "end_time": "2024-02-12T21:38:26.655906Z",
     "start_time": "2024-02-12T21:38:26.574791Z"
    }
   }
  },
  {
   "cell_type": "code",
   "execution_count": 48,
   "outputs": [
    {
     "data": {
      "text/plain": "{'neg': 0.0, 'neu': 1.0, 'pos': 0.0, 'compound': 0.0}"
     },
     "execution_count": 48,
     "metadata": {},
     "output_type": "execute_result"
    }
   ],
   "source": [
    "a = 'My name is Yair.'\n",
    "sid.polarity_scores(a)"
   ],
   "metadata": {
    "collapsed": false,
    "ExecuteTime": {
     "end_time": "2024-02-12T21:38:26.656218Z",
     "start_time": "2024-02-12T21:38:26.578120Z"
    }
   }
  },
  {
   "cell_type": "code",
   "execution_count": 48,
   "outputs": [],
   "source": [],
   "metadata": {
    "collapsed": false,
    "ExecuteTime": {
     "end_time": "2024-02-12T21:38:26.656524Z",
     "start_time": "2024-02-12T21:38:26.581092Z"
    }
   }
  }
 ],
 "metadata": {
  "kernelspec": {
   "display_name": "Python 3",
   "language": "python",
   "name": "python3"
  },
  "language_info": {
   "codemirror_mode": {
    "name": "ipython",
    "version": 2
   },
   "file_extension": ".py",
   "mimetype": "text/x-python",
   "name": "python",
   "nbconvert_exporter": "python",
   "pygments_lexer": "ipython2",
   "version": "2.7.6"
  }
 },
 "nbformat": 4,
 "nbformat_minor": 0
}
