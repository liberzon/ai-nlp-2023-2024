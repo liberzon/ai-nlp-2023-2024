{
 "cells": [
  {
   "cell_type": "markdown",
   "source": [
    "# Imports"
   ],
   "metadata": {
    "collapsed": false
   }
  },
  {
   "cell_type": "code",
   "execution_count": 23,
   "outputs": [],
   "source": [
    "from sklearn.datasets import fetch_20newsgroups\n",
    "from sklearn.feature_extraction.text import TfidfVectorizer"
   ],
   "metadata": {
    "collapsed": false,
    "ExecuteTime": {
     "end_time": "2024-01-13T23:03:32.395066Z",
     "start_time": "2024-01-13T23:03:32.371313Z"
    }
   }
  },
  {
   "cell_type": "markdown",
   "source": [
    "# Selection of categories"
   ],
   "metadata": {
    "collapsed": false
   }
  },
  {
   "cell_type": "code",
   "execution_count": 24,
   "outputs": [],
   "source": [
    "categories = [\n",
    "    \"alt.atheism\",\n",
    "    \"talk.religion.misc\",\n",
    "    \"comp.graphics\",\n",
    "    \"sci.space\",\n",
    "]"
   ],
   "metadata": {
    "collapsed": false,
    "ExecuteTime": {
     "end_time": "2024-01-13T23:03:32.396477Z",
     "start_time": "2024-01-13T23:03:32.379069Z"
    }
   }
  },
  {
   "cell_type": "code",
   "execution_count": 25,
   "outputs": [],
   "source": [
    "data_train = fetch_20newsgroups(\n",
    "    subset=\"train\",\n",
    "    categories=categories,\n",
    "    shuffle=True,\n",
    "    random_state=42\n",
    ")"
   ],
   "metadata": {
    "collapsed": false,
    "ExecuteTime": {
     "end_time": "2024-01-13T23:03:32.576165Z",
     "start_time": "2024-01-13T23:03:32.400592Z"
    }
   }
  },
  {
   "cell_type": "code",
   "execution_count": 26,
   "outputs": [],
   "source": [
    "data_test = fetch_20newsgroups(\n",
    "    subset=\"test\",\n",
    "    categories=categories,\n",
    "    shuffle=True,\n",
    "    random_state=42\n",
    ")"
   ],
   "metadata": {
    "collapsed": false,
    "ExecuteTime": {
     "end_time": "2024-01-13T23:03:32.736493Z",
     "start_time": "2024-01-13T23:03:32.577005Z"
    }
   }
  },
  {
   "cell_type": "code",
   "execution_count": 27,
   "outputs": [
    {
     "data": {
      "text/plain": "dict_keys(['data', 'filenames', 'target_names', 'target', 'DESCR'])"
     },
     "execution_count": 27,
     "metadata": {},
     "output_type": "execute_result"
    }
   ],
   "source": [
    "data_test.keys()"
   ],
   "metadata": {
    "collapsed": false,
    "ExecuteTime": {
     "end_time": "2024-01-13T23:03:32.742658Z",
     "start_time": "2024-01-13T23:03:32.738018Z"
    }
   }
  },
  {
   "cell_type": "code",
   "execution_count": 28,
   "outputs": [
    {
     "data": {
      "text/plain": "1353"
     },
     "execution_count": 28,
     "metadata": {},
     "output_type": "execute_result"
    }
   ],
   "source": [
    "len(data_test['data'])"
   ],
   "metadata": {
    "collapsed": false,
    "ExecuteTime": {
     "end_time": "2024-01-13T23:03:32.749943Z",
     "start_time": "2024-01-13T23:03:32.742882Z"
    }
   }
  },
  {
   "cell_type": "code",
   "execution_count": 29,
   "outputs": [],
   "source": [
    "# order of labels in `target_names` can be different from `categories`\n",
    "target_names = data_train.target_names"
   ],
   "metadata": {
    "collapsed": false,
    "ExecuteTime": {
     "end_time": "2024-01-13T23:03:32.750420Z",
     "start_time": "2024-01-13T23:03:32.745917Z"
    }
   }
  },
  {
   "cell_type": "code",
   "execution_count": 30,
   "outputs": [],
   "source": [
    "# split target in a training set and a test set\n",
    "y_train, y_test = data_train.target, data_test.target"
   ],
   "metadata": {
    "collapsed": false,
    "ExecuteTime": {
     "end_time": "2024-01-13T23:03:32.756345Z",
     "start_time": "2024-01-13T23:03:32.748757Z"
    }
   }
  },
  {
   "cell_type": "code",
   "execution_count": 31,
   "outputs": [],
   "source": [
    "vectorizer = TfidfVectorizer(\n",
    "    sublinear_tf=True, max_df=0.5, min_df=5, stop_words=\"english\"\n",
    ")"
   ],
   "metadata": {
    "collapsed": false,
    "ExecuteTime": {
     "end_time": "2024-01-13T23:03:32.757201Z",
     "start_time": "2024-01-13T23:03:32.754459Z"
    }
   }
  },
  {
   "cell_type": "code",
   "execution_count": 32,
   "outputs": [],
   "source": [
    "X_train = vectorizer.fit_transform(data_train.data)"
   ],
   "metadata": {
    "collapsed": false,
    "ExecuteTime": {
     "end_time": "2024-01-13T23:03:32.993337Z",
     "start_time": "2024-01-13T23:03:32.788401Z"
    }
   }
  },
  {
   "cell_type": "code",
   "execution_count": 33,
   "outputs": [],
   "source": [
    "X_test = vectorizer.transform(data_test.data)"
   ],
   "metadata": {
    "collapsed": false,
    "ExecuteTime": {
     "end_time": "2024-01-13T23:03:33.147676Z",
     "start_time": "2024-01-13T23:03:33.048484Z"
    }
   }
  },
  {
   "cell_type": "code",
   "execution_count": 34,
   "outputs": [],
   "source": [
    "feature_names = vectorizer.get_feature_names_out()"
   ],
   "metadata": {
    "collapsed": false,
    "ExecuteTime": {
     "end_time": "2024-01-13T23:03:33.156677Z",
     "start_time": "2024-01-13T23:03:33.149559Z"
    }
   }
  },
  {
   "cell_type": "code",
   "execution_count": 35,
   "outputs": [
    {
     "data": {
      "text/plain": "(7831,)"
     },
     "execution_count": 35,
     "metadata": {},
     "output_type": "execute_result"
    }
   ],
   "source": [
    "feature_names.shape"
   ],
   "metadata": {
    "collapsed": false,
    "ExecuteTime": {
     "end_time": "2024-01-13T23:03:33.164262Z",
     "start_time": "2024-01-13T23:03:33.155644Z"
    }
   }
  },
  {
   "cell_type": "code",
   "outputs": [
    {
     "data": {
      "text/plain": "array(['00', '000', '0005', '01', '01wb', '02', '03', '04', '0400', '05',\n       '06', '07', '08', '081052', '09', '10', '100', '1000', '100m',\n       '101', '102', '1024x768', '103', '104', '105', '109', '11', '110',\n       '1100', '111', '112', '11292', '113', '114', '115', '11632', '117',\n       '12', '120', '1200', '121', '122', '123', '125', '127', '128',\n       '129', '13', '130', '131', '132', '133', '134', '135', '136',\n       '137', '138', '13h', '14', '140', '1400', '141', '142', '144',\n       '144843', '145', '146', '147', '149', '15', '150', '1500', '151',\n       '152', '155', '1550', '16', '160', '163', '164940', '167',\n       '168730', '17', '171', '172', '18', '180', '18084tm', '188', '189',\n       '19', '190493200420', '1915', '192', '1950', '19549', '1958',\n       '1960', '1960s', '1961'], dtype=object)"
     },
     "execution_count": 44,
     "metadata": {},
     "output_type": "execute_result"
    }
   ],
   "source": [
    "feature_names[:100]"
   ],
   "metadata": {
    "collapsed": false,
    "ExecuteTime": {
     "end_time": "2024-01-13T23:04:06.581583Z",
     "start_time": "2024-01-13T23:04:06.574005Z"
    }
   },
   "execution_count": 44
  },
  {
   "cell_type": "code",
   "execution_count": 1,
   "outputs": [
    {
     "ename": "NameError",
     "evalue": "name 'X_train' is not defined",
     "output_type": "error",
     "traceback": [
      "\u001B[0;31m---------------------------------------------------------------------------\u001B[0m",
      "\u001B[0;31mNameError\u001B[0m                                 Traceback (most recent call last)",
      "Cell \u001B[0;32mIn[1], line 5\u001B[0m\n\u001B[1;32m      1\u001B[0m \u001B[38;5;28;01mfrom\u001B[39;00m \u001B[38;5;21;01msklearn\u001B[39;00m\u001B[38;5;21;01m.\u001B[39;00m\u001B[38;5;21;01mlinear_model\u001B[39;00m \u001B[38;5;28;01mimport\u001B[39;00m LogisticRegression\n\u001B[1;32m      3\u001B[0m classifier \u001B[38;5;241m=\u001B[39m LogisticRegression(C\u001B[38;5;241m=\u001B[39m\u001B[38;5;241m5\u001B[39m, max_iter\u001B[38;5;241m=\u001B[39m\u001B[38;5;241m1000\u001B[39m)\n\u001B[0;32m----> 5\u001B[0m classifier\u001B[38;5;241m.\u001B[39mfit(\u001B[43mX_train\u001B[49m, y_train)\n",
      "\u001B[0;31mNameError\u001B[0m: name 'X_train' is not defined"
     ]
    }
   ],
   "source": [
    "from sklearn.linear_model import LogisticRegression\n",
    "\n",
    "classifier = LogisticRegression(C=5, max_iter=1000)\n",
    "\n",
    "classifier.fit(X_train, y_train)"
   ],
   "metadata": {
    "collapsed": false,
    "ExecuteTime": {
     "end_time": "2024-01-16T11:06:21.989628Z",
     "start_time": "2024-01-16T11:06:16.845095Z"
    }
   }
  },
  {
   "cell_type": "code",
   "execution_count": 38,
   "outputs": [],
   "source": [
    "prediction = classifier.predict(X_test)"
   ],
   "metadata": {
    "collapsed": false,
    "ExecuteTime": {
     "end_time": "2024-01-13T23:03:33.769351Z",
     "start_time": "2024-01-13T23:03:33.765350Z"
    }
   }
  },
  {
   "cell_type": "code",
   "execution_count": 39,
   "outputs": [
    {
     "data": {
      "text/plain": "<Figure size 1000x500 with 2 Axes>",
      "image/png": "[encoded data removed]"
     },
     "metadata": {},
     "output_type": "display_data"
    }
   ],
   "source": [
    "from sklearn.metrics import ConfusionMatrixDisplay\n",
    "from matplotlib import pyplot as plt\n",
    "import matplotlib.colors as mcolors\n",
    "\n",
    "cmap = mcolors.ListedColormap(['#00B5E2', '#7BDCB5', '#FF6B6B', '#9B5DE5', '#FFEB3B', '#FFA726'])\n",
    "\n",
    "fig, ax = plt.subplots(figsize=(10, 5))\n",
    "cmd = ConfusionMatrixDisplay.from_predictions(y_test, pred, ax=ax, cmap=cmap)\n",
    "for text in cmd.text_.ravel():\n",
    "    text.set_color('#FFFFFF')\n",
    "ax.xaxis.set_ticklabels(target_names)\n",
    "ax.yaxis.set_ticklabels(target_names)\n",
    "_ = ax.set_title(\n",
    "    f\"Confusion Matrix for {classifier.__class__.__name__}\\non filtered documents\"\n",
    ")"
   ],
   "metadata": {
    "collapsed": false,
    "ExecuteTime": {
     "end_time": "2024-01-13T23:03:33.876673Z",
     "start_time": "2024-01-13T23:03:33.776310Z"
    }
   }
  },
  {
   "cell_type": "code",
   "execution_count": 45,
   "outputs": [],
   "source": [
    "from sklearn import metrics\n",
    "\n",
    "def benchmark(classifier_algorithm):\n",
    "    classifier_algorithm.fit(X_train, y_train)\n",
    "    alg_prediction = classifier_algorithm.predict(X_test)\n",
    "\n",
    "    score = metrics.accuracy_score(y_test, alg_prediction)\n",
    "    precision_score = metrics.precision_score(y_test, alg_prediction, average=None)\n",
    "    recall_score = metrics.recall_score(y_test, alg_prediction, average=None)\n",
    "    f1_score = metrics.f1_score(y_test, alg_prediction, average=None)\n",
    "\n",
    "    clf_descr = classifier_algorithm.__class__.__name__\n",
    "    return clf_descr, score, precision_score, recall_score, f1_score"
   ],
   "metadata": {
    "collapsed": false,
    "ExecuteTime": {
     "end_time": "2024-01-13T23:07:18.377588Z",
     "start_time": "2024-01-13T23:07:18.373949Z"
    }
   }
  },
  {
   "cell_type": "code",
   "execution_count": 46,
   "outputs": [
    {
     "data": {
      "text/plain": "('LogisticRegression',\n 0.8920916481892092,\n array([0.85430464, 0.92401961, 0.94221106, 0.80408163]),\n array([0.80877743, 0.96915167, 0.95177665, 0.78486056]),\n array([0.83091787, 0.94604768, 0.9469697 , 0.79435484]))"
     },
     "execution_count": 46,
     "metadata": {},
     "output_type": "execute_result"
    }
   ],
   "source": [
    "benchmark(classifier)"
   ],
   "metadata": {
    "collapsed": false,
    "ExecuteTime": {
     "end_time": "2024-01-13T23:07:19.832909Z",
     "start_time": "2024-01-13T23:07:19.231561Z"
    }
   }
  },
  {
   "cell_type": "code",
   "outputs": [],
   "source": [],
   "metadata": {
    "collapsed": false
   }
  }
 ],
 "metadata": {
  "kernelspec": {
   "display_name": "Python 3",
   "language": "python",
   "name": "python3"
  },
  "language_info": {
   "codemirror_mode": {
    "name": "ipython",
    "version": 2
   },
   "file_extension": ".py",
   "mimetype": "text/x-python",
   "name": "python",
   "nbconvert_exporter": "python",
   "pygments_lexer": "ipython2",
   "version": "2.7.6"
  }
 },
 "nbformat": 4,
 "nbformat_minor": 0
}
