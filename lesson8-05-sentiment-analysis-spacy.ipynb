{
 "cells": [
  {
   "cell_type": "code",
   "execution_count": 16,
   "outputs": [
    {
     "name": "stdout",
     "output_type": "stream",
     "text": [
      "Collecting package metadata (current_repodata.json): done\r\n",
      "Solving environment: done\r\n",
      "\r\n",
      "\r\n",
      "==> WARNING: A newer version of conda exists. <==\r\n",
      "  current version: 22.11.1\r\n",
      "  latest version: 24.1.0\r\n",
      "\r\n",
      "Please update conda by running\r\n",
      "\r\n",
      "    $ conda update -n base -c defaults conda\r\n",
      "\r\n",
      "Or to minimize the number of packages updated during conda update use\r\n",
      "\r\n",
      "     conda install conda=24.1.0\r\n",
      "\r\n",
      "\r\n",
      "\r\n",
      "# All requested packages already installed.\r\n",
      "\r\n"
     ]
    }
   ],
   "source": [
    "!conda install -y spacy"
   ],
   "metadata": {
    "collapsed": false,
    "ExecuteTime": {
     "end_time": "2024-02-12T21:26:11.590613Z",
     "start_time": "2024-02-12T21:26:04.471001Z"
    }
   }
  },
  {
   "cell_type": "code",
   "execution_count": 17,
   "outputs": [
    {
     "name": "stdout",
     "output_type": "stream",
     "text": [
      "Collecting package metadata (current_repodata.json): done\r\n",
      "Solving environment: done\r\n",
      "\r\n",
      "\r\n",
      "==> WARNING: A newer version of conda exists. <==\r\n",
      "  current version: 22.11.1\r\n",
      "  latest version: 24.1.0\r\n",
      "\r\n",
      "Please update conda by running\r\n",
      "\r\n",
      "    $ conda update -n base -c defaults conda\r\n",
      "\r\n",
      "Or to minimize the number of packages updated during conda update use\r\n",
      "\r\n",
      "     conda install conda=24.1.0\r\n",
      "\r\n",
      "\r\n",
      "\r\n",
      "# All requested packages already installed.\r\n",
      "\r\n"
     ]
    }
   ],
   "source": [
    "!conda install -y spacy-lookups-data"
   ],
   "metadata": {
    "collapsed": false,
    "ExecuteTime": {
     "end_time": "2024-02-12T21:26:17.305560Z",
     "start_time": "2024-02-12T21:26:11.592394Z"
    }
   }
  },
  {
   "cell_type": "code",
   "execution_count": 18,
   "outputs": [
    {
     "name": "stdout",
     "output_type": "stream",
     "text": [
      "Requirement already satisfied: spacytextblob in /Users/yairl/miniconda3/envs/ai-nlp-2023-2024/lib/python3.9/site-packages (4.0.0)\r\n",
      "Requirement already satisfied: spacy<4.0,>=3.0 in /Users/yairl/miniconda3/envs/ai-nlp-2023-2024/lib/python3.9/site-packages (from spacytextblob) (3.7.2)\r\n",
      "Requirement already satisfied: textblob<0.16.0,>=0.15.3 in /Users/yairl/miniconda3/envs/ai-nlp-2023-2024/lib/python3.9/site-packages (from spacytextblob) (0.15.3)\r\n",
      "Requirement already satisfied: spacy-legacy<3.1.0,>=3.0.11 in /Users/yairl/miniconda3/envs/ai-nlp-2023-2024/lib/python3.9/site-packages (from spacy<4.0,>=3.0->spacytextblob) (3.0.12)\r\n",
      "Requirement already satisfied: spacy-loggers<2.0.0,>=1.0.0 in /Users/yairl/miniconda3/envs/ai-nlp-2023-2024/lib/python3.9/site-packages (from spacy<4.0,>=3.0->spacytextblob) (1.0.5)\r\n",
      "Requirement already satisfied: murmurhash<1.1.0,>=0.28.0 in /Users/yairl/miniconda3/envs/ai-nlp-2023-2024/lib/python3.9/site-packages (from spacy<4.0,>=3.0->spacytextblob) (1.0.10)\r\n",
      "Requirement already satisfied: cymem<2.1.0,>=2.0.2 in /Users/yairl/miniconda3/envs/ai-nlp-2023-2024/lib/python3.9/site-packages (from spacy<4.0,>=3.0->spacytextblob) (2.0.8)\r\n",
      "Requirement already satisfied: preshed<3.1.0,>=3.0.2 in /Users/yairl/miniconda3/envs/ai-nlp-2023-2024/lib/python3.9/site-packages (from spacy<4.0,>=3.0->spacytextblob) (3.0.9)\r\n",
      "Requirement already satisfied: thinc<8.3.0,>=8.1.8 in /Users/yairl/miniconda3/envs/ai-nlp-2023-2024/lib/python3.9/site-packages (from spacy<4.0,>=3.0->spacytextblob) (8.2.2)\r\n",
      "Requirement already satisfied: wasabi<1.2.0,>=0.9.1 in /Users/yairl/miniconda3/envs/ai-nlp-2023-2024/lib/python3.9/site-packages (from spacy<4.0,>=3.0->spacytextblob) (1.1.2)\r\n",
      "Requirement already satisfied: srsly<3.0.0,>=2.4.3 in /Users/yairl/miniconda3/envs/ai-nlp-2023-2024/lib/python3.9/site-packages (from spacy<4.0,>=3.0->spacytextblob) (2.4.8)\r\n",
      "Requirement already satisfied: catalogue<2.1.0,>=2.0.6 in /Users/yairl/miniconda3/envs/ai-nlp-2023-2024/lib/python3.9/site-packages (from spacy<4.0,>=3.0->spacytextblob) (2.0.10)\r\n",
      "Requirement already satisfied: weasel<0.4.0,>=0.1.0 in /Users/yairl/miniconda3/envs/ai-nlp-2023-2024/lib/python3.9/site-packages (from spacy<4.0,>=3.0->spacytextblob) (0.3.4)\r\n",
      "Requirement already satisfied: typer<0.10.0,>=0.3.0 in /Users/yairl/miniconda3/envs/ai-nlp-2023-2024/lib/python3.9/site-packages (from spacy<4.0,>=3.0->spacytextblob) (0.9.0)\r\n",
      "Requirement already satisfied: smart-open<7.0.0,>=5.2.1 in /Users/yairl/miniconda3/envs/ai-nlp-2023-2024/lib/python3.9/site-packages (from spacy<4.0,>=3.0->spacytextblob) (5.2.1)\r\n",
      "Requirement already satisfied: tqdm<5.0.0,>=4.38.0 in /Users/yairl/miniconda3/envs/ai-nlp-2023-2024/lib/python3.9/site-packages (from spacy<4.0,>=3.0->spacytextblob) (4.66.1)\r\n",
      "Requirement already satisfied: requests<3.0.0,>=2.13.0 in /Users/yairl/miniconda3/envs/ai-nlp-2023-2024/lib/python3.9/site-packages (from spacy<4.0,>=3.0->spacytextblob) (2.31.0)\r\n",
      "Requirement already satisfied: pydantic!=1.8,!=1.8.1,<3.0.0,>=1.7.4 in /Users/yairl/miniconda3/envs/ai-nlp-2023-2024/lib/python3.9/site-packages (from spacy<4.0,>=3.0->spacytextblob) (2.5.3)\r\n",
      "Requirement already satisfied: jinja2 in /Users/yairl/miniconda3/envs/ai-nlp-2023-2024/lib/python3.9/site-packages (from spacy<4.0,>=3.0->spacytextblob) (3.1.2)\r\n",
      "Requirement already satisfied: setuptools in /Users/yairl/miniconda3/envs/ai-nlp-2023-2024/lib/python3.9/site-packages (from spacy<4.0,>=3.0->spacytextblob) (68.2.2)\r\n",
      "Requirement already satisfied: packaging>=20.0 in /Users/yairl/miniconda3/envs/ai-nlp-2023-2024/lib/python3.9/site-packages (from spacy<4.0,>=3.0->spacytextblob) (23.2)\r\n",
      "Requirement already satisfied: langcodes<4.0.0,>=3.2.0 in /Users/yairl/miniconda3/envs/ai-nlp-2023-2024/lib/python3.9/site-packages (from spacy<4.0,>=3.0->spacytextblob) (3.3.0)\r\n",
      "Requirement already satisfied: numpy>=1.19.0 in /Users/yairl/miniconda3/envs/ai-nlp-2023-2024/lib/python3.9/site-packages (from spacy<4.0,>=3.0->spacytextblob) (1.26.2)\r\n",
      "Requirement already satisfied: nltk>=3.1 in /Users/yairl/miniconda3/envs/ai-nlp-2023-2024/lib/python3.9/site-packages (from textblob<0.16.0,>=0.15.3->spacytextblob) (3.8.1)\r\n",
      "Requirement already satisfied: click in /Users/yairl/miniconda3/envs/ai-nlp-2023-2024/lib/python3.9/site-packages (from nltk>=3.1->textblob<0.16.0,>=0.15.3->spacytextblob) (8.1.7)\r\n",
      "Requirement already satisfied: joblib in /Users/yairl/miniconda3/envs/ai-nlp-2023-2024/lib/python3.9/site-packages (from nltk>=3.1->textblob<0.16.0,>=0.15.3->spacytextblob) (1.3.2)\r\n",
      "Requirement already satisfied: regex>=2021.8.3 in /Users/yairl/miniconda3/envs/ai-nlp-2023-2024/lib/python3.9/site-packages (from nltk>=3.1->textblob<0.16.0,>=0.15.3->spacytextblob) (2023.12.25)\r\n",
      "Requirement already satisfied: annotated-types>=0.4.0 in /Users/yairl/miniconda3/envs/ai-nlp-2023-2024/lib/python3.9/site-packages (from pydantic!=1.8,!=1.8.1,<3.0.0,>=1.7.4->spacy<4.0,>=3.0->spacytextblob) (0.6.0)\r\n",
      "Requirement already satisfied: pydantic-core==2.14.6 in /Users/yairl/miniconda3/envs/ai-nlp-2023-2024/lib/python3.9/site-packages (from pydantic!=1.8,!=1.8.1,<3.0.0,>=1.7.4->spacy<4.0,>=3.0->spacytextblob) (2.14.6)\r\n",
      "Requirement already satisfied: typing-extensions>=4.6.1 in /Users/yairl/miniconda3/envs/ai-nlp-2023-2024/lib/python3.9/site-packages (from pydantic!=1.8,!=1.8.1,<3.0.0,>=1.7.4->spacy<4.0,>=3.0->spacytextblob) (4.9.0)\r\n",
      "Requirement already satisfied: charset-normalizer<4,>=2 in /Users/yairl/miniconda3/envs/ai-nlp-2023-2024/lib/python3.9/site-packages (from requests<3.0.0,>=2.13.0->spacy<4.0,>=3.0->spacytextblob) (3.3.2)\r\n",
      "Requirement already satisfied: idna<4,>=2.5 in /Users/yairl/miniconda3/envs/ai-nlp-2023-2024/lib/python3.9/site-packages (from requests<3.0.0,>=2.13.0->spacy<4.0,>=3.0->spacytextblob) (3.6)\r\n",
      "Requirement already satisfied: urllib3<3,>=1.21.1 in /Users/yairl/miniconda3/envs/ai-nlp-2023-2024/lib/python3.9/site-packages (from requests<3.0.0,>=2.13.0->spacy<4.0,>=3.0->spacytextblob) (2.1.0)\r\n",
      "Requirement already satisfied: certifi>=2017.4.17 in /Users/yairl/miniconda3/envs/ai-nlp-2023-2024/lib/python3.9/site-packages (from requests<3.0.0,>=2.13.0->spacy<4.0,>=3.0->spacytextblob) (2024.2.2)\r\n",
      "Requirement already satisfied: blis<0.8.0,>=0.7.8 in /Users/yairl/miniconda3/envs/ai-nlp-2023-2024/lib/python3.9/site-packages (from thinc<8.3.0,>=8.1.8->spacy<4.0,>=3.0->spacytextblob) (0.7.10)\r\n",
      "Requirement already satisfied: confection<1.0.0,>=0.0.1 in /Users/yairl/miniconda3/envs/ai-nlp-2023-2024/lib/python3.9/site-packages (from thinc<8.3.0,>=8.1.8->spacy<4.0,>=3.0->spacytextblob) (0.1.4)\r\n",
      "Requirement already satisfied: cloudpathlib<0.17.0,>=0.7.0 in /Users/yairl/miniconda3/envs/ai-nlp-2023-2024/lib/python3.9/site-packages (from weasel<0.4.0,>=0.1.0->spacy<4.0,>=3.0->spacytextblob) (0.16.0)\r\n",
      "Requirement already satisfied: MarkupSafe>=2.0 in /Users/yairl/miniconda3/envs/ai-nlp-2023-2024/lib/python3.9/site-packages (from jinja2->spacy<4.0,>=3.0->spacytextblob) (2.1.3)\r\n"
     ]
    }
   ],
   "source": [
    "!pip install spacytextblob"
   ],
   "metadata": {
    "collapsed": false,
    "ExecuteTime": {
     "end_time": "2024-02-12T21:26:18.838703Z",
     "start_time": "2024-02-12T21:26:17.307202Z"
    }
   }
  },
  {
   "cell_type": "code",
   "outputs": [
    {
     "name": "stdout",
     "output_type": "stream",
     "text": [
      "Collecting en-core-web-sm==3.7.1\r\n",
      "  Downloading https://github.com/explosion/spacy-models/releases/download/en_core_web_sm-3.7.1/en_core_web_sm-3.7.1-py3-none-any.whl (12.8 MB)\r\n",
      "\u001B[2K     \u001B[90m━━━━━━━━━━━━━━━━━━━━━━━━━━━━━━━━━━━━━━━━\u001B[0m \u001B[32m12.8/12.8 MB\u001B[0m \u001B[31m9.9 MB/s\u001B[0m eta \u001B[36m0:00:00\u001B[0m:00:01\u001B[0m00:01\u001B[0m\r\n",
      "\u001B[?25hRequirement already satisfied: spacy<3.8.0,>=3.7.2 in /Users/yairl/miniconda3/envs/ai-nlp-2023-2024/lib/python3.9/site-packages (from en-core-web-sm==3.7.1) (3.7.2)\r\n",
      "Requirement already satisfied: spacy-legacy<3.1.0,>=3.0.11 in /Users/yairl/miniconda3/envs/ai-nlp-2023-2024/lib/python3.9/site-packages (from spacy<3.8.0,>=3.7.2->en-core-web-sm==3.7.1) (3.0.12)\r\n",
      "Requirement already satisfied: spacy-loggers<2.0.0,>=1.0.0 in /Users/yairl/miniconda3/envs/ai-nlp-2023-2024/lib/python3.9/site-packages (from spacy<3.8.0,>=3.7.2->en-core-web-sm==3.7.1) (1.0.5)\r\n",
      "Requirement already satisfied: murmurhash<1.1.0,>=0.28.0 in /Users/yairl/miniconda3/envs/ai-nlp-2023-2024/lib/python3.9/site-packages (from spacy<3.8.0,>=3.7.2->en-core-web-sm==3.7.1) (1.0.10)\r\n",
      "Requirement already satisfied: cymem<2.1.0,>=2.0.2 in /Users/yairl/miniconda3/envs/ai-nlp-2023-2024/lib/python3.9/site-packages (from spacy<3.8.0,>=3.7.2->en-core-web-sm==3.7.1) (2.0.8)\r\n",
      "Requirement already satisfied: preshed<3.1.0,>=3.0.2 in /Users/yairl/miniconda3/envs/ai-nlp-2023-2024/lib/python3.9/site-packages (from spacy<3.8.0,>=3.7.2->en-core-web-sm==3.7.1) (3.0.9)\r\n",
      "Requirement already satisfied: thinc<8.3.0,>=8.1.8 in /Users/yairl/miniconda3/envs/ai-nlp-2023-2024/lib/python3.9/site-packages (from spacy<3.8.0,>=3.7.2->en-core-web-sm==3.7.1) (8.2.2)\r\n",
      "Requirement already satisfied: wasabi<1.2.0,>=0.9.1 in /Users/yairl/miniconda3/envs/ai-nlp-2023-2024/lib/python3.9/site-packages (from spacy<3.8.0,>=3.7.2->en-core-web-sm==3.7.1) (1.1.2)\r\n",
      "Requirement already satisfied: srsly<3.0.0,>=2.4.3 in /Users/yairl/miniconda3/envs/ai-nlp-2023-2024/lib/python3.9/site-packages (from spacy<3.8.0,>=3.7.2->en-core-web-sm==3.7.1) (2.4.8)\r\n",
      "Requirement already satisfied: catalogue<2.1.0,>=2.0.6 in /Users/yairl/miniconda3/envs/ai-nlp-2023-2024/lib/python3.9/site-packages (from spacy<3.8.0,>=3.7.2->en-core-web-sm==3.7.1) (2.0.10)\r\n",
      "Requirement already satisfied: weasel<0.4.0,>=0.1.0 in /Users/yairl/miniconda3/envs/ai-nlp-2023-2024/lib/python3.9/site-packages (from spacy<3.8.0,>=3.7.2->en-core-web-sm==3.7.1) (0.3.4)\r\n",
      "Requirement already satisfied: typer<0.10.0,>=0.3.0 in /Users/yairl/miniconda3/envs/ai-nlp-2023-2024/lib/python3.9/site-packages (from spacy<3.8.0,>=3.7.2->en-core-web-sm==3.7.1) (0.9.0)\r\n",
      "Requirement already satisfied: smart-open<7.0.0,>=5.2.1 in /Users/yairl/miniconda3/envs/ai-nlp-2023-2024/lib/python3.9/site-packages (from spacy<3.8.0,>=3.7.2->en-core-web-sm==3.7.1) (5.2.1)\r\n",
      "Requirement already satisfied: tqdm<5.0.0,>=4.38.0 in /Users/yairl/miniconda3/envs/ai-nlp-2023-2024/lib/python3.9/site-packages (from spacy<3.8.0,>=3.7.2->en-core-web-sm==3.7.1) (4.66.1)\r\n",
      "Requirement already satisfied: requests<3.0.0,>=2.13.0 in /Users/yairl/miniconda3/envs/ai-nlp-2023-2024/lib/python3.9/site-packages (from spacy<3.8.0,>=3.7.2->en-core-web-sm==3.7.1) (2.31.0)\r\n",
      "Requirement already satisfied: pydantic!=1.8,!=1.8.1,<3.0.0,>=1.7.4 in /Users/yairl/miniconda3/envs/ai-nlp-2023-2024/lib/python3.9/site-packages (from spacy<3.8.0,>=3.7.2->en-core-web-sm==3.7.1) (2.5.3)\r\n",
      "Requirement already satisfied: jinja2 in /Users/yairl/miniconda3/envs/ai-nlp-2023-2024/lib/python3.9/site-packages (from spacy<3.8.0,>=3.7.2->en-core-web-sm==3.7.1) (3.1.2)\r\n",
      "Requirement already satisfied: setuptools in /Users/yairl/miniconda3/envs/ai-nlp-2023-2024/lib/python3.9/site-packages (from spacy<3.8.0,>=3.7.2->en-core-web-sm==3.7.1) (68.2.2)\r\n",
      "Requirement already satisfied: packaging>=20.0 in /Users/yairl/miniconda3/envs/ai-nlp-2023-2024/lib/python3.9/site-packages (from spacy<3.8.0,>=3.7.2->en-core-web-sm==3.7.1) (23.2)\r\n",
      "Requirement already satisfied: langcodes<4.0.0,>=3.2.0 in /Users/yairl/miniconda3/envs/ai-nlp-2023-2024/lib/python3.9/site-packages (from spacy<3.8.0,>=3.7.2->en-core-web-sm==3.7.1) (3.3.0)\r\n",
      "Requirement already satisfied: numpy>=1.19.0 in /Users/yairl/miniconda3/envs/ai-nlp-2023-2024/lib/python3.9/site-packages (from spacy<3.8.0,>=3.7.2->en-core-web-sm==3.7.1) (1.26.2)\r\n",
      "Requirement already satisfied: annotated-types>=0.4.0 in /Users/yairl/miniconda3/envs/ai-nlp-2023-2024/lib/python3.9/site-packages (from pydantic!=1.8,!=1.8.1,<3.0.0,>=1.7.4->spacy<3.8.0,>=3.7.2->en-core-web-sm==3.7.1) (0.6.0)\r\n",
      "Requirement already satisfied: pydantic-core==2.14.6 in /Users/yairl/miniconda3/envs/ai-nlp-2023-2024/lib/python3.9/site-packages (from pydantic!=1.8,!=1.8.1,<3.0.0,>=1.7.4->spacy<3.8.0,>=3.7.2->en-core-web-sm==3.7.1) (2.14.6)\r\n",
      "Requirement already satisfied: typing-extensions>=4.6.1 in /Users/yairl/miniconda3/envs/ai-nlp-2023-2024/lib/python3.9/site-packages (from pydantic!=1.8,!=1.8.1,<3.0.0,>=1.7.4->spacy<3.8.0,>=3.7.2->en-core-web-sm==3.7.1) (4.9.0)\r\n",
      "Requirement already satisfied: charset-normalizer<4,>=2 in /Users/yairl/miniconda3/envs/ai-nlp-2023-2024/lib/python3.9/site-packages (from requests<3.0.0,>=2.13.0->spacy<3.8.0,>=3.7.2->en-core-web-sm==3.7.1) (3.3.2)\r\n",
      "Requirement already satisfied: idna<4,>=2.5 in /Users/yairl/miniconda3/envs/ai-nlp-2023-2024/lib/python3.9/site-packages (from requests<3.0.0,>=2.13.0->spacy<3.8.0,>=3.7.2->en-core-web-sm==3.7.1) (3.6)\r\n",
      "Requirement already satisfied: urllib3<3,>=1.21.1 in /Users/yairl/miniconda3/envs/ai-nlp-2023-2024/lib/python3.9/site-packages (from requests<3.0.0,>=2.13.0->spacy<3.8.0,>=3.7.2->en-core-web-sm==3.7.1) (2.1.0)\r\n",
      "Requirement already satisfied: certifi>=2017.4.17 in /Users/yairl/miniconda3/envs/ai-nlp-2023-2024/lib/python3.9/site-packages (from requests<3.0.0,>=2.13.0->spacy<3.8.0,>=3.7.2->en-core-web-sm==3.7.1) (2024.2.2)\r\n",
      "Requirement already satisfied: blis<0.8.0,>=0.7.8 in /Users/yairl/miniconda3/envs/ai-nlp-2023-2024/lib/python3.9/site-packages (from thinc<8.3.0,>=8.1.8->spacy<3.8.0,>=3.7.2->en-core-web-sm==3.7.1) (0.7.10)\r\n",
      "Requirement already satisfied: confection<1.0.0,>=0.0.1 in /Users/yairl/miniconda3/envs/ai-nlp-2023-2024/lib/python3.9/site-packages (from thinc<8.3.0,>=8.1.8->spacy<3.8.0,>=3.7.2->en-core-web-sm==3.7.1) (0.1.4)\r\n",
      "Requirement already satisfied: click<9.0.0,>=7.1.1 in /Users/yairl/miniconda3/envs/ai-nlp-2023-2024/lib/python3.9/site-packages (from typer<0.10.0,>=0.3.0->spacy<3.8.0,>=3.7.2->en-core-web-sm==3.7.1) (8.1.7)\r\n",
      "Requirement already satisfied: cloudpathlib<0.17.0,>=0.7.0 in /Users/yairl/miniconda3/envs/ai-nlp-2023-2024/lib/python3.9/site-packages (from weasel<0.4.0,>=0.1.0->spacy<3.8.0,>=3.7.2->en-core-web-sm==3.7.1) (0.16.0)\r\n",
      "Requirement already satisfied: MarkupSafe>=2.0 in /Users/yairl/miniconda3/envs/ai-nlp-2023-2024/lib/python3.9/site-packages (from jinja2->spacy<3.8.0,>=3.7.2->en-core-web-sm==3.7.1) (2.1.3)\r\n",
      "\u001B[38;5;2m✔ Download and installation successful\u001B[0m\r\n",
      "You can now load the package via spacy.load('en_core_web_sm')\r\n"
     ]
    }
   ],
   "source": [
    "!python -m spacy download en_core_web_sm"
   ],
   "metadata": {
    "collapsed": false,
    "ExecuteTime": {
     "end_time": "2024-02-12T21:26:24.115999Z",
     "start_time": "2024-02-12T21:26:18.841427Z"
    }
   },
   "execution_count": 19
  },
  {
   "cell_type": "code",
   "execution_count": 20,
   "outputs": [],
   "source": [
    "import spacy\n",
    "\n",
    "nlp = spacy.load('en_core_web_sm')"
   ],
   "metadata": {
    "collapsed": false,
    "ExecuteTime": {
     "end_time": "2024-02-12T21:26:24.379059Z",
     "start_time": "2024-02-12T21:26:24.117110Z"
    }
   }
  },
  {
   "cell_type": "markdown",
   "source": [
    "# Add Spacy Text Blob\n",
    "spacytextblob is a pipeline component that enables sentiment analysis using the TextBlob library."
   ],
   "metadata": {
    "collapsed": false
   }
  },
  {
   "cell_type": "code",
   "execution_count": 21,
   "outputs": [
    {
     "data": {
      "text/plain": "<spacytextblob.spacytextblob.SpacyTextBlob at 0x1691b91f0>"
     },
     "execution_count": 21,
     "metadata": {},
     "output_type": "execute_result"
    }
   ],
   "source": [
    "nlp.add_pipe('spacytextblob')"
   ],
   "metadata": {
    "collapsed": false,
    "ExecuteTime": {
     "end_time": "2024-02-12T21:26:24.384439Z",
     "start_time": "2024-02-12T21:26:24.381866Z"
    }
   }
  },
  {
   "cell_type": "markdown",
   "source": [
    "# Set the Text"
   ],
   "metadata": {
    "collapsed": false
   }
  },
  {
   "cell_type": "code",
   "execution_count": 22,
   "outputs": [],
   "source": [
    "text = 'I had a really horrible day. It was the worst day ever! But every now and then I have a really good day that makes me happy.'"
   ],
   "metadata": {
    "collapsed": false,
    "ExecuteTime": {
     "end_time": "2024-02-12T21:26:24.389096Z",
     "start_time": "2024-02-12T21:26:24.385143Z"
    }
   }
  },
  {
   "cell_type": "markdown",
   "source": [
    "# Process the text"
   ],
   "metadata": {
    "collapsed": false
   }
  },
  {
   "cell_type": "code",
   "execution_count": 23,
   "outputs": [],
   "source": [
    "doc = nlp(text)"
   ],
   "metadata": {
    "collapsed": false,
    "ExecuteTime": {
     "end_time": "2024-02-12T21:26:24.397401Z",
     "start_time": "2024-02-12T21:26:24.388999Z"
    }
   }
  },
  {
   "cell_type": "markdown",
   "source": [
    "# Polarity and subjectivity\n",
    "Polarity is the output that lies between [-1,1], where -1 refers to negative sentiment and +1 refers to positive sentiment. Subjectivity is the output that lies within [0,1] and refers to personal opinions and judgments"
   ],
   "metadata": {
    "collapsed": false
   }
  },
  {
   "cell_type": "code",
   "execution_count": 24,
   "outputs": [
    {
     "data": {
      "text/plain": "-0.125"
     },
     "execution_count": 24,
     "metadata": {},
     "output_type": "execute_result"
    }
   ],
   "source": [
    "doc._.blob.polarity"
   ],
   "metadata": {
    "collapsed": false,
    "ExecuteTime": {
     "end_time": "2024-02-12T21:26:24.402170Z",
     "start_time": "2024-02-12T21:26:24.398321Z"
    }
   }
  },
  {
   "cell_type": "code",
   "execution_count": 25,
   "outputs": [
    {
     "data": {
      "text/plain": "0.9"
     },
     "execution_count": 25,
     "metadata": {},
     "output_type": "execute_result"
    }
   ],
   "source": [
    "doc._.blob.subjectivity"
   ],
   "metadata": {
    "collapsed": false,
    "ExecuteTime": {
     "end_time": "2024-02-12T21:26:24.418641Z",
     "start_time": "2024-02-12T21:26:24.403553Z"
    }
   }
  },
  {
   "cell_type": "code",
   "execution_count": 26,
   "outputs": [
    {
     "data": {
      "text/plain": "[(['really', 'horrible'], -1.0, 1.0, None),\n (['worst', '!'], -1.0, 1.0, None),\n (['really', 'good'], 0.7, 0.6000000000000001, None),\n (['happy'], 0.8, 1.0, None)]"
     },
     "execution_count": 26,
     "metadata": {},
     "output_type": "execute_result"
    }
   ],
   "source": [
    "doc._.blob.sentiment_assessments.assessments"
   ],
   "metadata": {
    "collapsed": false,
    "ExecuteTime": {
     "end_time": "2024-02-12T21:26:24.419080Z",
     "start_time": "2024-02-12T21:26:24.406947Z"
    }
   }
  },
  {
   "cell_type": "code",
   "execution_count": 27,
   "outputs": [
    {
     "data": {
      "text/plain": "[WordList(['I', 'had', 'a']),\n WordList(['had', 'a', 'really']),\n WordList(['a', 'really', 'horrible']),\n WordList(['really', 'horrible', 'day']),\n WordList(['horrible', 'day', 'It']),\n WordList(['day', 'It', 'was']),\n WordList(['It', 'was', 'the']),\n WordList(['was', 'the', 'worst']),\n WordList(['the', 'worst', 'day']),\n WordList(['worst', 'day', 'ever']),\n WordList(['day', 'ever', 'But']),\n WordList(['ever', 'But', 'every']),\n WordList(['But', 'every', 'now']),\n WordList(['every', 'now', 'and']),\n WordList(['now', 'and', 'then']),\n WordList(['and', 'then', 'I']),\n WordList(['then', 'I', 'have']),\n WordList(['I', 'have', 'a']),\n WordList(['have', 'a', 'really']),\n WordList(['a', 'really', 'good']),\n WordList(['really', 'good', 'day']),\n WordList(['good', 'day', 'that']),\n WordList(['day', 'that', 'makes']),\n WordList(['that', 'makes', 'me']),\n WordList(['makes', 'me', 'happy'])]"
     },
     "execution_count": 27,
     "metadata": {},
     "output_type": "execute_result"
    }
   ],
   "source": [
    "doc._.blob.ngrams()"
   ],
   "metadata": {
    "collapsed": false,
    "ExecuteTime": {
     "end_time": "2024-02-12T21:26:24.419401Z",
     "start_time": "2024-02-12T21:26:24.412136Z"
    }
   }
  },
  {
   "cell_type": "markdown",
   "source": [
    "# <https://spacytextblob.netlify.app/>"
   ],
   "metadata": {
    "collapsed": false
   }
  },
  {
   "cell_type": "code",
   "outputs": [],
   "source": [],
   "metadata": {
    "collapsed": false,
    "ExecuteTime": {
     "end_time": "2024-02-12T21:26:24.419601Z",
     "start_time": "2024-02-12T21:26:24.414619Z"
    }
   },
   "execution_count": 27
  }
 ],
 "metadata": {
  "kernelspec": {
   "display_name": "Python 3",
   "language": "python",
   "name": "python3"
  },
  "language_info": {
   "codemirror_mode": {
    "name": "ipython",
    "version": 2
   },
   "file_extension": ".py",
   "mimetype": "text/x-python",
   "name": "python",
   "nbconvert_exporter": "python",
   "pygments_lexer": "ipython2",
   "version": "2.7.6"
  }
 },
 "nbformat": 4,
 "nbformat_minor": 0
}
