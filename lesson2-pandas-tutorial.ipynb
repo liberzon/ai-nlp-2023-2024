{
 "cells": [
  {
   "cell_type": "markdown",
   "source": [
    "Basic imports..."
   ],
   "metadata": {
    "collapsed": false
   }
  },
  {
   "cell_type": "code",
   "execution_count": 1,
   "metadata": {
    "collapsed": true,
    "ExecuteTime": {
     "end_time": "2024-01-16T18:23:38.765035900Z",
     "start_time": "2024-01-16T18:23:37.181101500Z"
    }
   },
   "outputs": [],
   "source": [
    "import numpy as np\n",
    "import pandas as pd"
   ]
  },
  {
   "cell_type": "markdown",
   "source": [
    "Series declarations"
   ],
   "metadata": {
    "collapsed": false
   }
  },
  {
   "cell_type": "markdown",
   "source": [
    "s = pd.Series(data, index, name)"
   ],
   "metadata": {
    "collapsed": false
   }
  },
  {
   "cell_type": "code",
   "execution_count": 2,
   "outputs": [],
   "source": [
    "s = pd.Series(np.random.randn(5), index=[\"a\", \"b\", \"c\", \"d\", \"e\"])"
   ],
   "metadata": {
    "collapsed": false,
    "ExecuteTime": {
     "end_time": "2024-01-16T18:23:38.779994400Z",
     "start_time": "2024-01-16T18:23:38.768026300Z"
    }
   }
  },
  {
   "cell_type": "code",
   "execution_count": 3,
   "outputs": [
    {
     "data": {
      "text/plain": "a   -0.090055\nb   -2.019780\nc    0.210290\nd    0.434338\ne   -0.018010\ndtype: float64"
     },
     "execution_count": 3,
     "metadata": {},
     "output_type": "execute_result"
    }
   ],
   "source": [
    "s"
   ],
   "metadata": {
    "collapsed": false,
    "ExecuteTime": {
     "end_time": "2024-01-16T18:23:38.812908600Z",
     "start_time": "2024-01-16T18:23:38.780992800Z"
    }
   }
  },
  {
   "cell_type": "code",
   "execution_count": 4,
   "outputs": [],
   "source": [
    "s = pd.Series(np.random.randn(5))"
   ],
   "metadata": {
    "collapsed": false,
    "ExecuteTime": {
     "end_time": "2024-01-16T18:23:38.826870400Z",
     "start_time": "2024-01-16T18:23:38.812908600Z"
    }
   }
  },
  {
   "cell_type": "code",
   "execution_count": 5,
   "outputs": [
    {
     "data": {
      "text/plain": "0    2.756072\n1   -1.390825\n2   -1.038457\n3   -0.214283\n4    1.163305\ndtype: float64"
     },
     "execution_count": 5,
     "metadata": {},
     "output_type": "execute_result"
    }
   ],
   "source": [
    "s"
   ],
   "metadata": {
    "collapsed": false,
    "ExecuteTime": {
     "end_time": "2024-01-16T18:23:38.856797100Z",
     "start_time": "2024-01-16T18:23:38.833863800Z"
    }
   }
  },
  {
   "cell_type": "code",
   "execution_count": 6,
   "outputs": [],
   "source": [
    "d = {\"a\": 0.0, \"b\": 1.0, \"c\": 2.0}\n",
    "s = pd.Series(d)"
   ],
   "metadata": {
    "collapsed": false,
    "ExecuteTime": {
     "end_time": "2024-01-16T18:23:38.870759100Z",
     "start_time": "2024-01-16T18:23:38.855799500Z"
    }
   }
  },
  {
   "cell_type": "code",
   "execution_count": 7,
   "outputs": [
    {
     "data": {
      "text/plain": "a    0.0\nb    1.0\nc    2.0\ndtype: float64"
     },
     "execution_count": 7,
     "metadata": {},
     "output_type": "execute_result"
    }
   ],
   "source": [
    "s"
   ],
   "metadata": {
    "collapsed": false,
    "ExecuteTime": {
     "end_time": "2024-01-16T18:23:38.901676700Z",
     "start_time": "2024-01-16T18:23:38.871757500Z"
    }
   }
  },
  {
   "cell_type": "code",
   "execution_count": 8,
   "outputs": [],
   "source": [
    "s = pd.Series(d, index=[\"b\", \"c\", \"d\", \"a\"])"
   ],
   "metadata": {
    "collapsed": false,
    "ExecuteTime": {
     "end_time": "2024-01-16T18:23:38.917634400Z",
     "start_time": "2024-01-16T18:23:38.901676700Z"
    }
   }
  },
  {
   "cell_type": "code",
   "execution_count": 9,
   "outputs": [
    {
     "data": {
      "text/plain": "b    1.0\nc    2.0\nd    NaN\na    0.0\ndtype: float64"
     },
     "execution_count": 9,
     "metadata": {},
     "output_type": "execute_result"
    }
   ],
   "source": [
    "s"
   ],
   "metadata": {
    "collapsed": false,
    "ExecuteTime": {
     "end_time": "2024-01-16T18:23:38.938578Z",
     "start_time": "2024-01-16T18:23:38.917634400Z"
    }
   }
  },
  {
   "cell_type": "code",
   "execution_count": 10,
   "outputs": [],
   "source": [
    "s = pd.Series(5.0, index=[\"a\", \"b\", \"c\", \"d\", \"e\"])"
   ],
   "metadata": {
    "collapsed": false,
    "ExecuteTime": {
     "end_time": "2024-01-16T18:23:38.951543600Z",
     "start_time": "2024-01-16T18:23:38.935585Z"
    }
   }
  },
  {
   "cell_type": "code",
   "execution_count": 11,
   "outputs": [
    {
     "data": {
      "text/plain": "a    5.0\nb    5.0\nc    5.0\nd    5.0\ne    5.0\ndtype: float64"
     },
     "execution_count": 11,
     "metadata": {},
     "output_type": "execute_result"
    }
   ],
   "source": [
    "s"
   ],
   "metadata": {
    "collapsed": false,
    "ExecuteTime": {
     "end_time": "2024-01-16T18:23:38.965506800Z",
     "start_time": "2024-01-16T18:23:38.949549300Z"
    }
   }
  },
  {
   "cell_type": "code",
   "execution_count": 12,
   "outputs": [
    {
     "data": {
      "text/plain": "5.0"
     },
     "execution_count": 12,
     "metadata": {},
     "output_type": "execute_result"
    }
   ],
   "source": [
    "s[\"a\"]"
   ],
   "metadata": {
    "collapsed": false,
    "ExecuteTime": {
     "end_time": "2024-01-16T18:23:39.016369400Z",
     "start_time": "2024-01-16T18:23:38.964507700Z"
    }
   }
  },
  {
   "cell_type": "code",
   "execution_count": 13,
   "outputs": [],
   "source": [
    "s[\"e\"] = 12.0"
   ],
   "metadata": {
    "collapsed": false,
    "ExecuteTime": {
     "end_time": "2024-01-16T18:23:39.022354700Z",
     "start_time": "2024-01-16T18:23:38.994430800Z"
    }
   }
  },
  {
   "cell_type": "code",
   "execution_count": 14,
   "outputs": [
    {
     "data": {
      "text/plain": "a     5.0\nb     5.0\nc     5.0\nd     5.0\ne    12.0\ndtype: float64"
     },
     "execution_count": 14,
     "metadata": {},
     "output_type": "execute_result"
    }
   ],
   "source": [
    "s"
   ],
   "metadata": {
    "collapsed": false,
    "ExecuteTime": {
     "end_time": "2024-01-16T18:23:39.040310800Z",
     "start_time": "2024-01-16T18:23:39.021356800Z"
    }
   }
  },
  {
   "cell_type": "code",
   "execution_count": 15,
   "outputs": [
    {
     "data": {
      "text/plain": "True"
     },
     "execution_count": 15,
     "metadata": {},
     "output_type": "execute_result"
    }
   ],
   "source": [
    "\"e\" in s"
   ],
   "metadata": {
    "collapsed": false,
    "ExecuteTime": {
     "end_time": "2024-01-16T18:23:39.077211300Z",
     "start_time": "2024-01-16T18:23:39.039313500Z"
    }
   }
  },
  {
   "cell_type": "code",
   "execution_count": 16,
   "outputs": [
    {
     "data": {
      "text/plain": "False"
     },
     "execution_count": 16,
     "metadata": {},
     "output_type": "execute_result"
    }
   ],
   "source": [
    "\"f\" in s"
   ],
   "metadata": {
    "collapsed": false,
    "ExecuteTime": {
     "end_time": "2024-01-16T18:23:39.082198300Z",
     "start_time": "2024-01-16T18:23:39.055271800Z"
    }
   }
  },
  {
   "cell_type": "code",
   "execution_count": 17,
   "outputs": [],
   "source": [
    "s.get(\"f\")"
   ],
   "metadata": {
    "collapsed": false,
    "ExecuteTime": {
     "end_time": "2024-01-16T18:23:39.092172Z",
     "start_time": "2024-01-16T18:23:39.069233900Z"
    }
   }
  },
  {
   "cell_type": "markdown",
   "source": [
    "DataFrame"
   ],
   "metadata": {
    "collapsed": false
   }
  },
  {
   "cell_type": "markdown",
   "source": [
    "df = pd.DataFrame(data, index, columns)"
   ],
   "metadata": {
    "collapsed": false
   }
  },
  {
   "cell_type": "code",
   "execution_count": 18,
   "outputs": [],
   "source": [
    "s = pd.Series([1, 3, 5, np.nan, 6, 8])"
   ],
   "metadata": {
    "collapsed": false,
    "ExecuteTime": {
     "end_time": "2024-01-16T18:23:39.099152800Z",
     "start_time": "2024-01-16T18:23:39.085191800Z"
    }
   }
  },
  {
   "cell_type": "code",
   "execution_count": 19,
   "outputs": [
    {
     "data": {
      "text/plain": "0    1.0\n1    3.0\n2    5.0\n3    NaN\n4    6.0\n5    8.0\ndtype: float64"
     },
     "execution_count": 19,
     "metadata": {},
     "output_type": "execute_result"
    }
   ],
   "source": [
    "s"
   ],
   "metadata": {
    "collapsed": false,
    "ExecuteTime": {
     "end_time": "2024-01-16T18:23:39.139046800Z",
     "start_time": "2024-01-16T18:23:39.100150400Z"
    }
   }
  },
  {
   "cell_type": "code",
   "execution_count": 20,
   "outputs": [
    {
     "data": {
      "text/plain": "DatetimeIndex(['2013-01-01', '2013-01-02', '2013-01-03', '2013-01-04',\n               '2013-01-05', '2013-01-06'],\n              dtype='datetime64[ns]', freq='D')"
     },
     "execution_count": 20,
     "metadata": {},
     "output_type": "execute_result"
    }
   ],
   "source": [
    "dates = pd.date_range(\"20130101\", periods=6)\n",
    "dates"
   ],
   "metadata": {
    "collapsed": false,
    "ExecuteTime": {
     "end_time": "2024-01-16T18:23:39.139046800Z",
     "start_time": "2024-01-16T18:23:39.116109600Z"
    }
   }
  },
  {
   "cell_type": "code",
   "execution_count": 21,
   "outputs": [
    {
     "data": {
      "text/plain": "                   A         B         C         D\n2013-01-01 -0.614148 -2.455024 -1.089298  1.190323\n2013-01-02 -0.589670  0.291967  0.045809 -0.544865\n2013-01-03 -0.262378 -0.483177 -0.916483  1.322162\n2013-01-04 -0.048418 -0.169044 -1.629154 -0.097438\n2013-01-05 -0.760924  1.700742  0.400617 -2.232949\n2013-01-06  0.445690 -0.396226  0.506624 -0.918329",
      "text/html": "<div>\n<style scoped>\n    .dataframe tbody tr th:only-of-type {\n        vertical-align: middle;\n    }\n\n    .dataframe tbody tr th {\n        vertical-align: top;\n    }\n\n    .dataframe thead th {\n        text-align: right;\n    }\n</style>\n<table border=\"1\" class=\"dataframe\">\n  <thead>\n    <tr style=\"text-align: right;\">\n      <th></th>\n      <th>A</th>\n      <th>B</th>\n      <th>C</th>\n      <th>D</th>\n    </tr>\n  </thead>\n  <tbody>\n    <tr>\n      <th>2013-01-01</th>\n      <td>-0.614148</td>\n      <td>-2.455024</td>\n      <td>-1.089298</td>\n      <td>1.190323</td>\n    </tr>\n    <tr>\n      <th>2013-01-02</th>\n      <td>-0.589670</td>\n      <td>0.291967</td>\n      <td>0.045809</td>\n      <td>-0.544865</td>\n    </tr>\n    <tr>\n      <th>2013-01-03</th>\n      <td>-0.262378</td>\n      <td>-0.483177</td>\n      <td>-0.916483</td>\n      <td>1.322162</td>\n    </tr>\n    <tr>\n      <th>2013-01-04</th>\n      <td>-0.048418</td>\n      <td>-0.169044</td>\n      <td>-1.629154</td>\n      <td>-0.097438</td>\n    </tr>\n    <tr>\n      <th>2013-01-05</th>\n      <td>-0.760924</td>\n      <td>1.700742</td>\n      <td>0.400617</td>\n      <td>-2.232949</td>\n    </tr>\n    <tr>\n      <th>2013-01-06</th>\n      <td>0.445690</td>\n      <td>-0.396226</td>\n      <td>0.506624</td>\n      <td>-0.918329</td>\n    </tr>\n  </tbody>\n</table>\n</div>"
     },
     "execution_count": 21,
     "metadata": {},
     "output_type": "execute_result"
    }
   ],
   "source": [
    "df = pd.DataFrame(np.random.randn(6, 4), index=dates, columns=list(\"ABCD\"))\n",
    "df"
   ],
   "metadata": {
    "collapsed": false,
    "ExecuteTime": {
     "end_time": "2024-01-16T18:23:39.161986600Z",
     "start_time": "2024-01-16T18:23:39.130071500Z"
    }
   }
  },
  {
   "cell_type": "code",
   "execution_count": 22,
   "outputs": [
    {
     "data": {
      "text/plain": "     A          B    C  D      E    F\n0  1.0 2013-01-02  1.0  3   test  foo\n1  1.0 2013-01-02  1.0  3  train  foo\n2  1.0 2013-01-02  1.0  3   test  foo\n3  1.0 2013-01-02  1.0  3  train  foo",
      "text/html": "<div>\n<style scoped>\n    .dataframe tbody tr th:only-of-type {\n        vertical-align: middle;\n    }\n\n    .dataframe tbody tr th {\n        vertical-align: top;\n    }\n\n    .dataframe thead th {\n        text-align: right;\n    }\n</style>\n<table border=\"1\" class=\"dataframe\">\n  <thead>\n    <tr style=\"text-align: right;\">\n      <th></th>\n      <th>A</th>\n      <th>B</th>\n      <th>C</th>\n      <th>D</th>\n      <th>E</th>\n      <th>F</th>\n    </tr>\n  </thead>\n  <tbody>\n    <tr>\n      <th>0</th>\n      <td>1.0</td>\n      <td>2013-01-02</td>\n      <td>1.0</td>\n      <td>3</td>\n      <td>test</td>\n      <td>foo</td>\n    </tr>\n    <tr>\n      <th>1</th>\n      <td>1.0</td>\n      <td>2013-01-02</td>\n      <td>1.0</td>\n      <td>3</td>\n      <td>train</td>\n      <td>foo</td>\n    </tr>\n    <tr>\n      <th>2</th>\n      <td>1.0</td>\n      <td>2013-01-02</td>\n      <td>1.0</td>\n      <td>3</td>\n      <td>test</td>\n      <td>foo</td>\n    </tr>\n    <tr>\n      <th>3</th>\n      <td>1.0</td>\n      <td>2013-01-02</td>\n      <td>1.0</td>\n      <td>3</td>\n      <td>train</td>\n      <td>foo</td>\n    </tr>\n  </tbody>\n</table>\n</div>"
     },
     "execution_count": 22,
     "metadata": {},
     "output_type": "execute_result"
    }
   ],
   "source": [
    "df2 = pd.DataFrame(\n",
    "    {\n",
    "        \"A\": 1.0,\n",
    "        \"B\": pd.Timestamp(\"20130102\"),\n",
    "        \"C\": pd.Series(1, index=list(range(4)), dtype=\"float32\"),\n",
    "        \"D\": np.array([3] * 4, dtype=\"int32\"),\n",
    "        \"E\": pd.Categorical([\"test\", \"train\", \"test\", \"train\"]),\n",
    "        \"F\": \"foo\",\n",
    "    }\n",
    ")\n",
    "df2"
   ],
   "metadata": {
    "collapsed": false,
    "ExecuteTime": {
     "end_time": "2024-01-16T18:23:39.231799900Z",
     "start_time": "2024-01-16T18:23:39.164978100Z"
    }
   }
  },
  {
   "cell_type": "code",
   "execution_count": 23,
   "outputs": [
    {
     "data": {
      "text/plain": "A          float64\nB    datetime64[s]\nC          float32\nD            int32\nE         category\nF           object\ndtype: object"
     },
     "execution_count": 23,
     "metadata": {},
     "output_type": "execute_result"
    }
   ],
   "source": [
    "df2.dtypes"
   ],
   "metadata": {
    "collapsed": false,
    "ExecuteTime": {
     "end_time": "2024-01-16T18:23:39.284825700Z",
     "start_time": "2024-01-16T18:23:39.196893200Z"
    }
   }
  },
  {
   "cell_type": "code",
   "execution_count": 24,
   "outputs": [
    {
     "data": {
      "text/plain": "     A          B    C  D      E    F\n0  1.0 2013-01-02  1.0  3   test  foo\n1  1.0 2013-01-02  1.0  3  train  foo\n2  1.0 2013-01-02  1.0  3   test  foo\n3  1.0 2013-01-02  1.0  3  train  foo",
      "text/html": "<div>\n<style scoped>\n    .dataframe tbody tr th:only-of-type {\n        vertical-align: middle;\n    }\n\n    .dataframe tbody tr th {\n        vertical-align: top;\n    }\n\n    .dataframe thead th {\n        text-align: right;\n    }\n</style>\n<table border=\"1\" class=\"dataframe\">\n  <thead>\n    <tr style=\"text-align: right;\">\n      <th></th>\n      <th>A</th>\n      <th>B</th>\n      <th>C</th>\n      <th>D</th>\n      <th>E</th>\n      <th>F</th>\n    </tr>\n  </thead>\n  <tbody>\n    <tr>\n      <th>0</th>\n      <td>1.0</td>\n      <td>2013-01-02</td>\n      <td>1.0</td>\n      <td>3</td>\n      <td>test</td>\n      <td>foo</td>\n    </tr>\n    <tr>\n      <th>1</th>\n      <td>1.0</td>\n      <td>2013-01-02</td>\n      <td>1.0</td>\n      <td>3</td>\n      <td>train</td>\n      <td>foo</td>\n    </tr>\n    <tr>\n      <th>2</th>\n      <td>1.0</td>\n      <td>2013-01-02</td>\n      <td>1.0</td>\n      <td>3</td>\n      <td>test</td>\n      <td>foo</td>\n    </tr>\n    <tr>\n      <th>3</th>\n      <td>1.0</td>\n      <td>2013-01-02</td>\n      <td>1.0</td>\n      <td>3</td>\n      <td>train</td>\n      <td>foo</td>\n    </tr>\n  </tbody>\n</table>\n</div>"
     },
     "execution_count": 24,
     "metadata": {},
     "output_type": "execute_result"
    }
   ],
   "source": [
    "df2"
   ],
   "metadata": {
    "collapsed": false,
    "ExecuteTime": {
     "end_time": "2024-01-16T18:23:39.320731100Z",
     "start_time": "2024-01-16T18:23:39.225816Z"
    }
   }
  },
  {
   "cell_type": "code",
   "execution_count": 25,
   "outputs": [
    {
     "data": {
      "text/plain": "                   A         B         C         D\n2013-01-01 -0.614148 -2.455024 -1.089298  1.190323\n2013-01-02 -0.589670  0.291967  0.045809 -0.544865\n2013-01-03 -0.262378 -0.483177 -0.916483  1.322162\n2013-01-04 -0.048418 -0.169044 -1.629154 -0.097438\n2013-01-05 -0.760924  1.700742  0.400617 -2.232949",
      "text/html": "<div>\n<style scoped>\n    .dataframe tbody tr th:only-of-type {\n        vertical-align: middle;\n    }\n\n    .dataframe tbody tr th {\n        vertical-align: top;\n    }\n\n    .dataframe thead th {\n        text-align: right;\n    }\n</style>\n<table border=\"1\" class=\"dataframe\">\n  <thead>\n    <tr style=\"text-align: right;\">\n      <th></th>\n      <th>A</th>\n      <th>B</th>\n      <th>C</th>\n      <th>D</th>\n    </tr>\n  </thead>\n  <tbody>\n    <tr>\n      <th>2013-01-01</th>\n      <td>-0.614148</td>\n      <td>-2.455024</td>\n      <td>-1.089298</td>\n      <td>1.190323</td>\n    </tr>\n    <tr>\n      <th>2013-01-02</th>\n      <td>-0.589670</td>\n      <td>0.291967</td>\n      <td>0.045809</td>\n      <td>-0.544865</td>\n    </tr>\n    <tr>\n      <th>2013-01-03</th>\n      <td>-0.262378</td>\n      <td>-0.483177</td>\n      <td>-0.916483</td>\n      <td>1.322162</td>\n    </tr>\n    <tr>\n      <th>2013-01-04</th>\n      <td>-0.048418</td>\n      <td>-0.169044</td>\n      <td>-1.629154</td>\n      <td>-0.097438</td>\n    </tr>\n    <tr>\n      <th>2013-01-05</th>\n      <td>-0.760924</td>\n      <td>1.700742</td>\n      <td>0.400617</td>\n      <td>-2.232949</td>\n    </tr>\n  </tbody>\n</table>\n</div>"
     },
     "execution_count": 25,
     "metadata": {},
     "output_type": "execute_result"
    }
   ],
   "source": [
    "df.head()"
   ],
   "metadata": {
    "collapsed": false,
    "ExecuteTime": {
     "end_time": "2024-01-16T18:23:39.323722400Z",
     "start_time": "2024-01-16T18:23:39.255904100Z"
    }
   }
  },
  {
   "cell_type": "code",
   "execution_count": 26,
   "outputs": [
    {
     "data": {
      "text/plain": "                   A         B         C         D\n2013-01-04 -0.048418 -0.169044 -1.629154 -0.097438\n2013-01-05 -0.760924  1.700742  0.400617 -2.232949\n2013-01-06  0.445690 -0.396226  0.506624 -0.918329",
      "text/html": "<div>\n<style scoped>\n    .dataframe tbody tr th:only-of-type {\n        vertical-align: middle;\n    }\n\n    .dataframe tbody tr th {\n        vertical-align: top;\n    }\n\n    .dataframe thead th {\n        text-align: right;\n    }\n</style>\n<table border=\"1\" class=\"dataframe\">\n  <thead>\n    <tr style=\"text-align: right;\">\n      <th></th>\n      <th>A</th>\n      <th>B</th>\n      <th>C</th>\n      <th>D</th>\n    </tr>\n  </thead>\n  <tbody>\n    <tr>\n      <th>2013-01-04</th>\n      <td>-0.048418</td>\n      <td>-0.169044</td>\n      <td>-1.629154</td>\n      <td>-0.097438</td>\n    </tr>\n    <tr>\n      <th>2013-01-05</th>\n      <td>-0.760924</td>\n      <td>1.700742</td>\n      <td>0.400617</td>\n      <td>-2.232949</td>\n    </tr>\n    <tr>\n      <th>2013-01-06</th>\n      <td>0.445690</td>\n      <td>-0.396226</td>\n      <td>0.506624</td>\n      <td>-0.918329</td>\n    </tr>\n  </tbody>\n</table>\n</div>"
     },
     "execution_count": 26,
     "metadata": {},
     "output_type": "execute_result"
    }
   ],
   "source": [
    "df.tail(3)"
   ],
   "metadata": {
    "collapsed": false,
    "ExecuteTime": {
     "end_time": "2024-01-16T18:23:39.369798300Z",
     "start_time": "2024-01-16T18:23:39.286822Z"
    }
   }
  },
  {
   "cell_type": "code",
   "execution_count": 27,
   "outputs": [
    {
     "data": {
      "text/plain": "DatetimeIndex(['2013-01-01', '2013-01-02', '2013-01-03', '2013-01-04',\n               '2013-01-05', '2013-01-06'],\n              dtype='datetime64[ns]', freq='D')"
     },
     "execution_count": 27,
     "metadata": {},
     "output_type": "execute_result"
    }
   ],
   "source": [
    "df.index"
   ],
   "metadata": {
    "collapsed": false,
    "ExecuteTime": {
     "end_time": "2024-01-16T18:23:39.439877300Z",
     "start_time": "2024-01-16T18:23:39.317739200Z"
    }
   }
  },
  {
   "cell_type": "code",
   "execution_count": 28,
   "outputs": [
    {
     "data": {
      "text/plain": "Index(['A', 'B', 'C', 'D'], dtype='object')"
     },
     "execution_count": 28,
     "metadata": {},
     "output_type": "execute_result"
    }
   ],
   "source": [
    "df.columns"
   ],
   "metadata": {
    "collapsed": false,
    "ExecuteTime": {
     "end_time": "2024-01-16T18:23:39.450847100Z",
     "start_time": "2024-01-16T18:23:39.333696300Z"
    }
   }
  },
  {
   "cell_type": "code",
   "execution_count": 29,
   "outputs": [
    {
     "data": {
      "text/plain": "array([[-0.61414805, -2.45502394, -1.08929804,  1.19032335],\n       [-0.58967013,  0.29196659,  0.04580918, -0.54486465],\n       [-0.26237803, -0.48317714, -0.9164833 ,  1.32216232],\n       [-0.04841823, -0.1690439 , -1.62915356, -0.09743772],\n       [-0.76092396,  1.70074242,  0.40061689, -2.23294886],\n       [ 0.44568971, -0.39622636,  0.50662433, -0.9183288 ]])"
     },
     "execution_count": 29,
     "metadata": {},
     "output_type": "execute_result"
    }
   ],
   "source": [
    "df.to_numpy()"
   ],
   "metadata": {
    "collapsed": false,
    "ExecuteTime": {
     "end_time": "2024-01-16T18:23:39.452842Z",
     "start_time": "2024-01-16T18:23:39.347856600Z"
    }
   }
  },
  {
   "cell_type": "code",
   "execution_count": 30,
   "outputs": [
    {
     "data": {
      "text/plain": "array([[1.0, Timestamp('2013-01-02 00:00:00'), 1.0, 3, 'test', 'foo'],\n       [1.0, Timestamp('2013-01-02 00:00:00'), 1.0, 3, 'train', 'foo'],\n       [1.0, Timestamp('2013-01-02 00:00:00'), 1.0, 3, 'test', 'foo'],\n       [1.0, Timestamp('2013-01-02 00:00:00'), 1.0, 3, 'train', 'foo']],\n      dtype=object)"
     },
     "execution_count": 30,
     "metadata": {},
     "output_type": "execute_result"
    }
   ],
   "source": [
    "df2.to_numpy()"
   ],
   "metadata": {
    "collapsed": false,
    "ExecuteTime": {
     "end_time": "2024-01-16T18:23:39.471791700Z",
     "start_time": "2024-01-16T18:23:39.361819500Z"
    }
   }
  },
  {
   "cell_type": "code",
   "execution_count": 31,
   "outputs": [
    {
     "data": {
      "text/plain": "              A         B         C         D\ncount  6.000000  6.000000  6.000000  6.000000\nmean  -0.304975 -0.251794 -0.446981 -0.213516\nstd    0.450702  1.344882  0.883308  1.343667\nmin   -0.760924 -2.455024 -1.629154 -2.232949\n25%   -0.608029 -0.461439 -1.046094 -0.824963\n50%   -0.426024 -0.282635 -0.435337 -0.321151\n75%   -0.101908  0.176714  0.311915  0.868383\nmax    0.445690  1.700742  0.506624  1.322162",
      "text/html": "<div>\n<style scoped>\n    .dataframe tbody tr th:only-of-type {\n        vertical-align: middle;\n    }\n\n    .dataframe tbody tr th {\n        vertical-align: top;\n    }\n\n    .dataframe thead th {\n        text-align: right;\n    }\n</style>\n<table border=\"1\" class=\"dataframe\">\n  <thead>\n    <tr style=\"text-align: right;\">\n      <th></th>\n      <th>A</th>\n      <th>B</th>\n      <th>C</th>\n      <th>D</th>\n    </tr>\n  </thead>\n  <tbody>\n    <tr>\n      <th>count</th>\n      <td>6.000000</td>\n      <td>6.000000</td>\n      <td>6.000000</td>\n      <td>6.000000</td>\n    </tr>\n    <tr>\n      <th>mean</th>\n      <td>-0.304975</td>\n      <td>-0.251794</td>\n      <td>-0.446981</td>\n      <td>-0.213516</td>\n    </tr>\n    <tr>\n      <th>std</th>\n      <td>0.450702</td>\n      <td>1.344882</td>\n      <td>0.883308</td>\n      <td>1.343667</td>\n    </tr>\n    <tr>\n      <th>min</th>\n      <td>-0.760924</td>\n      <td>-2.455024</td>\n      <td>-1.629154</td>\n      <td>-2.232949</td>\n    </tr>\n    <tr>\n      <th>25%</th>\n      <td>-0.608029</td>\n      <td>-0.461439</td>\n      <td>-1.046094</td>\n      <td>-0.824963</td>\n    </tr>\n    <tr>\n      <th>50%</th>\n      <td>-0.426024</td>\n      <td>-0.282635</td>\n      <td>-0.435337</td>\n      <td>-0.321151</td>\n    </tr>\n    <tr>\n      <th>75%</th>\n      <td>-0.101908</td>\n      <td>0.176714</td>\n      <td>0.311915</td>\n      <td>0.868383</td>\n    </tr>\n    <tr>\n      <th>max</th>\n      <td>0.445690</td>\n      <td>1.700742</td>\n      <td>0.506624</td>\n      <td>1.322162</td>\n    </tr>\n  </tbody>\n</table>\n</div>"
     },
     "execution_count": 31,
     "metadata": {},
     "output_type": "execute_result"
    }
   ],
   "source": [
    "df.describe()"
   ],
   "metadata": {
    "collapsed": false,
    "ExecuteTime": {
     "end_time": "2024-01-16T18:23:39.534625100Z",
     "start_time": "2024-01-16T18:23:39.396991600Z"
    }
   }
  },
  {
   "cell_type": "code",
   "execution_count": 32,
   "outputs": [
    {
     "data": {
      "text/plain": "   2013-01-01  2013-01-02  2013-01-03  2013-01-04  2013-01-05  2013-01-06\nA   -0.614148   -0.589670   -0.262378   -0.048418   -0.760924    0.445690\nB   -2.455024    0.291967   -0.483177   -0.169044    1.700742   -0.396226\nC   -1.089298    0.045809   -0.916483   -1.629154    0.400617    0.506624\nD    1.190323   -0.544865    1.322162   -0.097438   -2.232949   -0.918329",
      "text/html": "<div>\n<style scoped>\n    .dataframe tbody tr th:only-of-type {\n        vertical-align: middle;\n    }\n\n    .dataframe tbody tr th {\n        vertical-align: top;\n    }\n\n    .dataframe thead th {\n        text-align: right;\n    }\n</style>\n<table border=\"1\" class=\"dataframe\">\n  <thead>\n    <tr style=\"text-align: right;\">\n      <th></th>\n      <th>2013-01-01</th>\n      <th>2013-01-02</th>\n      <th>2013-01-03</th>\n      <th>2013-01-04</th>\n      <th>2013-01-05</th>\n      <th>2013-01-06</th>\n    </tr>\n  </thead>\n  <tbody>\n    <tr>\n      <th>A</th>\n      <td>-0.614148</td>\n      <td>-0.589670</td>\n      <td>-0.262378</td>\n      <td>-0.048418</td>\n      <td>-0.760924</td>\n      <td>0.445690</td>\n    </tr>\n    <tr>\n      <th>B</th>\n      <td>-2.455024</td>\n      <td>0.291967</td>\n      <td>-0.483177</td>\n      <td>-0.169044</td>\n      <td>1.700742</td>\n      <td>-0.396226</td>\n    </tr>\n    <tr>\n      <th>C</th>\n      <td>-1.089298</td>\n      <td>0.045809</td>\n      <td>-0.916483</td>\n      <td>-1.629154</td>\n      <td>0.400617</td>\n      <td>0.506624</td>\n    </tr>\n    <tr>\n      <th>D</th>\n      <td>1.190323</td>\n      <td>-0.544865</td>\n      <td>1.322162</td>\n      <td>-0.097438</td>\n      <td>-2.232949</td>\n      <td>-0.918329</td>\n    </tr>\n  </tbody>\n</table>\n</div>"
     },
     "execution_count": 32,
     "metadata": {},
     "output_type": "execute_result"
    }
   ],
   "source": [
    "df.T"
   ],
   "metadata": {
    "collapsed": false,
    "ExecuteTime": {
     "end_time": "2024-01-16T18:23:39.565541300Z",
     "start_time": "2024-01-16T18:23:39.424916900Z"
    }
   }
  },
  {
   "cell_type": "code",
   "execution_count": 33,
   "outputs": [
    {
     "data": {
      "text/plain": "                   D         C         B         A\n2013-01-01  1.190323 -1.089298 -2.455024 -0.614148\n2013-01-02 -0.544865  0.045809  0.291967 -0.589670\n2013-01-03  1.322162 -0.916483 -0.483177 -0.262378\n2013-01-04 -0.097438 -1.629154 -0.169044 -0.048418\n2013-01-05 -2.232949  0.400617  1.700742 -0.760924\n2013-01-06 -0.918329  0.506624 -0.396226  0.445690",
      "text/html": "<div>\n<style scoped>\n    .dataframe tbody tr th:only-of-type {\n        vertical-align: middle;\n    }\n\n    .dataframe tbody tr th {\n        vertical-align: top;\n    }\n\n    .dataframe thead th {\n        text-align: right;\n    }\n</style>\n<table border=\"1\" class=\"dataframe\">\n  <thead>\n    <tr style=\"text-align: right;\">\n      <th></th>\n      <th>D</th>\n      <th>C</th>\n      <th>B</th>\n      <th>A</th>\n    </tr>\n  </thead>\n  <tbody>\n    <tr>\n      <th>2013-01-01</th>\n      <td>1.190323</td>\n      <td>-1.089298</td>\n      <td>-2.455024</td>\n      <td>-0.614148</td>\n    </tr>\n    <tr>\n      <th>2013-01-02</th>\n      <td>-0.544865</td>\n      <td>0.045809</td>\n      <td>0.291967</td>\n      <td>-0.589670</td>\n    </tr>\n    <tr>\n      <th>2013-01-03</th>\n      <td>1.322162</td>\n      <td>-0.916483</td>\n      <td>-0.483177</td>\n      <td>-0.262378</td>\n    </tr>\n    <tr>\n      <th>2013-01-04</th>\n      <td>-0.097438</td>\n      <td>-1.629154</td>\n      <td>-0.169044</td>\n      <td>-0.048418</td>\n    </tr>\n    <tr>\n      <th>2013-01-05</th>\n      <td>-2.232949</td>\n      <td>0.400617</td>\n      <td>1.700742</td>\n      <td>-0.760924</td>\n    </tr>\n    <tr>\n      <th>2013-01-06</th>\n      <td>-0.918329</td>\n      <td>0.506624</td>\n      <td>-0.396226</td>\n      <td>0.445690</td>\n    </tr>\n  </tbody>\n</table>\n</div>"
     },
     "execution_count": 33,
     "metadata": {},
     "output_type": "execute_result"
    }
   ],
   "source": [
    "df.sort_index(axis=1, ascending=False)"
   ],
   "metadata": {
    "collapsed": false,
    "ExecuteTime": {
     "end_time": "2024-01-16T18:23:39.652310Z",
     "start_time": "2024-01-16T18:23:39.456832300Z"
    }
   }
  },
  {
   "cell_type": "code",
   "execution_count": 34,
   "outputs": [
    {
     "data": {
      "text/plain": "                   A         B         C         D\n2013-01-01 -0.614148 -2.455024 -1.089298  1.190323\n2013-01-03 -0.262378 -0.483177 -0.916483  1.322162\n2013-01-06  0.445690 -0.396226  0.506624 -0.918329\n2013-01-04 -0.048418 -0.169044 -1.629154 -0.097438\n2013-01-02 -0.589670  0.291967  0.045809 -0.544865\n2013-01-05 -0.760924  1.700742  0.400617 -2.232949",
      "text/html": "<div>\n<style scoped>\n    .dataframe tbody tr th:only-of-type {\n        vertical-align: middle;\n    }\n\n    .dataframe tbody tr th {\n        vertical-align: top;\n    }\n\n    .dataframe thead th {\n        text-align: right;\n    }\n</style>\n<table border=\"1\" class=\"dataframe\">\n  <thead>\n    <tr style=\"text-align: right;\">\n      <th></th>\n      <th>A</th>\n      <th>B</th>\n      <th>C</th>\n      <th>D</th>\n    </tr>\n  </thead>\n  <tbody>\n    <tr>\n      <th>2013-01-01</th>\n      <td>-0.614148</td>\n      <td>-2.455024</td>\n      <td>-1.089298</td>\n      <td>1.190323</td>\n    </tr>\n    <tr>\n      <th>2013-01-03</th>\n      <td>-0.262378</td>\n      <td>-0.483177</td>\n      <td>-0.916483</td>\n      <td>1.322162</td>\n    </tr>\n    <tr>\n      <th>2013-01-06</th>\n      <td>0.445690</td>\n      <td>-0.396226</td>\n      <td>0.506624</td>\n      <td>-0.918329</td>\n    </tr>\n    <tr>\n      <th>2013-01-04</th>\n      <td>-0.048418</td>\n      <td>-0.169044</td>\n      <td>-1.629154</td>\n      <td>-0.097438</td>\n    </tr>\n    <tr>\n      <th>2013-01-02</th>\n      <td>-0.589670</td>\n      <td>0.291967</td>\n      <td>0.045809</td>\n      <td>-0.544865</td>\n    </tr>\n    <tr>\n      <th>2013-01-05</th>\n      <td>-0.760924</td>\n      <td>1.700742</td>\n      <td>0.400617</td>\n      <td>-2.232949</td>\n    </tr>\n  </tbody>\n</table>\n</div>"
     },
     "execution_count": 34,
     "metadata": {},
     "output_type": "execute_result"
    }
   ],
   "source": [
    "df.sort_values(by=\"B\")"
   ],
   "metadata": {
    "collapsed": false,
    "ExecuteTime": {
     "end_time": "2024-01-16T18:23:39.696193400Z",
     "start_time": "2024-01-16T18:23:39.490740700Z"
    }
   }
  },
  {
   "cell_type": "code",
   "execution_count": 35,
   "outputs": [
    {
     "data": {
      "text/plain": "2013-01-01   -0.614148\n2013-01-02   -0.589670\n2013-01-03   -0.262378\n2013-01-04   -0.048418\n2013-01-05   -0.760924\n2013-01-06    0.445690\nFreq: D, Name: A, dtype: float64"
     },
     "execution_count": 35,
     "metadata": {},
     "output_type": "execute_result"
    }
   ],
   "source": [
    "df.A"
   ],
   "metadata": {
    "collapsed": false,
    "ExecuteTime": {
     "end_time": "2024-01-16T18:23:39.739078700Z",
     "start_time": "2024-01-16T18:23:39.519663400Z"
    }
   }
  },
  {
   "cell_type": "code",
   "execution_count": 36,
   "outputs": [
    {
     "data": {
      "text/plain": "2013-01-01   -0.614148\n2013-01-02   -0.589670\n2013-01-03   -0.262378\n2013-01-04   -0.048418\n2013-01-05   -0.760924\n2013-01-06    0.445690\nFreq: D, Name: A, dtype: float64"
     },
     "execution_count": 36,
     "metadata": {},
     "output_type": "execute_result"
    }
   ],
   "source": [
    "df[\"A\"]"
   ],
   "metadata": {
    "collapsed": false,
    "ExecuteTime": {
     "end_time": "2024-01-16T18:23:39.747058100Z",
     "start_time": "2024-01-16T18:23:39.535622Z"
    }
   }
  },
  {
   "cell_type": "code",
   "execution_count": 37,
   "outputs": [
    {
     "data": {
      "text/plain": "                   A         B         C         D\n2013-01-01 -0.614148 -2.455024 -1.089298  1.190323\n2013-01-02 -0.589670  0.291967  0.045809 -0.544865\n2013-01-03 -0.262378 -0.483177 -0.916483  1.322162",
      "text/html": "<div>\n<style scoped>\n    .dataframe tbody tr th:only-of-type {\n        vertical-align: middle;\n    }\n\n    .dataframe tbody tr th {\n        vertical-align: top;\n    }\n\n    .dataframe thead th {\n        text-align: right;\n    }\n</style>\n<table border=\"1\" class=\"dataframe\">\n  <thead>\n    <tr style=\"text-align: right;\">\n      <th></th>\n      <th>A</th>\n      <th>B</th>\n      <th>C</th>\n      <th>D</th>\n    </tr>\n  </thead>\n  <tbody>\n    <tr>\n      <th>2013-01-01</th>\n      <td>-0.614148</td>\n      <td>-2.455024</td>\n      <td>-1.089298</td>\n      <td>1.190323</td>\n    </tr>\n    <tr>\n      <th>2013-01-02</th>\n      <td>-0.589670</td>\n      <td>0.291967</td>\n      <td>0.045809</td>\n      <td>-0.544865</td>\n    </tr>\n    <tr>\n      <th>2013-01-03</th>\n      <td>-0.262378</td>\n      <td>-0.483177</td>\n      <td>-0.916483</td>\n      <td>1.322162</td>\n    </tr>\n  </tbody>\n</table>\n</div>"
     },
     "execution_count": 37,
     "metadata": {},
     "output_type": "execute_result"
    }
   ],
   "source": [
    "df[0:3]"
   ],
   "metadata": {
    "collapsed": false,
    "ExecuteTime": {
     "end_time": "2024-01-16T18:23:39.762017500Z",
     "start_time": "2024-01-16T18:23:39.551578400Z"
    }
   }
  },
  {
   "cell_type": "code",
   "execution_count": 38,
   "outputs": [
    {
     "data": {
      "text/plain": "                   A         B         C         D\n2013-01-02 -0.589670  0.291967  0.045809 -0.544865\n2013-01-03 -0.262378 -0.483177 -0.916483  1.322162\n2013-01-04 -0.048418 -0.169044 -1.629154 -0.097438",
      "text/html": "<div>\n<style scoped>\n    .dataframe tbody tr th:only-of-type {\n        vertical-align: middle;\n    }\n\n    .dataframe tbody tr th {\n        vertical-align: top;\n    }\n\n    .dataframe thead th {\n        text-align: right;\n    }\n</style>\n<table border=\"1\" class=\"dataframe\">\n  <thead>\n    <tr style=\"text-align: right;\">\n      <th></th>\n      <th>A</th>\n      <th>B</th>\n      <th>C</th>\n      <th>D</th>\n    </tr>\n  </thead>\n  <tbody>\n    <tr>\n      <th>2013-01-02</th>\n      <td>-0.589670</td>\n      <td>0.291967</td>\n      <td>0.045809</td>\n      <td>-0.544865</td>\n    </tr>\n    <tr>\n      <th>2013-01-03</th>\n      <td>-0.262378</td>\n      <td>-0.483177</td>\n      <td>-0.916483</td>\n      <td>1.322162</td>\n    </tr>\n    <tr>\n      <th>2013-01-04</th>\n      <td>-0.048418</td>\n      <td>-0.169044</td>\n      <td>-1.629154</td>\n      <td>-0.097438</td>\n    </tr>\n  </tbody>\n</table>\n</div>"
     },
     "execution_count": 38,
     "metadata": {},
     "output_type": "execute_result"
    }
   ],
   "source": [
    "df[\"20130102\":\"20130104\"]"
   ],
   "metadata": {
    "collapsed": false,
    "ExecuteTime": {
     "end_time": "2024-01-16T18:23:39.800913300Z",
     "start_time": "2024-01-16T18:23:39.583494100Z"
    }
   }
  },
  {
   "cell_type": "code",
   "execution_count": 39,
   "outputs": [
    {
     "data": {
      "text/plain": "A   -0.614148\nB   -2.455024\nC   -1.089298\nD    1.190323\nName: 2013-01-01 00:00:00, dtype: float64"
     },
     "execution_count": 39,
     "metadata": {},
     "output_type": "execute_result"
    }
   ],
   "source": [
    "df.loc[dates[0]]"
   ],
   "metadata": {
    "collapsed": false,
    "ExecuteTime": {
     "end_time": "2024-01-16T18:23:39.839809100Z",
     "start_time": "2024-01-16T18:23:39.614410900Z"
    }
   }
  },
  {
   "cell_type": "code",
   "execution_count": 40,
   "outputs": [
    {
     "data": {
      "text/plain": "                   A         B\n2013-01-01 -0.614148 -2.455024\n2013-01-02 -0.589670  0.291967\n2013-01-03 -0.262378 -0.483177\n2013-01-04 -0.048418 -0.169044\n2013-01-05 -0.760924  1.700742\n2013-01-06  0.445690 -0.396226",
      "text/html": "<div>\n<style scoped>\n    .dataframe tbody tr th:only-of-type {\n        vertical-align: middle;\n    }\n\n    .dataframe tbody tr th {\n        vertical-align: top;\n    }\n\n    .dataframe thead th {\n        text-align: right;\n    }\n</style>\n<table border=\"1\" class=\"dataframe\">\n  <thead>\n    <tr style=\"text-align: right;\">\n      <th></th>\n      <th>A</th>\n      <th>B</th>\n    </tr>\n  </thead>\n  <tbody>\n    <tr>\n      <th>2013-01-01</th>\n      <td>-0.614148</td>\n      <td>-2.455024</td>\n    </tr>\n    <tr>\n      <th>2013-01-02</th>\n      <td>-0.589670</td>\n      <td>0.291967</td>\n    </tr>\n    <tr>\n      <th>2013-01-03</th>\n      <td>-0.262378</td>\n      <td>-0.483177</td>\n    </tr>\n    <tr>\n      <th>2013-01-04</th>\n      <td>-0.048418</td>\n      <td>-0.169044</td>\n    </tr>\n    <tr>\n      <th>2013-01-05</th>\n      <td>-0.760924</td>\n      <td>1.700742</td>\n    </tr>\n    <tr>\n      <th>2013-01-06</th>\n      <td>0.445690</td>\n      <td>-0.396226</td>\n    </tr>\n  </tbody>\n</table>\n</div>"
     },
     "execution_count": 40,
     "metadata": {},
     "output_type": "execute_result"
    }
   ],
   "source": [
    "df.loc[:, [\"A\", \"B\"]]"
   ],
   "metadata": {
    "collapsed": false,
    "ExecuteTime": {
     "end_time": "2024-01-16T18:23:39.843798200Z",
     "start_time": "2024-01-16T18:23:39.644331100Z"
    }
   }
  },
  {
   "cell_type": "code",
   "execution_count": 41,
   "outputs": [
    {
     "data": {
      "text/plain": "                   A         B\n2013-01-02 -0.589670  0.291967\n2013-01-03 -0.262378 -0.483177\n2013-01-04 -0.048418 -0.169044",
      "text/html": "<div>\n<style scoped>\n    .dataframe tbody tr th:only-of-type {\n        vertical-align: middle;\n    }\n\n    .dataframe tbody tr th {\n        vertical-align: top;\n    }\n\n    .dataframe thead th {\n        text-align: right;\n    }\n</style>\n<table border=\"1\" class=\"dataframe\">\n  <thead>\n    <tr style=\"text-align: right;\">\n      <th></th>\n      <th>A</th>\n      <th>B</th>\n    </tr>\n  </thead>\n  <tbody>\n    <tr>\n      <th>2013-01-02</th>\n      <td>-0.589670</td>\n      <td>0.291967</td>\n    </tr>\n    <tr>\n      <th>2013-01-03</th>\n      <td>-0.262378</td>\n      <td>-0.483177</td>\n    </tr>\n    <tr>\n      <th>2013-01-04</th>\n      <td>-0.048418</td>\n      <td>-0.169044</td>\n    </tr>\n  </tbody>\n</table>\n</div>"
     },
     "execution_count": 41,
     "metadata": {},
     "output_type": "execute_result"
    }
   ],
   "source": [
    "df.loc[\"20130102\":\"20130104\", [\"A\", \"B\"]]"
   ],
   "metadata": {
    "collapsed": false,
    "ExecuteTime": {
     "end_time": "2024-01-16T18:23:39.867735100Z",
     "start_time": "2024-01-16T18:23:39.715142500Z"
    }
   }
  },
  {
   "cell_type": "code",
   "execution_count": 42,
   "outputs": [
    {
     "data": {
      "text/plain": "A   -0.589670\nB    0.291967\nName: 2013-01-02 00:00:00, dtype: float64"
     },
     "execution_count": 42,
     "metadata": {},
     "output_type": "execute_result"
    }
   ],
   "source": [
    "df.loc[\"20130102\", [\"A\", \"B\"]]"
   ],
   "metadata": {
    "collapsed": false,
    "ExecuteTime": {
     "end_time": "2024-01-16T18:23:39.883693700Z",
     "start_time": "2024-01-16T18:23:39.736087Z"
    }
   }
  },
  {
   "cell_type": "code",
   "execution_count": 43,
   "outputs": [
    {
     "data": {
      "text/plain": "-0.6141480455898837"
     },
     "execution_count": 43,
     "metadata": {},
     "output_type": "execute_result"
    }
   ],
   "source": [
    "df.loc[dates[0], \"A\"]"
   ],
   "metadata": {
    "collapsed": false,
    "ExecuteTime": {
     "end_time": "2024-01-16T18:23:39.929569500Z",
     "start_time": "2024-01-16T18:23:39.752043500Z"
    }
   }
  },
  {
   "cell_type": "code",
   "execution_count": 44,
   "outputs": [
    {
     "data": {
      "text/plain": "-0.6141480455898837"
     },
     "execution_count": 44,
     "metadata": {},
     "output_type": "execute_result"
    }
   ],
   "source": [
    "df.at[dates[0], \"A\"]"
   ],
   "metadata": {
    "collapsed": false,
    "ExecuteTime": {
     "end_time": "2024-01-16T18:23:39.955501500Z",
     "start_time": "2024-01-16T18:23:39.781963900Z"
    }
   }
  },
  {
   "cell_type": "code",
   "execution_count": 45,
   "outputs": [
    {
     "data": {
      "text/plain": "A   -0.048418\nB   -0.169044\nC   -1.629154\nD   -0.097438\nName: 2013-01-04 00:00:00, dtype: float64"
     },
     "execution_count": 45,
     "metadata": {},
     "output_type": "execute_result"
    }
   ],
   "source": [
    "df.iloc[3]"
   ],
   "metadata": {
    "collapsed": false,
    "ExecuteTime": {
     "end_time": "2024-01-16T18:23:40.023319300Z",
     "start_time": "2024-01-16T18:23:39.796923900Z"
    }
   }
  },
  {
   "cell_type": "code",
   "execution_count": 46,
   "outputs": [
    {
     "data": {
      "text/plain": "                   A         B\n2013-01-04 -0.048418 -0.169044\n2013-01-05 -0.760924  1.700742",
      "text/html": "<div>\n<style scoped>\n    .dataframe tbody tr th:only-of-type {\n        vertical-align: middle;\n    }\n\n    .dataframe tbody tr th {\n        vertical-align: top;\n    }\n\n    .dataframe thead th {\n        text-align: right;\n    }\n</style>\n<table border=\"1\" class=\"dataframe\">\n  <thead>\n    <tr style=\"text-align: right;\">\n      <th></th>\n      <th>A</th>\n      <th>B</th>\n    </tr>\n  </thead>\n  <tbody>\n    <tr>\n      <th>2013-01-04</th>\n      <td>-0.048418</td>\n      <td>-0.169044</td>\n    </tr>\n    <tr>\n      <th>2013-01-05</th>\n      <td>-0.760924</td>\n      <td>1.700742</td>\n    </tr>\n  </tbody>\n</table>\n</div>"
     },
     "execution_count": 46,
     "metadata": {},
     "output_type": "execute_result"
    }
   ],
   "source": [
    "df.iloc[3:5, 0:2]"
   ],
   "metadata": {
    "collapsed": false,
    "ExecuteTime": {
     "end_time": "2024-01-16T18:23:40.116072400Z",
     "start_time": "2024-01-16T18:23:39.812882Z"
    }
   }
  },
  {
   "cell_type": "code",
   "execution_count": 47,
   "outputs": [
    {
     "data": {
      "text/plain": "                   A         C\n2013-01-02 -0.589670  0.045809\n2013-01-03 -0.262378 -0.916483\n2013-01-05 -0.760924  0.400617",
      "text/html": "<div>\n<style scoped>\n    .dataframe tbody tr th:only-of-type {\n        vertical-align: middle;\n    }\n\n    .dataframe tbody tr th {\n        vertical-align: top;\n    }\n\n    .dataframe thead th {\n        text-align: right;\n    }\n</style>\n<table border=\"1\" class=\"dataframe\">\n  <thead>\n    <tr style=\"text-align: right;\">\n      <th></th>\n      <th>A</th>\n      <th>C</th>\n    </tr>\n  </thead>\n  <tbody>\n    <tr>\n      <th>2013-01-02</th>\n      <td>-0.589670</td>\n      <td>0.045809</td>\n    </tr>\n    <tr>\n      <th>2013-01-03</th>\n      <td>-0.262378</td>\n      <td>-0.916483</td>\n    </tr>\n    <tr>\n      <th>2013-01-05</th>\n      <td>-0.760924</td>\n      <td>0.400617</td>\n    </tr>\n  </tbody>\n</table>\n</div>"
     },
     "execution_count": 47,
     "metadata": {},
     "output_type": "execute_result"
    }
   ],
   "source": [
    "df.iloc[[1, 2, 4], [0, 2]]"
   ],
   "metadata": {
    "collapsed": false,
    "ExecuteTime": {
     "end_time": "2024-01-16T18:23:40.148984700Z",
     "start_time": "2024-01-16T18:23:39.829835700Z"
    }
   }
  },
  {
   "cell_type": "code",
   "execution_count": 48,
   "outputs": [
    {
     "data": {
      "text/plain": "                   A         B         C         D\n2013-01-02 -0.589670  0.291967  0.045809 -0.544865\n2013-01-03 -0.262378 -0.483177 -0.916483  1.322162",
      "text/html": "<div>\n<style scoped>\n    .dataframe tbody tr th:only-of-type {\n        vertical-align: middle;\n    }\n\n    .dataframe tbody tr th {\n        vertical-align: top;\n    }\n\n    .dataframe thead th {\n        text-align: right;\n    }\n</style>\n<table border=\"1\" class=\"dataframe\">\n  <thead>\n    <tr style=\"text-align: right;\">\n      <th></th>\n      <th>A</th>\n      <th>B</th>\n      <th>C</th>\n      <th>D</th>\n    </tr>\n  </thead>\n  <tbody>\n    <tr>\n      <th>2013-01-02</th>\n      <td>-0.589670</td>\n      <td>0.291967</td>\n      <td>0.045809</td>\n      <td>-0.544865</td>\n    </tr>\n    <tr>\n      <th>2013-01-03</th>\n      <td>-0.262378</td>\n      <td>-0.483177</td>\n      <td>-0.916483</td>\n      <td>1.322162</td>\n    </tr>\n  </tbody>\n</table>\n</div>"
     },
     "execution_count": 48,
     "metadata": {},
     "output_type": "execute_result"
    }
   ],
   "source": [
    "df.iloc[1:3, :]"
   ],
   "metadata": {
    "collapsed": false,
    "ExecuteTime": {
     "end_time": "2024-01-16T18:23:40.248718300Z",
     "start_time": "2024-01-16T18:23:39.859756800Z"
    }
   }
  },
  {
   "cell_type": "code",
   "execution_count": 49,
   "outputs": [
    {
     "data": {
      "text/plain": "                   B         C\n2013-01-01 -2.455024 -1.089298\n2013-01-02  0.291967  0.045809\n2013-01-03 -0.483177 -0.916483\n2013-01-04 -0.169044 -1.629154\n2013-01-05  1.700742  0.400617\n2013-01-06 -0.396226  0.506624",
      "text/html": "<div>\n<style scoped>\n    .dataframe tbody tr th:only-of-type {\n        vertical-align: middle;\n    }\n\n    .dataframe tbody tr th {\n        vertical-align: top;\n    }\n\n    .dataframe thead th {\n        text-align: right;\n    }\n</style>\n<table border=\"1\" class=\"dataframe\">\n  <thead>\n    <tr style=\"text-align: right;\">\n      <th></th>\n      <th>B</th>\n      <th>C</th>\n    </tr>\n  </thead>\n  <tbody>\n    <tr>\n      <th>2013-01-01</th>\n      <td>-2.455024</td>\n      <td>-1.089298</td>\n    </tr>\n    <tr>\n      <th>2013-01-02</th>\n      <td>0.291967</td>\n      <td>0.045809</td>\n    </tr>\n    <tr>\n      <th>2013-01-03</th>\n      <td>-0.483177</td>\n      <td>-0.916483</td>\n    </tr>\n    <tr>\n      <th>2013-01-04</th>\n      <td>-0.169044</td>\n      <td>-1.629154</td>\n    </tr>\n    <tr>\n      <th>2013-01-05</th>\n      <td>1.700742</td>\n      <td>0.400617</td>\n    </tr>\n    <tr>\n      <th>2013-01-06</th>\n      <td>-0.396226</td>\n      <td>0.506624</td>\n    </tr>\n  </tbody>\n</table>\n</div>"
     },
     "execution_count": 49,
     "metadata": {},
     "output_type": "execute_result"
    }
   ],
   "source": [
    "df.iloc[:, 1:3]"
   ],
   "metadata": {
    "collapsed": false,
    "ExecuteTime": {
     "end_time": "2024-01-16T18:23:40.266669600Z",
     "start_time": "2024-01-16T18:23:39.874716400Z"
    }
   }
  },
  {
   "cell_type": "code",
   "execution_count": 50,
   "outputs": [
    {
     "data": {
      "text/plain": "0.2919665919443131"
     },
     "execution_count": 50,
     "metadata": {},
     "output_type": "execute_result"
    }
   ],
   "source": [
    "df.iloc[1, 1]"
   ],
   "metadata": {
    "collapsed": false,
    "ExecuteTime": {
     "end_time": "2024-01-16T18:23:40.266669600Z",
     "start_time": "2024-01-16T18:23:39.909623500Z"
    }
   }
  },
  {
   "cell_type": "code",
   "execution_count": 51,
   "outputs": [
    {
     "data": {
      "text/plain": "0.2919665919443131"
     },
     "execution_count": 51,
     "metadata": {},
     "output_type": "execute_result"
    }
   ],
   "source": [
    "df.iat[1, 1]"
   ],
   "metadata": {
    "collapsed": false,
    "ExecuteTime": {
     "end_time": "2024-01-16T18:23:40.280633700Z",
     "start_time": "2024-01-16T18:23:39.923586Z"
    }
   }
  },
  {
   "cell_type": "code",
   "execution_count": 52,
   "outputs": [
    {
     "data": {
      "text/plain": "                  A         B         C         D\n2013-01-06  0.44569 -0.396226  0.506624 -0.918329",
      "text/html": "<div>\n<style scoped>\n    .dataframe tbody tr th:only-of-type {\n        vertical-align: middle;\n    }\n\n    .dataframe tbody tr th {\n        vertical-align: top;\n    }\n\n    .dataframe thead th {\n        text-align: right;\n    }\n</style>\n<table border=\"1\" class=\"dataframe\">\n  <thead>\n    <tr style=\"text-align: right;\">\n      <th></th>\n      <th>A</th>\n      <th>B</th>\n      <th>C</th>\n      <th>D</th>\n    </tr>\n  </thead>\n  <tbody>\n    <tr>\n      <th>2013-01-06</th>\n      <td>0.44569</td>\n      <td>-0.396226</td>\n      <td>0.506624</td>\n      <td>-0.918329</td>\n    </tr>\n  </tbody>\n</table>\n</div>"
     },
     "execution_count": 52,
     "metadata": {},
     "output_type": "execute_result"
    }
   ],
   "source": [
    "df[df[\"A\"] > 0]"
   ],
   "metadata": {
    "collapsed": false,
    "ExecuteTime": {
     "end_time": "2024-01-16T18:23:40.320526100Z",
     "start_time": "2024-01-16T18:23:39.954504Z"
    }
   }
  },
  {
   "cell_type": "code",
   "execution_count": 53,
   "outputs": [
    {
     "data": {
      "text/plain": "                  A         B         C         D\n2013-01-01      NaN       NaN       NaN  1.190323\n2013-01-02      NaN  0.291967  0.045809       NaN\n2013-01-03      NaN       NaN       NaN  1.322162\n2013-01-04      NaN       NaN       NaN       NaN\n2013-01-05      NaN  1.700742  0.400617       NaN\n2013-01-06  0.44569       NaN  0.506624       NaN",
      "text/html": "<div>\n<style scoped>\n    .dataframe tbody tr th:only-of-type {\n        vertical-align: middle;\n    }\n\n    .dataframe tbody tr th {\n        vertical-align: top;\n    }\n\n    .dataframe thead th {\n        text-align: right;\n    }\n</style>\n<table border=\"1\" class=\"dataframe\">\n  <thead>\n    <tr style=\"text-align: right;\">\n      <th></th>\n      <th>A</th>\n      <th>B</th>\n      <th>C</th>\n      <th>D</th>\n    </tr>\n  </thead>\n  <tbody>\n    <tr>\n      <th>2013-01-01</th>\n      <td>NaN</td>\n      <td>NaN</td>\n      <td>NaN</td>\n      <td>1.190323</td>\n    </tr>\n    <tr>\n      <th>2013-01-02</th>\n      <td>NaN</td>\n      <td>0.291967</td>\n      <td>0.045809</td>\n      <td>NaN</td>\n    </tr>\n    <tr>\n      <th>2013-01-03</th>\n      <td>NaN</td>\n      <td>NaN</td>\n      <td>NaN</td>\n      <td>1.322162</td>\n    </tr>\n    <tr>\n      <th>2013-01-04</th>\n      <td>NaN</td>\n      <td>NaN</td>\n      <td>NaN</td>\n      <td>NaN</td>\n    </tr>\n    <tr>\n      <th>2013-01-05</th>\n      <td>NaN</td>\n      <td>1.700742</td>\n      <td>0.400617</td>\n      <td>NaN</td>\n    </tr>\n    <tr>\n      <th>2013-01-06</th>\n      <td>0.44569</td>\n      <td>NaN</td>\n      <td>0.506624</td>\n      <td>NaN</td>\n    </tr>\n  </tbody>\n</table>\n</div>"
     },
     "execution_count": 53,
     "metadata": {},
     "output_type": "execute_result"
    }
   ],
   "source": [
    "df[df > 0]"
   ],
   "metadata": {
    "collapsed": false,
    "ExecuteTime": {
     "end_time": "2024-01-16T18:23:40.358020200Z",
     "start_time": "2024-01-16T18:23:39.986418100Z"
    }
   }
  },
  {
   "cell_type": "code",
   "execution_count": 54,
   "outputs": [],
   "source": [
    "df2 = df.copy()"
   ],
   "metadata": {
    "collapsed": false,
    "ExecuteTime": {
     "end_time": "2024-01-16T18:23:40.379624100Z",
     "start_time": "2024-01-16T18:23:40.018332800Z"
    }
   }
  },
  {
   "cell_type": "code",
   "execution_count": 55,
   "outputs": [],
   "source": [
    "df2[\"E\"] = [\"one\", \"one\", \"two\", \"three\", \"four\", \"three\"]"
   ],
   "metadata": {
    "collapsed": false,
    "ExecuteTime": {
     "end_time": "2024-01-16T18:23:40.407971600Z",
     "start_time": "2024-01-16T18:23:40.036285800Z"
    }
   }
  },
  {
   "cell_type": "code",
   "execution_count": 56,
   "outputs": [
    {
     "data": {
      "text/plain": "                   A         B         C         D      E\n2013-01-01 -0.614148 -2.455024 -1.089298  1.190323    one\n2013-01-02 -0.589670  0.291967  0.045809 -0.544865    one\n2013-01-03 -0.262378 -0.483177 -0.916483  1.322162    two\n2013-01-04 -0.048418 -0.169044 -1.629154 -0.097438  three\n2013-01-05 -0.760924  1.700742  0.400617 -2.232949   four\n2013-01-06  0.445690 -0.396226  0.506624 -0.918329  three",
      "text/html": "<div>\n<style scoped>\n    .dataframe tbody tr th:only-of-type {\n        vertical-align: middle;\n    }\n\n    .dataframe tbody tr th {\n        vertical-align: top;\n    }\n\n    .dataframe thead th {\n        text-align: right;\n    }\n</style>\n<table border=\"1\" class=\"dataframe\">\n  <thead>\n    <tr style=\"text-align: right;\">\n      <th></th>\n      <th>A</th>\n      <th>B</th>\n      <th>C</th>\n      <th>D</th>\n      <th>E</th>\n    </tr>\n  </thead>\n  <tbody>\n    <tr>\n      <th>2013-01-01</th>\n      <td>-0.614148</td>\n      <td>-2.455024</td>\n      <td>-1.089298</td>\n      <td>1.190323</td>\n      <td>one</td>\n    </tr>\n    <tr>\n      <th>2013-01-02</th>\n      <td>-0.589670</td>\n      <td>0.291967</td>\n      <td>0.045809</td>\n      <td>-0.544865</td>\n      <td>one</td>\n    </tr>\n    <tr>\n      <th>2013-01-03</th>\n      <td>-0.262378</td>\n      <td>-0.483177</td>\n      <td>-0.916483</td>\n      <td>1.322162</td>\n      <td>two</td>\n    </tr>\n    <tr>\n      <th>2013-01-04</th>\n      <td>-0.048418</td>\n      <td>-0.169044</td>\n      <td>-1.629154</td>\n      <td>-0.097438</td>\n      <td>three</td>\n    </tr>\n    <tr>\n      <th>2013-01-05</th>\n      <td>-0.760924</td>\n      <td>1.700742</td>\n      <td>0.400617</td>\n      <td>-2.232949</td>\n      <td>four</td>\n    </tr>\n    <tr>\n      <th>2013-01-06</th>\n      <td>0.445690</td>\n      <td>-0.396226</td>\n      <td>0.506624</td>\n      <td>-0.918329</td>\n      <td>three</td>\n    </tr>\n  </tbody>\n</table>\n</div>"
     },
     "execution_count": 56,
     "metadata": {},
     "output_type": "execute_result"
    }
   ],
   "source": [
    "df2"
   ],
   "metadata": {
    "collapsed": false,
    "ExecuteTime": {
     "end_time": "2024-01-16T18:23:40.448142700Z",
     "start_time": "2024-01-16T18:23:40.066206200Z"
    }
   }
  },
  {
   "cell_type": "code",
   "execution_count": 57,
   "outputs": [
    {
     "data": {
      "text/plain": "                   A         B         C         D     E\n2013-01-03 -0.262378 -0.483177 -0.916483  1.322162   two\n2013-01-05 -0.760924  1.700742  0.400617 -2.232949  four",
      "text/html": "<div>\n<style scoped>\n    .dataframe tbody tr th:only-of-type {\n        vertical-align: middle;\n    }\n\n    .dataframe tbody tr th {\n        vertical-align: top;\n    }\n\n    .dataframe thead th {\n        text-align: right;\n    }\n</style>\n<table border=\"1\" class=\"dataframe\">\n  <thead>\n    <tr style=\"text-align: right;\">\n      <th></th>\n      <th>A</th>\n      <th>B</th>\n      <th>C</th>\n      <th>D</th>\n      <th>E</th>\n    </tr>\n  </thead>\n  <tbody>\n    <tr>\n      <th>2013-01-03</th>\n      <td>-0.262378</td>\n      <td>-0.483177</td>\n      <td>-0.916483</td>\n      <td>1.322162</td>\n      <td>two</td>\n    </tr>\n    <tr>\n      <th>2013-01-05</th>\n      <td>-0.760924</td>\n      <td>1.700742</td>\n      <td>0.400617</td>\n      <td>-2.232949</td>\n      <td>four</td>\n    </tr>\n  </tbody>\n</table>\n</div>"
     },
     "execution_count": 57,
     "metadata": {},
     "output_type": "execute_result"
    }
   ],
   "source": [
    "df2[df2[\"E\"].isin([\"two\", \"four\"])]"
   ],
   "metadata": {
    "collapsed": false,
    "ExecuteTime": {
     "end_time": "2024-01-16T18:23:40.450137100Z",
     "start_time": "2024-01-16T18:23:40.097122600Z"
    }
   }
  },
  {
   "cell_type": "code",
   "execution_count": 58,
   "outputs": [
    {
     "data": {
      "text/plain": "2013-01-02    1\n2013-01-03    2\n2013-01-04    3\n2013-01-05    4\n2013-01-06    5\n2013-01-07    6\nFreq: D, dtype: int64"
     },
     "execution_count": 58,
     "metadata": {},
     "output_type": "execute_result"
    }
   ],
   "source": [
    "s1 = pd.Series([1, 2, 3, 4, 5, 6], index=pd.date_range(\"20130102\", periods=6))\n",
    "s1"
   ],
   "metadata": {
    "collapsed": false,
    "ExecuteTime": {
     "end_time": "2024-01-16T18:23:40.458115900Z",
     "start_time": "2024-01-16T18:23:40.129037600Z"
    }
   }
  },
  {
   "cell_type": "code",
   "execution_count": 59,
   "outputs": [],
   "source": [
    "df[\"F\"] = s1"
   ],
   "metadata": {
    "collapsed": false,
    "ExecuteTime": {
     "end_time": "2024-01-16T18:23:40.496875500Z",
     "start_time": "2024-01-16T18:23:40.160952400Z"
    }
   }
  },
  {
   "cell_type": "code",
   "execution_count": 60,
   "outputs": [],
   "source": [
    "df.at[dates[0], \"A\"] = 0"
   ],
   "metadata": {
    "collapsed": false,
    "ExecuteTime": {
     "end_time": "2024-01-16T18:23:40.497873300Z",
     "start_time": "2024-01-16T18:23:40.173918400Z"
    }
   }
  },
  {
   "cell_type": "code",
   "execution_count": 61,
   "outputs": [],
   "source": [
    "df.iat[0, 1] = 0"
   ],
   "metadata": {
    "collapsed": false,
    "ExecuteTime": {
     "end_time": "2024-01-16T18:23:40.557713400Z",
     "start_time": "2024-01-16T18:23:40.202840300Z"
    }
   }
  },
  {
   "cell_type": "code",
   "execution_count": 62,
   "outputs": [],
   "source": [
    "df.loc[:, \"D\"] = np.array([5] * len(df))"
   ],
   "metadata": {
    "collapsed": false,
    "ExecuteTime": {
     "end_time": "2024-01-16T18:23:40.557713400Z",
     "start_time": "2024-01-16T18:23:40.219797900Z"
    }
   }
  },
  {
   "cell_type": "code",
   "execution_count": 63,
   "outputs": [],
   "source": [
    "df2 = df.copy()"
   ],
   "metadata": {
    "collapsed": false,
    "ExecuteTime": {
     "end_time": "2024-01-16T18:23:40.561702600Z",
     "start_time": "2024-01-16T18:23:40.247721400Z"
    }
   }
  },
  {
   "cell_type": "code",
   "execution_count": 64,
   "outputs": [],
   "source": [
    "df2[df2 > 0] = -df2"
   ],
   "metadata": {
    "collapsed": false,
    "ExecuteTime": {
     "end_time": "2024-01-16T18:23:40.584641900Z",
     "start_time": "2024-01-16T18:23:40.263679100Z"
    }
   }
  },
  {
   "cell_type": "code",
   "execution_count": 65,
   "outputs": [
    {
     "data": {
      "text/plain": "                   A         B         C    D    F\n2013-01-01  0.000000  0.000000 -1.089298 -5.0  NaN\n2013-01-02 -0.589670 -0.291967 -0.045809 -5.0 -1.0\n2013-01-03 -0.262378 -0.483177 -0.916483 -5.0 -2.0\n2013-01-04 -0.048418 -0.169044 -1.629154 -5.0 -3.0\n2013-01-05 -0.760924 -1.700742 -0.400617 -5.0 -4.0\n2013-01-06 -0.445690 -0.396226 -0.506624 -5.0 -5.0",
      "text/html": "<div>\n<style scoped>\n    .dataframe tbody tr th:only-of-type {\n        vertical-align: middle;\n    }\n\n    .dataframe tbody tr th {\n        vertical-align: top;\n    }\n\n    .dataframe thead th {\n        text-align: right;\n    }\n</style>\n<table border=\"1\" class=\"dataframe\">\n  <thead>\n    <tr style=\"text-align: right;\">\n      <th></th>\n      <th>A</th>\n      <th>B</th>\n      <th>C</th>\n      <th>D</th>\n      <th>F</th>\n    </tr>\n  </thead>\n  <tbody>\n    <tr>\n      <th>2013-01-01</th>\n      <td>0.000000</td>\n      <td>0.000000</td>\n      <td>-1.089298</td>\n      <td>-5.0</td>\n      <td>NaN</td>\n    </tr>\n    <tr>\n      <th>2013-01-02</th>\n      <td>-0.589670</td>\n      <td>-0.291967</td>\n      <td>-0.045809</td>\n      <td>-5.0</td>\n      <td>-1.0</td>\n    </tr>\n    <tr>\n      <th>2013-01-03</th>\n      <td>-0.262378</td>\n      <td>-0.483177</td>\n      <td>-0.916483</td>\n      <td>-5.0</td>\n      <td>-2.0</td>\n    </tr>\n    <tr>\n      <th>2013-01-04</th>\n      <td>-0.048418</td>\n      <td>-0.169044</td>\n      <td>-1.629154</td>\n      <td>-5.0</td>\n      <td>-3.0</td>\n    </tr>\n    <tr>\n      <th>2013-01-05</th>\n      <td>-0.760924</td>\n      <td>-1.700742</td>\n      <td>-0.400617</td>\n      <td>-5.0</td>\n      <td>-4.0</td>\n    </tr>\n    <tr>\n      <th>2013-01-06</th>\n      <td>-0.445690</td>\n      <td>-0.396226</td>\n      <td>-0.506624</td>\n      <td>-5.0</td>\n      <td>-5.0</td>\n    </tr>\n  </tbody>\n</table>\n</div>"
     },
     "execution_count": 65,
     "metadata": {},
     "output_type": "execute_result"
    }
   ],
   "source": [
    "df2"
   ],
   "metadata": {
    "collapsed": false,
    "ExecuteTime": {
     "end_time": "2024-01-16T18:23:40.645478800Z",
     "start_time": "2024-01-16T18:23:40.279635500Z"
    }
   }
  }
 ],
 "metadata": {
  "kernelspec": {
   "display_name": "Python 3",
   "language": "python",
   "name": "python3"
  },
  "language_info": {
   "codemirror_mode": {
    "name": "ipython",
    "version": 2
   },
   "file_extension": ".py",
   "mimetype": "text/x-python",
   "name": "python",
   "nbconvert_exporter": "python",
   "pygments_lexer": "ipython2",
   "version": "2.7.6"
  }
 },
 "nbformat": 4,
 "nbformat_minor": 0
}
