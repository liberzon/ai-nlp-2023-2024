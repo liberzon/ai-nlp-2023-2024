{
 "cells": [
  {
   "cell_type": "markdown",
   "source": [
    "Basic imports..."
   ],
   "metadata": {
    "collapsed": false
   }
  },
  {
   "cell_type": "code",
   "execution_count": 2,
   "metadata": {
    "collapsed": true,
    "ExecuteTime": {
     "end_time": "2023-12-30T18:45:16.322880Z",
     "start_time": "2023-12-30T18:45:13.854133Z"
    }
   },
   "outputs": [],
   "source": [
    "import numpy as np\n",
    "import pandas as pd"
   ]
  },
  {
   "cell_type": "markdown",
   "source": [
    "Series declarations"
   ],
   "metadata": {
    "collapsed": false
   }
  },
  {
   "cell_type": "markdown",
   "source": [
    "s = pd.Series(data, index, name)"
   ],
   "metadata": {
    "collapsed": false
   }
  },
  {
   "cell_type": "code",
   "execution_count": 3,
   "outputs": [],
   "source": [
    "s = pd.Series(np.random.randn(5), index=[\"a\", \"b\", \"c\", \"d\", \"e\"])"
   ],
   "metadata": {
    "collapsed": false,
    "ExecuteTime": {
     "end_time": "2023-12-30T18:45:16.328718Z",
     "start_time": "2023-12-30T18:45:16.323645Z"
    }
   }
  },
  {
   "cell_type": "code",
   "execution_count": 4,
   "outputs": [
    {
     "data": {
      "text/plain": "a    1.267539\nb   -0.504709\nc    0.863128\nd    0.130259\ne   -0.192180\ndtype: float64"
     },
     "execution_count": 4,
     "metadata": {},
     "output_type": "execute_result"
    }
   ],
   "source": [
    "s"
   ],
   "metadata": {
    "collapsed": false,
    "ExecuteTime": {
     "end_time": "2023-12-30T18:45:16.335070Z",
     "start_time": "2023-12-30T18:45:16.331131Z"
    }
   }
  },
  {
   "cell_type": "code",
   "execution_count": 5,
   "outputs": [],
   "source": [
    "s = pd.Series(np.random.randn(5))"
   ],
   "metadata": {
    "collapsed": false,
    "ExecuteTime": {
     "end_time": "2023-12-30T18:45:16.337723Z",
     "start_time": "2023-12-30T18:45:16.336342Z"
    }
   }
  },
  {
   "cell_type": "code",
   "execution_count": 6,
   "outputs": [
    {
     "data": {
      "text/plain": "0   -1.466716\n1    0.206669\n2   -1.425795\n3   -0.590281\n4   -0.554272\ndtype: float64"
     },
     "execution_count": 6,
     "metadata": {},
     "output_type": "execute_result"
    }
   ],
   "source": [
    "s"
   ],
   "metadata": {
    "collapsed": false,
    "ExecuteTime": {
     "end_time": "2023-12-30T18:45:16.343553Z",
     "start_time": "2023-12-30T18:45:16.339621Z"
    }
   }
  },
  {
   "cell_type": "code",
   "execution_count": 7,
   "outputs": [],
   "source": [
    "d = {\"a\": 0.0, \"b\": 1.0, \"c\": 2.0}\n",
    "s = pd.Series(d)"
   ],
   "metadata": {
    "collapsed": false,
    "ExecuteTime": {
     "end_time": "2023-12-30T18:45:16.346134Z",
     "start_time": "2023-12-30T18:45:16.343676Z"
    }
   }
  },
  {
   "cell_type": "code",
   "execution_count": 8,
   "outputs": [
    {
     "data": {
      "text/plain": "a    0.0\nb    1.0\nc    2.0\ndtype: float64"
     },
     "execution_count": 8,
     "metadata": {},
     "output_type": "execute_result"
    }
   ],
   "source": [
    "s"
   ],
   "metadata": {
    "collapsed": false,
    "ExecuteTime": {
     "end_time": "2023-12-30T18:45:16.363402Z",
     "start_time": "2023-12-30T18:45:16.347106Z"
    }
   }
  },
  {
   "cell_type": "code",
   "execution_count": 9,
   "outputs": [],
   "source": [
    "s = pd.Series(d, index=[\"b\", \"c\", \"d\", \"a\"])"
   ],
   "metadata": {
    "collapsed": false,
    "ExecuteTime": {
     "end_time": "2023-12-30T18:45:16.363777Z",
     "start_time": "2023-12-30T18:45:16.351002Z"
    }
   }
  },
  {
   "cell_type": "code",
   "execution_count": 10,
   "outputs": [
    {
     "data": {
      "text/plain": "b    1.0\nc    2.0\nd    NaN\na    0.0\ndtype: float64"
     },
     "execution_count": 10,
     "metadata": {},
     "output_type": "execute_result"
    }
   ],
   "source": [
    "s"
   ],
   "metadata": {
    "collapsed": false,
    "ExecuteTime": {
     "end_time": "2023-12-30T18:45:16.364169Z",
     "start_time": "2023-12-30T18:45:16.354890Z"
    }
   }
  },
  {
   "cell_type": "code",
   "execution_count": 11,
   "outputs": [],
   "source": [
    "s = pd.Series(5.0, index=[\"a\", \"b\", \"c\", \"d\", \"e\"])"
   ],
   "metadata": {
    "collapsed": false,
    "ExecuteTime": {
     "end_time": "2023-12-30T18:45:16.364335Z",
     "start_time": "2023-12-30T18:45:16.360756Z"
    }
   }
  },
  {
   "cell_type": "code",
   "execution_count": 12,
   "outputs": [
    {
     "data": {
      "text/plain": "a    5.0\nb    5.0\nc    5.0\nd    5.0\ne    5.0\ndtype: float64"
     },
     "execution_count": 12,
     "metadata": {},
     "output_type": "execute_result"
    }
   ],
   "source": [
    "s"
   ],
   "metadata": {
    "collapsed": false,
    "ExecuteTime": {
     "end_time": "2023-12-30T18:45:16.376568Z",
     "start_time": "2023-12-30T18:45:16.362241Z"
    }
   }
  },
  {
   "cell_type": "code",
   "execution_count": 13,
   "outputs": [
    {
     "data": {
      "text/plain": "5.0"
     },
     "execution_count": 13,
     "metadata": {},
     "output_type": "execute_result"
    }
   ],
   "source": [
    "s[\"a\"]"
   ],
   "metadata": {
    "collapsed": false,
    "ExecuteTime": {
     "end_time": "2023-12-30T18:45:16.377917Z",
     "start_time": "2023-12-30T18:45:16.367675Z"
    }
   }
  },
  {
   "cell_type": "code",
   "execution_count": 14,
   "outputs": [],
   "source": [
    "s[\"e\"] = 12.0"
   ],
   "metadata": {
    "collapsed": false,
    "ExecuteTime": {
     "end_time": "2023-12-30T18:45:16.378016Z",
     "start_time": "2023-12-30T18:45:16.370429Z"
    }
   }
  },
  {
   "cell_type": "code",
   "execution_count": 15,
   "outputs": [
    {
     "data": {
      "text/plain": "a     5.0\nb     5.0\nc     5.0\nd     5.0\ne    12.0\ndtype: float64"
     },
     "execution_count": 15,
     "metadata": {},
     "output_type": "execute_result"
    }
   ],
   "source": [
    "s"
   ],
   "metadata": {
    "collapsed": false,
    "ExecuteTime": {
     "end_time": "2023-12-30T18:45:16.378145Z",
     "start_time": "2023-12-30T18:45:16.374394Z"
    }
   }
  },
  {
   "cell_type": "code",
   "execution_count": 16,
   "outputs": [
    {
     "data": {
      "text/plain": "True"
     },
     "execution_count": 16,
     "metadata": {},
     "output_type": "execute_result"
    }
   ],
   "source": [
    "\"e\" in s"
   ],
   "metadata": {
    "collapsed": false,
    "ExecuteTime": {
     "end_time": "2023-12-30T18:45:16.394765Z",
     "start_time": "2023-12-30T18:45:16.377454Z"
    }
   }
  },
  {
   "cell_type": "code",
   "execution_count": 17,
   "outputs": [
    {
     "data": {
      "text/plain": "False"
     },
     "execution_count": 17,
     "metadata": {},
     "output_type": "execute_result"
    }
   ],
   "source": [
    "\"f\" in s"
   ],
   "metadata": {
    "collapsed": false,
    "ExecuteTime": {
     "end_time": "2023-12-30T18:45:16.395085Z",
     "start_time": "2023-12-30T18:45:16.381009Z"
    }
   }
  },
  {
   "cell_type": "code",
   "execution_count": 18,
   "outputs": [],
   "source": [
    "s.get(\"f\")"
   ],
   "metadata": {
    "collapsed": false,
    "ExecuteTime": {
     "end_time": "2023-12-30T18:45:16.423558Z",
     "start_time": "2023-12-30T18:45:16.384889Z"
    }
   }
  },
  {
   "cell_type": "markdown",
   "source": [
    "DataFrame"
   ],
   "metadata": {
    "collapsed": false
   }
  },
  {
   "cell_type": "markdown",
   "source": [
    "df = pd.DataFrame(data, index, columns)"
   ],
   "metadata": {
    "collapsed": false
   }
  },
  {
   "cell_type": "code",
   "execution_count": 19,
   "outputs": [],
   "source": [
    "s = pd.Series([1, 3, 5, np.nan, 6, 8])"
   ],
   "metadata": {
    "collapsed": false,
    "ExecuteTime": {
     "end_time": "2023-12-30T18:45:16.423742Z",
     "start_time": "2023-12-30T18:45:16.387485Z"
    }
   }
  },
  {
   "cell_type": "code",
   "execution_count": 20,
   "outputs": [
    {
     "data": {
      "text/plain": "0    1.0\n1    3.0\n2    5.0\n3    NaN\n4    6.0\n5    8.0\ndtype: float64"
     },
     "execution_count": 20,
     "metadata": {},
     "output_type": "execute_result"
    }
   ],
   "source": [
    "s"
   ],
   "metadata": {
    "collapsed": false,
    "ExecuteTime": {
     "end_time": "2023-12-30T18:45:16.424968Z",
     "start_time": "2023-12-30T18:45:16.390816Z"
    }
   }
  },
  {
   "cell_type": "code",
   "execution_count": 21,
   "outputs": [
    {
     "data": {
      "text/plain": "DatetimeIndex(['2013-01-01', '2013-01-02', '2013-01-03', '2013-01-04',\n               '2013-01-05', '2013-01-06'],\n              dtype='datetime64[ns]', freq='D')"
     },
     "execution_count": 21,
     "metadata": {},
     "output_type": "execute_result"
    }
   ],
   "source": [
    "dates = pd.date_range(\"20130101\", periods=6)\n",
    "dates"
   ],
   "metadata": {
    "collapsed": false,
    "ExecuteTime": {
     "end_time": "2023-12-30T18:45:16.428092Z",
     "start_time": "2023-12-30T18:45:16.395907Z"
    }
   }
  },
  {
   "cell_type": "code",
   "execution_count": 22,
   "outputs": [
    {
     "data": {
      "text/plain": "                   A         B         C         D\n2013-01-01 -1.953205 -0.510823  0.838507  0.002086\n2013-01-02 -1.616136 -1.659433  0.843784  1.266653\n2013-01-03  1.168882  0.225536 -1.205854 -0.201028\n2013-01-04  0.012269  1.678246 -0.266144 -1.489654\n2013-01-05 -1.765653 -0.143808  1.435711 -1.411263\n2013-01-06  1.496368 -1.271911 -2.142138  0.958763",
      "text/html": "<div>\n<style scoped>\n    .dataframe tbody tr th:only-of-type {\n        vertical-align: middle;\n    }\n\n    .dataframe tbody tr th {\n        vertical-align: top;\n    }\n\n    .dataframe thead th {\n        text-align: right;\n    }\n</style>\n<table border=\"1\" class=\"dataframe\">\n  <thead>\n    <tr style=\"text-align: right;\">\n      <th></th>\n      <th>A</th>\n      <th>B</th>\n      <th>C</th>\n      <th>D</th>\n    </tr>\n  </thead>\n  <tbody>\n    <tr>\n      <th>2013-01-01</th>\n      <td>-1.953205</td>\n      <td>-0.510823</td>\n      <td>0.838507</td>\n      <td>0.002086</td>\n    </tr>\n    <tr>\n      <th>2013-01-02</th>\n      <td>-1.616136</td>\n      <td>-1.659433</td>\n      <td>0.843784</td>\n      <td>1.266653</td>\n    </tr>\n    <tr>\n      <th>2013-01-03</th>\n      <td>1.168882</td>\n      <td>0.225536</td>\n      <td>-1.205854</td>\n      <td>-0.201028</td>\n    </tr>\n    <tr>\n      <th>2013-01-04</th>\n      <td>0.012269</td>\n      <td>1.678246</td>\n      <td>-0.266144</td>\n      <td>-1.489654</td>\n    </tr>\n    <tr>\n      <th>2013-01-05</th>\n      <td>-1.765653</td>\n      <td>-0.143808</td>\n      <td>1.435711</td>\n      <td>-1.411263</td>\n    </tr>\n    <tr>\n      <th>2013-01-06</th>\n      <td>1.496368</td>\n      <td>-1.271911</td>\n      <td>-2.142138</td>\n      <td>0.958763</td>\n    </tr>\n  </tbody>\n</table>\n</div>"
     },
     "execution_count": 22,
     "metadata": {},
     "output_type": "execute_result"
    }
   ],
   "source": [
    "df = pd.DataFrame(np.random.randn(6, 4), index=dates, columns=list(\"ABCD\"))\n",
    "df"
   ],
   "metadata": {
    "collapsed": false,
    "ExecuteTime": {
     "end_time": "2023-12-30T18:45:16.436281Z",
     "start_time": "2023-12-30T18:45:16.400503Z"
    }
   }
  },
  {
   "cell_type": "code",
   "execution_count": 23,
   "outputs": [
    {
     "data": {
      "text/plain": "     A          B    C  D      E    F\n0  1.0 2013-01-02  1.0  3   test  foo\n1  1.0 2013-01-02  1.0  3  train  foo\n2  1.0 2013-01-02  1.0  3   test  foo\n3  1.0 2013-01-02  1.0  3  train  foo",
      "text/html": "<div>\n<style scoped>\n    .dataframe tbody tr th:only-of-type {\n        vertical-align: middle;\n    }\n\n    .dataframe tbody tr th {\n        vertical-align: top;\n    }\n\n    .dataframe thead th {\n        text-align: right;\n    }\n</style>\n<table border=\"1\" class=\"dataframe\">\n  <thead>\n    <tr style=\"text-align: right;\">\n      <th></th>\n      <th>A</th>\n      <th>B</th>\n      <th>C</th>\n      <th>D</th>\n      <th>E</th>\n      <th>F</th>\n    </tr>\n  </thead>\n  <tbody>\n    <tr>\n      <th>0</th>\n      <td>1.0</td>\n      <td>2013-01-02</td>\n      <td>1.0</td>\n      <td>3</td>\n      <td>test</td>\n      <td>foo</td>\n    </tr>\n    <tr>\n      <th>1</th>\n      <td>1.0</td>\n      <td>2013-01-02</td>\n      <td>1.0</td>\n      <td>3</td>\n      <td>train</td>\n      <td>foo</td>\n    </tr>\n    <tr>\n      <th>2</th>\n      <td>1.0</td>\n      <td>2013-01-02</td>\n      <td>1.0</td>\n      <td>3</td>\n      <td>test</td>\n      <td>foo</td>\n    </tr>\n    <tr>\n      <th>3</th>\n      <td>1.0</td>\n      <td>2013-01-02</td>\n      <td>1.0</td>\n      <td>3</td>\n      <td>train</td>\n      <td>foo</td>\n    </tr>\n  </tbody>\n</table>\n</div>"
     },
     "execution_count": 23,
     "metadata": {},
     "output_type": "execute_result"
    }
   ],
   "source": [
    "df2 = pd.DataFrame(\n",
    "    {\n",
    "        \"A\": 1.0,\n",
    "        \"B\": pd.Timestamp(\"20130102\"),\n",
    "        \"C\": pd.Series(1, index=list(range(4)), dtype=\"float32\"),\n",
    "        \"D\": np.array([3] * 4, dtype=\"int32\"),\n",
    "        \"E\": pd.Categorical([\"test\", \"train\", \"test\", \"train\"]),\n",
    "        \"F\": \"foo\",\n",
    "    }\n",
    ")\n",
    "df2"
   ],
   "metadata": {
    "collapsed": false,
    "ExecuteTime": {
     "end_time": "2023-12-30T18:45:16.437608Z",
     "start_time": "2023-12-30T18:45:16.408486Z"
    }
   }
  },
  {
   "cell_type": "code",
   "execution_count": 24,
   "outputs": [
    {
     "data": {
      "text/plain": "A          float64\nB    datetime64[s]\nC          float32\nD            int32\nE         category\nF           object\ndtype: object"
     },
     "execution_count": 24,
     "metadata": {},
     "output_type": "execute_result"
    }
   ],
   "source": [
    "df2.dtypes"
   ],
   "metadata": {
    "collapsed": false,
    "ExecuteTime": {
     "end_time": "2023-12-30T18:45:16.437993Z",
     "start_time": "2023-12-30T18:45:16.418740Z"
    }
   }
  },
  {
   "cell_type": "code",
   "execution_count": 25,
   "outputs": [
    {
     "data": {
      "text/plain": "     A          B    C  D      E    F\n0  1.0 2013-01-02  1.0  3   test  foo\n1  1.0 2013-01-02  1.0  3  train  foo\n2  1.0 2013-01-02  1.0  3   test  foo\n3  1.0 2013-01-02  1.0  3  train  foo",
      "text/html": "<div>\n<style scoped>\n    .dataframe tbody tr th:only-of-type {\n        vertical-align: middle;\n    }\n\n    .dataframe tbody tr th {\n        vertical-align: top;\n    }\n\n    .dataframe thead th {\n        text-align: right;\n    }\n</style>\n<table border=\"1\" class=\"dataframe\">\n  <thead>\n    <tr style=\"text-align: right;\">\n      <th></th>\n      <th>A</th>\n      <th>B</th>\n      <th>C</th>\n      <th>D</th>\n      <th>E</th>\n      <th>F</th>\n    </tr>\n  </thead>\n  <tbody>\n    <tr>\n      <th>0</th>\n      <td>1.0</td>\n      <td>2013-01-02</td>\n      <td>1.0</td>\n      <td>3</td>\n      <td>test</td>\n      <td>foo</td>\n    </tr>\n    <tr>\n      <th>1</th>\n      <td>1.0</td>\n      <td>2013-01-02</td>\n      <td>1.0</td>\n      <td>3</td>\n      <td>train</td>\n      <td>foo</td>\n    </tr>\n    <tr>\n      <th>2</th>\n      <td>1.0</td>\n      <td>2013-01-02</td>\n      <td>1.0</td>\n      <td>3</td>\n      <td>test</td>\n      <td>foo</td>\n    </tr>\n    <tr>\n      <th>3</th>\n      <td>1.0</td>\n      <td>2013-01-02</td>\n      <td>1.0</td>\n      <td>3</td>\n      <td>train</td>\n      <td>foo</td>\n    </tr>\n  </tbody>\n</table>\n</div>"
     },
     "execution_count": 25,
     "metadata": {},
     "output_type": "execute_result"
    }
   ],
   "source": [
    "df2"
   ],
   "metadata": {
    "collapsed": false,
    "ExecuteTime": {
     "end_time": "2023-12-30T18:45:16.447828Z",
     "start_time": "2023-12-30T18:45:16.424611Z"
    }
   }
  },
  {
   "cell_type": "code",
   "execution_count": 26,
   "outputs": [
    {
     "data": {
      "text/plain": "                   A         B         C         D\n2013-01-01 -1.953205 -0.510823  0.838507  0.002086\n2013-01-02 -1.616136 -1.659433  0.843784  1.266653\n2013-01-03  1.168882  0.225536 -1.205854 -0.201028\n2013-01-04  0.012269  1.678246 -0.266144 -1.489654\n2013-01-05 -1.765653 -0.143808  1.435711 -1.411263",
      "text/html": "<div>\n<style scoped>\n    .dataframe tbody tr th:only-of-type {\n        vertical-align: middle;\n    }\n\n    .dataframe tbody tr th {\n        vertical-align: top;\n    }\n\n    .dataframe thead th {\n        text-align: right;\n    }\n</style>\n<table border=\"1\" class=\"dataframe\">\n  <thead>\n    <tr style=\"text-align: right;\">\n      <th></th>\n      <th>A</th>\n      <th>B</th>\n      <th>C</th>\n      <th>D</th>\n    </tr>\n  </thead>\n  <tbody>\n    <tr>\n      <th>2013-01-01</th>\n      <td>-1.953205</td>\n      <td>-0.510823</td>\n      <td>0.838507</td>\n      <td>0.002086</td>\n    </tr>\n    <tr>\n      <th>2013-01-02</th>\n      <td>-1.616136</td>\n      <td>-1.659433</td>\n      <td>0.843784</td>\n      <td>1.266653</td>\n    </tr>\n    <tr>\n      <th>2013-01-03</th>\n      <td>1.168882</td>\n      <td>0.225536</td>\n      <td>-1.205854</td>\n      <td>-0.201028</td>\n    </tr>\n    <tr>\n      <th>2013-01-04</th>\n      <td>0.012269</td>\n      <td>1.678246</td>\n      <td>-0.266144</td>\n      <td>-1.489654</td>\n    </tr>\n    <tr>\n      <th>2013-01-05</th>\n      <td>-1.765653</td>\n      <td>-0.143808</td>\n      <td>1.435711</td>\n      <td>-1.411263</td>\n    </tr>\n  </tbody>\n</table>\n</div>"
     },
     "execution_count": 26,
     "metadata": {},
     "output_type": "execute_result"
    }
   ],
   "source": [
    "df.head()"
   ],
   "metadata": {
    "collapsed": false,
    "ExecuteTime": {
     "end_time": "2023-12-30T18:45:16.451719Z",
     "start_time": "2023-12-30T18:45:16.426378Z"
    }
   }
  },
  {
   "cell_type": "code",
   "execution_count": 27,
   "outputs": [
    {
     "data": {
      "text/plain": "                   A         B         C         D\n2013-01-04  0.012269  1.678246 -0.266144 -1.489654\n2013-01-05 -1.765653 -0.143808  1.435711 -1.411263\n2013-01-06  1.496368 -1.271911 -2.142138  0.958763",
      "text/html": "<div>\n<style scoped>\n    .dataframe tbody tr th:only-of-type {\n        vertical-align: middle;\n    }\n\n    .dataframe tbody tr th {\n        vertical-align: top;\n    }\n\n    .dataframe thead th {\n        text-align: right;\n    }\n</style>\n<table border=\"1\" class=\"dataframe\">\n  <thead>\n    <tr style=\"text-align: right;\">\n      <th></th>\n      <th>A</th>\n      <th>B</th>\n      <th>C</th>\n      <th>D</th>\n    </tr>\n  </thead>\n  <tbody>\n    <tr>\n      <th>2013-01-04</th>\n      <td>0.012269</td>\n      <td>1.678246</td>\n      <td>-0.266144</td>\n      <td>-1.489654</td>\n    </tr>\n    <tr>\n      <th>2013-01-05</th>\n      <td>-1.765653</td>\n      <td>-0.143808</td>\n      <td>1.435711</td>\n      <td>-1.411263</td>\n    </tr>\n    <tr>\n      <th>2013-01-06</th>\n      <td>1.496368</td>\n      <td>-1.271911</td>\n      <td>-2.142138</td>\n      <td>0.958763</td>\n    </tr>\n  </tbody>\n</table>\n</div>"
     },
     "execution_count": 27,
     "metadata": {},
     "output_type": "execute_result"
    }
   ],
   "source": [
    "df.tail(3)"
   ],
   "metadata": {
    "collapsed": false,
    "ExecuteTime": {
     "end_time": "2023-12-30T18:45:16.458757Z",
     "start_time": "2023-12-30T18:45:16.435462Z"
    }
   }
  },
  {
   "cell_type": "code",
   "execution_count": 28,
   "outputs": [
    {
     "data": {
      "text/plain": "DatetimeIndex(['2013-01-01', '2013-01-02', '2013-01-03', '2013-01-04',\n               '2013-01-05', '2013-01-06'],\n              dtype='datetime64[ns]', freq='D')"
     },
     "execution_count": 28,
     "metadata": {},
     "output_type": "execute_result"
    }
   ],
   "source": [
    "df.index"
   ],
   "metadata": {
    "collapsed": false,
    "ExecuteTime": {
     "end_time": "2023-12-30T18:45:16.462537Z",
     "start_time": "2023-12-30T18:45:16.439249Z"
    }
   }
  },
  {
   "cell_type": "code",
   "execution_count": 29,
   "outputs": [
    {
     "data": {
      "text/plain": "Index(['A', 'B', 'C', 'D'], dtype='object')"
     },
     "execution_count": 29,
     "metadata": {},
     "output_type": "execute_result"
    }
   ],
   "source": [
    "df.columns"
   ],
   "metadata": {
    "collapsed": false,
    "ExecuteTime": {
     "end_time": "2023-12-30T18:45:16.488795Z",
     "start_time": "2023-12-30T18:45:16.448553Z"
    }
   }
  },
  {
   "cell_type": "code",
   "execution_count": 30,
   "outputs": [
    {
     "data": {
      "text/plain": "array([[-1.95320539e+00, -5.10823486e-01,  8.38506582e-01,\n         2.08593142e-03],\n       [-1.61613641e+00, -1.65943325e+00,  8.43784045e-01,\n         1.26665344e+00],\n       [ 1.16888191e+00,  2.25535930e-01, -1.20585360e+00,\n        -2.01027674e-01],\n       [ 1.22692868e-02,  1.67824630e+00, -2.66144361e-01,\n        -1.48965380e+00],\n       [-1.76565324e+00, -1.43808034e-01,  1.43571132e+00,\n        -1.41126268e+00],\n       [ 1.49636806e+00, -1.27191067e+00, -2.14213750e+00,\n         9.58762829e-01]])"
     },
     "execution_count": 30,
     "metadata": {},
     "output_type": "execute_result"
    }
   ],
   "source": [
    "df.to_numpy()"
   ],
   "metadata": {
    "collapsed": false,
    "ExecuteTime": {
     "end_time": "2023-12-30T18:45:16.491140Z",
     "start_time": "2023-12-30T18:45:16.452135Z"
    }
   }
  },
  {
   "cell_type": "code",
   "execution_count": 31,
   "outputs": [
    {
     "data": {
      "text/plain": "array([[1.0, Timestamp('2013-01-02 00:00:00'), 1.0, 3, 'test', 'foo'],\n       [1.0, Timestamp('2013-01-02 00:00:00'), 1.0, 3, 'train', 'foo'],\n       [1.0, Timestamp('2013-01-02 00:00:00'), 1.0, 3, 'test', 'foo'],\n       [1.0, Timestamp('2013-01-02 00:00:00'), 1.0, 3, 'train', 'foo']],\n      dtype=object)"
     },
     "execution_count": 31,
     "metadata": {},
     "output_type": "execute_result"
    }
   ],
   "source": [
    "df2.to_numpy()"
   ],
   "metadata": {
    "collapsed": false,
    "ExecuteTime": {
     "end_time": "2023-12-30T18:45:16.723147Z",
     "start_time": "2023-12-30T18:45:16.454740Z"
    }
   }
  },
  {
   "cell_type": "code",
   "execution_count": 32,
   "outputs": [
    {
     "data": {
      "text/plain": "              A         B         C         D\ncount  6.000000  6.000000  6.000000  6.000000\nmean  -0.442913 -0.280366 -0.082689 -0.145740\nstd    1.547447  1.187337  1.381953  1.153026\nmin   -1.953205 -1.659433 -2.142138 -1.489654\n25%   -1.728274 -1.081639 -0.970926 -1.108704\n50%   -0.801934 -0.327316  0.286181 -0.099471\n75%    0.879729  0.133200  0.842465  0.719594\nmax    1.496368  1.678246  1.435711  1.266653",
      "text/html": "<div>\n<style scoped>\n    .dataframe tbody tr th:only-of-type {\n        vertical-align: middle;\n    }\n\n    .dataframe tbody tr th {\n        vertical-align: top;\n    }\n\n    .dataframe thead th {\n        text-align: right;\n    }\n</style>\n<table border=\"1\" class=\"dataframe\">\n  <thead>\n    <tr style=\"text-align: right;\">\n      <th></th>\n      <th>A</th>\n      <th>B</th>\n      <th>C</th>\n      <th>D</th>\n    </tr>\n  </thead>\n  <tbody>\n    <tr>\n      <th>count</th>\n      <td>6.000000</td>\n      <td>6.000000</td>\n      <td>6.000000</td>\n      <td>6.000000</td>\n    </tr>\n    <tr>\n      <th>mean</th>\n      <td>-0.442913</td>\n      <td>-0.280366</td>\n      <td>-0.082689</td>\n      <td>-0.145740</td>\n    </tr>\n    <tr>\n      <th>std</th>\n      <td>1.547447</td>\n      <td>1.187337</td>\n      <td>1.381953</td>\n      <td>1.153026</td>\n    </tr>\n    <tr>\n      <th>min</th>\n      <td>-1.953205</td>\n      <td>-1.659433</td>\n      <td>-2.142138</td>\n      <td>-1.489654</td>\n    </tr>\n    <tr>\n      <th>25%</th>\n      <td>-1.728274</td>\n      <td>-1.081639</td>\n      <td>-0.970926</td>\n      <td>-1.108704</td>\n    </tr>\n    <tr>\n      <th>50%</th>\n      <td>-0.801934</td>\n      <td>-0.327316</td>\n      <td>0.286181</td>\n      <td>-0.099471</td>\n    </tr>\n    <tr>\n      <th>75%</th>\n      <td>0.879729</td>\n      <td>0.133200</td>\n      <td>0.842465</td>\n      <td>0.719594</td>\n    </tr>\n    <tr>\n      <th>max</th>\n      <td>1.496368</td>\n      <td>1.678246</td>\n      <td>1.435711</td>\n      <td>1.266653</td>\n    </tr>\n  </tbody>\n</table>\n</div>"
     },
     "execution_count": 32,
     "metadata": {},
     "output_type": "execute_result"
    }
   ],
   "source": [
    "df.describe()"
   ],
   "metadata": {
    "collapsed": false,
    "ExecuteTime": {
     "end_time": "2023-12-30T18:45:16.748483Z",
     "start_time": "2023-12-30T18:45:16.557279Z"
    }
   }
  },
  {
   "cell_type": "code",
   "execution_count": 33,
   "outputs": [
    {
     "data": {
      "text/plain": "   2013-01-01  2013-01-02  2013-01-03  2013-01-04  2013-01-05  2013-01-06\nA   -1.953205   -1.616136    1.168882    0.012269   -1.765653    1.496368\nB   -0.510823   -1.659433    0.225536    1.678246   -0.143808   -1.271911\nC    0.838507    0.843784   -1.205854   -0.266144    1.435711   -2.142138\nD    0.002086    1.266653   -0.201028   -1.489654   -1.411263    0.958763",
      "text/html": "<div>\n<style scoped>\n    .dataframe tbody tr th:only-of-type {\n        vertical-align: middle;\n    }\n\n    .dataframe tbody tr th {\n        vertical-align: top;\n    }\n\n    .dataframe thead th {\n        text-align: right;\n    }\n</style>\n<table border=\"1\" class=\"dataframe\">\n  <thead>\n    <tr style=\"text-align: right;\">\n      <th></th>\n      <th>2013-01-01</th>\n      <th>2013-01-02</th>\n      <th>2013-01-03</th>\n      <th>2013-01-04</th>\n      <th>2013-01-05</th>\n      <th>2013-01-06</th>\n    </tr>\n  </thead>\n  <tbody>\n    <tr>\n      <th>A</th>\n      <td>-1.953205</td>\n      <td>-1.616136</td>\n      <td>1.168882</td>\n      <td>0.012269</td>\n      <td>-1.765653</td>\n      <td>1.496368</td>\n    </tr>\n    <tr>\n      <th>B</th>\n      <td>-0.510823</td>\n      <td>-1.659433</td>\n      <td>0.225536</td>\n      <td>1.678246</td>\n      <td>-0.143808</td>\n      <td>-1.271911</td>\n    </tr>\n    <tr>\n      <th>C</th>\n      <td>0.838507</td>\n      <td>0.843784</td>\n      <td>-1.205854</td>\n      <td>-0.266144</td>\n      <td>1.435711</td>\n      <td>-2.142138</td>\n    </tr>\n    <tr>\n      <th>D</th>\n      <td>0.002086</td>\n      <td>1.266653</td>\n      <td>-0.201028</td>\n      <td>-1.489654</td>\n      <td>-1.411263</td>\n      <td>0.958763</td>\n    </tr>\n  </tbody>\n</table>\n</div>"
     },
     "execution_count": 33,
     "metadata": {},
     "output_type": "execute_result"
    }
   ],
   "source": [
    "df.T"
   ],
   "metadata": {
    "collapsed": false,
    "ExecuteTime": {
     "end_time": "2023-12-30T18:45:16.786468Z",
     "start_time": "2023-12-30T18:45:16.566093Z"
    }
   }
  },
  {
   "cell_type": "code",
   "execution_count": 34,
   "outputs": [
    {
     "data": {
      "text/plain": "                   D         C         B         A\n2013-01-01  0.002086  0.838507 -0.510823 -1.953205\n2013-01-02  1.266653  0.843784 -1.659433 -1.616136\n2013-01-03 -0.201028 -1.205854  0.225536  1.168882\n2013-01-04 -1.489654 -0.266144  1.678246  0.012269\n2013-01-05 -1.411263  1.435711 -0.143808 -1.765653\n2013-01-06  0.958763 -2.142138 -1.271911  1.496368",
      "text/html": "<div>\n<style scoped>\n    .dataframe tbody tr th:only-of-type {\n        vertical-align: middle;\n    }\n\n    .dataframe tbody tr th {\n        vertical-align: top;\n    }\n\n    .dataframe thead th {\n        text-align: right;\n    }\n</style>\n<table border=\"1\" class=\"dataframe\">\n  <thead>\n    <tr style=\"text-align: right;\">\n      <th></th>\n      <th>D</th>\n      <th>C</th>\n      <th>B</th>\n      <th>A</th>\n    </tr>\n  </thead>\n  <tbody>\n    <tr>\n      <th>2013-01-01</th>\n      <td>0.002086</td>\n      <td>0.838507</td>\n      <td>-0.510823</td>\n      <td>-1.953205</td>\n    </tr>\n    <tr>\n      <th>2013-01-02</th>\n      <td>1.266653</td>\n      <td>0.843784</td>\n      <td>-1.659433</td>\n      <td>-1.616136</td>\n    </tr>\n    <tr>\n      <th>2013-01-03</th>\n      <td>-0.201028</td>\n      <td>-1.205854</td>\n      <td>0.225536</td>\n      <td>1.168882</td>\n    </tr>\n    <tr>\n      <th>2013-01-04</th>\n      <td>-1.489654</td>\n      <td>-0.266144</td>\n      <td>1.678246</td>\n      <td>0.012269</td>\n    </tr>\n    <tr>\n      <th>2013-01-05</th>\n      <td>-1.411263</td>\n      <td>1.435711</td>\n      <td>-0.143808</td>\n      <td>-1.765653</td>\n    </tr>\n    <tr>\n      <th>2013-01-06</th>\n      <td>0.958763</td>\n      <td>-2.142138</td>\n      <td>-1.271911</td>\n      <td>1.496368</td>\n    </tr>\n  </tbody>\n</table>\n</div>"
     },
     "execution_count": 34,
     "metadata": {},
     "output_type": "execute_result"
    }
   ],
   "source": [
    "df.sort_index(axis=1, ascending=False)"
   ],
   "metadata": {
    "collapsed": false,
    "ExecuteTime": {
     "end_time": "2023-12-30T18:45:16.790682Z",
     "start_time": "2023-12-30T18:45:16.572176Z"
    }
   }
  },
  {
   "cell_type": "code",
   "execution_count": 35,
   "outputs": [
    {
     "data": {
      "text/plain": "                   A         B         C         D\n2013-01-02 -1.616136 -1.659433  0.843784  1.266653\n2013-01-06  1.496368 -1.271911 -2.142138  0.958763\n2013-01-01 -1.953205 -0.510823  0.838507  0.002086\n2013-01-05 -1.765653 -0.143808  1.435711 -1.411263\n2013-01-03  1.168882  0.225536 -1.205854 -0.201028\n2013-01-04  0.012269  1.678246 -0.266144 -1.489654",
      "text/html": "<div>\n<style scoped>\n    .dataframe tbody tr th:only-of-type {\n        vertical-align: middle;\n    }\n\n    .dataframe tbody tr th {\n        vertical-align: top;\n    }\n\n    .dataframe thead th {\n        text-align: right;\n    }\n</style>\n<table border=\"1\" class=\"dataframe\">\n  <thead>\n    <tr style=\"text-align: right;\">\n      <th></th>\n      <th>A</th>\n      <th>B</th>\n      <th>C</th>\n      <th>D</th>\n    </tr>\n  </thead>\n  <tbody>\n    <tr>\n      <th>2013-01-02</th>\n      <td>-1.616136</td>\n      <td>-1.659433</td>\n      <td>0.843784</td>\n      <td>1.266653</td>\n    </tr>\n    <tr>\n      <th>2013-01-06</th>\n      <td>1.496368</td>\n      <td>-1.271911</td>\n      <td>-2.142138</td>\n      <td>0.958763</td>\n    </tr>\n    <tr>\n      <th>2013-01-01</th>\n      <td>-1.953205</td>\n      <td>-0.510823</td>\n      <td>0.838507</td>\n      <td>0.002086</td>\n    </tr>\n    <tr>\n      <th>2013-01-05</th>\n      <td>-1.765653</td>\n      <td>-0.143808</td>\n      <td>1.435711</td>\n      <td>-1.411263</td>\n    </tr>\n    <tr>\n      <th>2013-01-03</th>\n      <td>1.168882</td>\n      <td>0.225536</td>\n      <td>-1.205854</td>\n      <td>-0.201028</td>\n    </tr>\n    <tr>\n      <th>2013-01-04</th>\n      <td>0.012269</td>\n      <td>1.678246</td>\n      <td>-0.266144</td>\n      <td>-1.489654</td>\n    </tr>\n  </tbody>\n</table>\n</div>"
     },
     "execution_count": 35,
     "metadata": {},
     "output_type": "execute_result"
    }
   ],
   "source": [
    "df.sort_values(by=\"B\")"
   ],
   "metadata": {
    "collapsed": false,
    "ExecuteTime": {
     "end_time": "2023-12-30T18:45:16.805600Z",
     "start_time": "2023-12-30T18:45:16.578236Z"
    }
   }
  },
  {
   "cell_type": "code",
   "execution_count": 36,
   "outputs": [
    {
     "data": {
      "text/plain": "2013-01-01   -1.953205\n2013-01-02   -1.616136\n2013-01-03    1.168882\n2013-01-04    0.012269\n2013-01-05   -1.765653\n2013-01-06    1.496368\nFreq: D, Name: A, dtype: float64"
     },
     "execution_count": 36,
     "metadata": {},
     "output_type": "execute_result"
    }
   ],
   "source": [
    "df.A"
   ],
   "metadata": {
    "collapsed": false,
    "ExecuteTime": {
     "end_time": "2023-12-30T18:45:16.805904Z",
     "start_time": "2023-12-30T18:45:16.581997Z"
    }
   }
  },
  {
   "cell_type": "code",
   "execution_count": 37,
   "outputs": [
    {
     "data": {
      "text/plain": "2013-01-01   -1.953205\n2013-01-02   -1.616136\n2013-01-03    1.168882\n2013-01-04    0.012269\n2013-01-05   -1.765653\n2013-01-06    1.496368\nFreq: D, Name: A, dtype: float64"
     },
     "execution_count": 37,
     "metadata": {},
     "output_type": "execute_result"
    }
   ],
   "source": [
    "df[\"A\"]"
   ],
   "metadata": {
    "collapsed": false,
    "ExecuteTime": {
     "end_time": "2023-12-30T18:45:16.806057Z",
     "start_time": "2023-12-30T18:45:16.586182Z"
    }
   }
  },
  {
   "cell_type": "code",
   "execution_count": 38,
   "outputs": [
    {
     "data": {
      "text/plain": "                   A         B         C         D\n2013-01-01 -1.953205 -0.510823  0.838507  0.002086\n2013-01-02 -1.616136 -1.659433  0.843784  1.266653\n2013-01-03  1.168882  0.225536 -1.205854 -0.201028",
      "text/html": "<div>\n<style scoped>\n    .dataframe tbody tr th:only-of-type {\n        vertical-align: middle;\n    }\n\n    .dataframe tbody tr th {\n        vertical-align: top;\n    }\n\n    .dataframe thead th {\n        text-align: right;\n    }\n</style>\n<table border=\"1\" class=\"dataframe\">\n  <thead>\n    <tr style=\"text-align: right;\">\n      <th></th>\n      <th>A</th>\n      <th>B</th>\n      <th>C</th>\n      <th>D</th>\n    </tr>\n  </thead>\n  <tbody>\n    <tr>\n      <th>2013-01-01</th>\n      <td>-1.953205</td>\n      <td>-0.510823</td>\n      <td>0.838507</td>\n      <td>0.002086</td>\n    </tr>\n    <tr>\n      <th>2013-01-02</th>\n      <td>-1.616136</td>\n      <td>-1.659433</td>\n      <td>0.843784</td>\n      <td>1.266653</td>\n    </tr>\n    <tr>\n      <th>2013-01-03</th>\n      <td>1.168882</td>\n      <td>0.225536</td>\n      <td>-1.205854</td>\n      <td>-0.201028</td>\n    </tr>\n  </tbody>\n</table>\n</div>"
     },
     "execution_count": 38,
     "metadata": {},
     "output_type": "execute_result"
    }
   ],
   "source": [
    "df[0:3]"
   ],
   "metadata": {
    "collapsed": false,
    "ExecuteTime": {
     "end_time": "2023-12-30T18:45:16.806585Z",
     "start_time": "2023-12-30T18:45:16.591237Z"
    }
   }
  },
  {
   "cell_type": "code",
   "execution_count": 39,
   "outputs": [
    {
     "data": {
      "text/plain": "                   A         B         C         D\n2013-01-02 -1.616136 -1.659433  0.843784  1.266653\n2013-01-03  1.168882  0.225536 -1.205854 -0.201028\n2013-01-04  0.012269  1.678246 -0.266144 -1.489654",
      "text/html": "<div>\n<style scoped>\n    .dataframe tbody tr th:only-of-type {\n        vertical-align: middle;\n    }\n\n    .dataframe tbody tr th {\n        vertical-align: top;\n    }\n\n    .dataframe thead th {\n        text-align: right;\n    }\n</style>\n<table border=\"1\" class=\"dataframe\">\n  <thead>\n    <tr style=\"text-align: right;\">\n      <th></th>\n      <th>A</th>\n      <th>B</th>\n      <th>C</th>\n      <th>D</th>\n    </tr>\n  </thead>\n  <tbody>\n    <tr>\n      <th>2013-01-02</th>\n      <td>-1.616136</td>\n      <td>-1.659433</td>\n      <td>0.843784</td>\n      <td>1.266653</td>\n    </tr>\n    <tr>\n      <th>2013-01-03</th>\n      <td>1.168882</td>\n      <td>0.225536</td>\n      <td>-1.205854</td>\n      <td>-0.201028</td>\n    </tr>\n    <tr>\n      <th>2013-01-04</th>\n      <td>0.012269</td>\n      <td>1.678246</td>\n      <td>-0.266144</td>\n      <td>-1.489654</td>\n    </tr>\n  </tbody>\n</table>\n</div>"
     },
     "execution_count": 39,
     "metadata": {},
     "output_type": "execute_result"
    }
   ],
   "source": [
    "df[\"20130102\":\"20130104\"]"
   ],
   "metadata": {
    "collapsed": false,
    "ExecuteTime": {
     "end_time": "2023-12-30T18:45:16.816561Z",
     "start_time": "2023-12-30T18:45:16.597907Z"
    }
   }
  },
  {
   "cell_type": "code",
   "execution_count": 40,
   "outputs": [
    {
     "data": {
      "text/plain": "A   -1.953205\nB   -0.510823\nC    0.838507\nD    0.002086\nName: 2013-01-01 00:00:00, dtype: float64"
     },
     "execution_count": 40,
     "metadata": {},
     "output_type": "execute_result"
    }
   ],
   "source": [
    "df.loc[dates[0]]"
   ],
   "metadata": {
    "collapsed": false,
    "ExecuteTime": {
     "end_time": "2023-12-30T18:45:16.818945Z",
     "start_time": "2023-12-30T18:45:16.625708Z"
    }
   }
  },
  {
   "cell_type": "code",
   "execution_count": 41,
   "outputs": [
    {
     "data": {
      "text/plain": "                   A         B\n2013-01-01 -1.953205 -0.510823\n2013-01-02 -1.616136 -1.659433\n2013-01-03  1.168882  0.225536\n2013-01-04  0.012269  1.678246\n2013-01-05 -1.765653 -0.143808\n2013-01-06  1.496368 -1.271911",
      "text/html": "<div>\n<style scoped>\n    .dataframe tbody tr th:only-of-type {\n        vertical-align: middle;\n    }\n\n    .dataframe tbody tr th {\n        vertical-align: top;\n    }\n\n    .dataframe thead th {\n        text-align: right;\n    }\n</style>\n<table border=\"1\" class=\"dataframe\">\n  <thead>\n    <tr style=\"text-align: right;\">\n      <th></th>\n      <th>A</th>\n      <th>B</th>\n    </tr>\n  </thead>\n  <tbody>\n    <tr>\n      <th>2013-01-01</th>\n      <td>-1.953205</td>\n      <td>-0.510823</td>\n    </tr>\n    <tr>\n      <th>2013-01-02</th>\n      <td>-1.616136</td>\n      <td>-1.659433</td>\n    </tr>\n    <tr>\n      <th>2013-01-03</th>\n      <td>1.168882</td>\n      <td>0.225536</td>\n    </tr>\n    <tr>\n      <th>2013-01-04</th>\n      <td>0.012269</td>\n      <td>1.678246</td>\n    </tr>\n    <tr>\n      <th>2013-01-05</th>\n      <td>-1.765653</td>\n      <td>-0.143808</td>\n    </tr>\n    <tr>\n      <th>2013-01-06</th>\n      <td>1.496368</td>\n      <td>-1.271911</td>\n    </tr>\n  </tbody>\n</table>\n</div>"
     },
     "execution_count": 41,
     "metadata": {},
     "output_type": "execute_result"
    }
   ],
   "source": [
    "df.loc[:, [\"A\", \"B\"]]"
   ],
   "metadata": {
    "collapsed": false,
    "ExecuteTime": {
     "end_time": "2023-12-30T18:45:16.819672Z",
     "start_time": "2023-12-30T18:45:16.636144Z"
    }
   }
  },
  {
   "cell_type": "code",
   "execution_count": 42,
   "outputs": [
    {
     "data": {
      "text/plain": "                   A         B\n2013-01-02 -1.616136 -1.659433\n2013-01-03  1.168882  0.225536\n2013-01-04  0.012269  1.678246",
      "text/html": "<div>\n<style scoped>\n    .dataframe tbody tr th:only-of-type {\n        vertical-align: middle;\n    }\n\n    .dataframe tbody tr th {\n        vertical-align: top;\n    }\n\n    .dataframe thead th {\n        text-align: right;\n    }\n</style>\n<table border=\"1\" class=\"dataframe\">\n  <thead>\n    <tr style=\"text-align: right;\">\n      <th></th>\n      <th>A</th>\n      <th>B</th>\n    </tr>\n  </thead>\n  <tbody>\n    <tr>\n      <th>2013-01-02</th>\n      <td>-1.616136</td>\n      <td>-1.659433</td>\n    </tr>\n    <tr>\n      <th>2013-01-03</th>\n      <td>1.168882</td>\n      <td>0.225536</td>\n    </tr>\n    <tr>\n      <th>2013-01-04</th>\n      <td>0.012269</td>\n      <td>1.678246</td>\n    </tr>\n  </tbody>\n</table>\n</div>"
     },
     "execution_count": 42,
     "metadata": {},
     "output_type": "execute_result"
    }
   ],
   "source": [
    "df.loc[\"20130102\":\"20130104\", [\"A\", \"B\"]]"
   ],
   "metadata": {
    "collapsed": false,
    "ExecuteTime": {
     "end_time": "2023-12-30T18:45:16.819932Z",
     "start_time": "2023-12-30T18:45:16.641658Z"
    }
   }
  },
  {
   "cell_type": "code",
   "execution_count": 43,
   "outputs": [
    {
     "data": {
      "text/plain": "A   -1.616136\nB   -1.659433\nName: 2013-01-02 00:00:00, dtype: float64"
     },
     "execution_count": 43,
     "metadata": {},
     "output_type": "execute_result"
    }
   ],
   "source": [
    "df.loc[\"20130102\", [\"A\", \"B\"]]"
   ],
   "metadata": {
    "collapsed": false,
    "ExecuteTime": {
     "end_time": "2023-12-30T18:45:16.820137Z",
     "start_time": "2023-12-30T18:45:16.646427Z"
    }
   }
  },
  {
   "cell_type": "code",
   "execution_count": 44,
   "outputs": [
    {
     "data": {
      "text/plain": "-1.9532053920869081"
     },
     "execution_count": 44,
     "metadata": {},
     "output_type": "execute_result"
    }
   ],
   "source": [
    "df.loc[dates[0], \"A\"]"
   ],
   "metadata": {
    "collapsed": false,
    "ExecuteTime": {
     "end_time": "2023-12-30T18:45:16.820266Z",
     "start_time": "2023-12-30T18:45:16.652332Z"
    }
   }
  },
  {
   "cell_type": "code",
   "execution_count": 45,
   "outputs": [
    {
     "data": {
      "text/plain": "-1.9532053920869081"
     },
     "execution_count": 45,
     "metadata": {},
     "output_type": "execute_result"
    }
   ],
   "source": [
    "df.at[dates[0], \"A\"]"
   ],
   "metadata": {
    "collapsed": false,
    "ExecuteTime": {
     "end_time": "2023-12-30T18:45:16.820380Z",
     "start_time": "2023-12-30T18:45:16.656205Z"
    }
   }
  },
  {
   "cell_type": "code",
   "execution_count": 46,
   "outputs": [
    {
     "data": {
      "text/plain": "A    0.012269\nB    1.678246\nC   -0.266144\nD   -1.489654\nName: 2013-01-04 00:00:00, dtype: float64"
     },
     "execution_count": 46,
     "metadata": {},
     "output_type": "execute_result"
    }
   ],
   "source": [
    "df.iloc[3]"
   ],
   "metadata": {
    "collapsed": false,
    "ExecuteTime": {
     "end_time": "2023-12-30T18:45:16.820512Z",
     "start_time": "2023-12-30T18:45:16.660664Z"
    }
   }
  },
  {
   "cell_type": "code",
   "execution_count": 47,
   "outputs": [
    {
     "data": {
      "text/plain": "                   A         B\n2013-01-04  0.012269  1.678246\n2013-01-05 -1.765653 -0.143808",
      "text/html": "<div>\n<style scoped>\n    .dataframe tbody tr th:only-of-type {\n        vertical-align: middle;\n    }\n\n    .dataframe tbody tr th {\n        vertical-align: top;\n    }\n\n    .dataframe thead th {\n        text-align: right;\n    }\n</style>\n<table border=\"1\" class=\"dataframe\">\n  <thead>\n    <tr style=\"text-align: right;\">\n      <th></th>\n      <th>A</th>\n      <th>B</th>\n    </tr>\n  </thead>\n  <tbody>\n    <tr>\n      <th>2013-01-04</th>\n      <td>0.012269</td>\n      <td>1.678246</td>\n    </tr>\n    <tr>\n      <th>2013-01-05</th>\n      <td>-1.765653</td>\n      <td>-0.143808</td>\n    </tr>\n  </tbody>\n</table>\n</div>"
     },
     "execution_count": 47,
     "metadata": {},
     "output_type": "execute_result"
    }
   ],
   "source": [
    "df.iloc[3:5, 0:2]"
   ],
   "metadata": {
    "collapsed": false,
    "ExecuteTime": {
     "end_time": "2023-12-30T18:45:16.820691Z",
     "start_time": "2023-12-30T18:45:16.665496Z"
    }
   }
  },
  {
   "cell_type": "code",
   "execution_count": 48,
   "outputs": [
    {
     "data": {
      "text/plain": "                   A         C\n2013-01-02 -1.616136  0.843784\n2013-01-03  1.168882 -1.205854\n2013-01-05 -1.765653  1.435711",
      "text/html": "<div>\n<style scoped>\n    .dataframe tbody tr th:only-of-type {\n        vertical-align: middle;\n    }\n\n    .dataframe tbody tr th {\n        vertical-align: top;\n    }\n\n    .dataframe thead th {\n        text-align: right;\n    }\n</style>\n<table border=\"1\" class=\"dataframe\">\n  <thead>\n    <tr style=\"text-align: right;\">\n      <th></th>\n      <th>A</th>\n      <th>C</th>\n    </tr>\n  </thead>\n  <tbody>\n    <tr>\n      <th>2013-01-02</th>\n      <td>-1.616136</td>\n      <td>0.843784</td>\n    </tr>\n    <tr>\n      <th>2013-01-03</th>\n      <td>1.168882</td>\n      <td>-1.205854</td>\n    </tr>\n    <tr>\n      <th>2013-01-05</th>\n      <td>-1.765653</td>\n      <td>1.435711</td>\n    </tr>\n  </tbody>\n</table>\n</div>"
     },
     "execution_count": 48,
     "metadata": {},
     "output_type": "execute_result"
    }
   ],
   "source": [
    "df.iloc[[1, 2, 4], [0, 2]]"
   ],
   "metadata": {
    "collapsed": false,
    "ExecuteTime": {
     "end_time": "2023-12-30T18:45:16.820861Z",
     "start_time": "2023-12-30T18:45:16.671215Z"
    }
   }
  },
  {
   "cell_type": "code",
   "execution_count": 49,
   "outputs": [
    {
     "data": {
      "text/plain": "                   A         B         C         D\n2013-01-02 -1.616136 -1.659433  0.843784  1.266653\n2013-01-03  1.168882  0.225536 -1.205854 -0.201028",
      "text/html": "<div>\n<style scoped>\n    .dataframe tbody tr th:only-of-type {\n        vertical-align: middle;\n    }\n\n    .dataframe tbody tr th {\n        vertical-align: top;\n    }\n\n    .dataframe thead th {\n        text-align: right;\n    }\n</style>\n<table border=\"1\" class=\"dataframe\">\n  <thead>\n    <tr style=\"text-align: right;\">\n      <th></th>\n      <th>A</th>\n      <th>B</th>\n      <th>C</th>\n      <th>D</th>\n    </tr>\n  </thead>\n  <tbody>\n    <tr>\n      <th>2013-01-02</th>\n      <td>-1.616136</td>\n      <td>-1.659433</td>\n      <td>0.843784</td>\n      <td>1.266653</td>\n    </tr>\n    <tr>\n      <th>2013-01-03</th>\n      <td>1.168882</td>\n      <td>0.225536</td>\n      <td>-1.205854</td>\n      <td>-0.201028</td>\n    </tr>\n  </tbody>\n</table>\n</div>"
     },
     "execution_count": 49,
     "metadata": {},
     "output_type": "execute_result"
    }
   ],
   "source": [
    "df.iloc[1:3, :]"
   ],
   "metadata": {
    "collapsed": false,
    "ExecuteTime": {
     "end_time": "2023-12-30T18:45:16.821032Z",
     "start_time": "2023-12-30T18:45:16.676615Z"
    }
   }
  },
  {
   "cell_type": "code",
   "execution_count": 50,
   "outputs": [
    {
     "data": {
      "text/plain": "                   B         C\n2013-01-01 -0.510823  0.838507\n2013-01-02 -1.659433  0.843784\n2013-01-03  0.225536 -1.205854\n2013-01-04  1.678246 -0.266144\n2013-01-05 -0.143808  1.435711\n2013-01-06 -1.271911 -2.142138",
      "text/html": "<div>\n<style scoped>\n    .dataframe tbody tr th:only-of-type {\n        vertical-align: middle;\n    }\n\n    .dataframe tbody tr th {\n        vertical-align: top;\n    }\n\n    .dataframe thead th {\n        text-align: right;\n    }\n</style>\n<table border=\"1\" class=\"dataframe\">\n  <thead>\n    <tr style=\"text-align: right;\">\n      <th></th>\n      <th>B</th>\n      <th>C</th>\n    </tr>\n  </thead>\n  <tbody>\n    <tr>\n      <th>2013-01-01</th>\n      <td>-0.510823</td>\n      <td>0.838507</td>\n    </tr>\n    <tr>\n      <th>2013-01-02</th>\n      <td>-1.659433</td>\n      <td>0.843784</td>\n    </tr>\n    <tr>\n      <th>2013-01-03</th>\n      <td>0.225536</td>\n      <td>-1.205854</td>\n    </tr>\n    <tr>\n      <th>2013-01-04</th>\n      <td>1.678246</td>\n      <td>-0.266144</td>\n    </tr>\n    <tr>\n      <th>2013-01-05</th>\n      <td>-0.143808</td>\n      <td>1.435711</td>\n    </tr>\n    <tr>\n      <th>2013-01-06</th>\n      <td>-1.271911</td>\n      <td>-2.142138</td>\n    </tr>\n  </tbody>\n</table>\n</div>"
     },
     "execution_count": 50,
     "metadata": {},
     "output_type": "execute_result"
    }
   ],
   "source": [
    "df.iloc[:, 1:3]"
   ],
   "metadata": {
    "collapsed": false,
    "ExecuteTime": {
     "end_time": "2023-12-30T18:45:16.821214Z",
     "start_time": "2023-12-30T18:45:16.680718Z"
    }
   }
  },
  {
   "cell_type": "code",
   "execution_count": 51,
   "outputs": [
    {
     "data": {
      "text/plain": "-1.6594332515397887"
     },
     "execution_count": 51,
     "metadata": {},
     "output_type": "execute_result"
    }
   ],
   "source": [
    "df.iloc[1, 1]"
   ],
   "metadata": {
    "collapsed": false,
    "ExecuteTime": {
     "end_time": "2023-12-30T18:45:16.821698Z",
     "start_time": "2023-12-30T18:45:16.684992Z"
    }
   }
  },
  {
   "cell_type": "code",
   "execution_count": 52,
   "outputs": [
    {
     "data": {
      "text/plain": "-1.6594332515397887"
     },
     "execution_count": 52,
     "metadata": {},
     "output_type": "execute_result"
    }
   ],
   "source": [
    "df.iat[1, 1]"
   ],
   "metadata": {
    "collapsed": false,
    "ExecuteTime": {
     "end_time": "2023-12-30T18:45:16.821827Z",
     "start_time": "2023-12-30T18:45:16.689802Z"
    }
   }
  },
  {
   "cell_type": "code",
   "execution_count": 53,
   "outputs": [
    {
     "data": {
      "text/plain": "                   A         B         C         D\n2013-01-03  1.168882  0.225536 -1.205854 -0.201028\n2013-01-04  0.012269  1.678246 -0.266144 -1.489654\n2013-01-06  1.496368 -1.271911 -2.142138  0.958763",
      "text/html": "<div>\n<style scoped>\n    .dataframe tbody tr th:only-of-type {\n        vertical-align: middle;\n    }\n\n    .dataframe tbody tr th {\n        vertical-align: top;\n    }\n\n    .dataframe thead th {\n        text-align: right;\n    }\n</style>\n<table border=\"1\" class=\"dataframe\">\n  <thead>\n    <tr style=\"text-align: right;\">\n      <th></th>\n      <th>A</th>\n      <th>B</th>\n      <th>C</th>\n      <th>D</th>\n    </tr>\n  </thead>\n  <tbody>\n    <tr>\n      <th>2013-01-03</th>\n      <td>1.168882</td>\n      <td>0.225536</td>\n      <td>-1.205854</td>\n      <td>-0.201028</td>\n    </tr>\n    <tr>\n      <th>2013-01-04</th>\n      <td>0.012269</td>\n      <td>1.678246</td>\n      <td>-0.266144</td>\n      <td>-1.489654</td>\n    </tr>\n    <tr>\n      <th>2013-01-06</th>\n      <td>1.496368</td>\n      <td>-1.271911</td>\n      <td>-2.142138</td>\n      <td>0.958763</td>\n    </tr>\n  </tbody>\n</table>\n</div>"
     },
     "execution_count": 53,
     "metadata": {},
     "output_type": "execute_result"
    }
   ],
   "source": [
    "df[df[\"A\"] > 0]"
   ],
   "metadata": {
    "collapsed": false,
    "ExecuteTime": {
     "end_time": "2023-12-30T18:45:16.822018Z",
     "start_time": "2023-12-30T18:45:16.696620Z"
    }
   }
  },
  {
   "cell_type": "code",
   "execution_count": 54,
   "outputs": [
    {
     "data": {
      "text/plain": "                   A         B         C         D\n2013-01-01       NaN       NaN  0.838507  0.002086\n2013-01-02       NaN       NaN  0.843784  1.266653\n2013-01-03  1.168882  0.225536       NaN       NaN\n2013-01-04  0.012269  1.678246       NaN       NaN\n2013-01-05       NaN       NaN  1.435711       NaN\n2013-01-06  1.496368       NaN       NaN  0.958763",
      "text/html": "<div>\n<style scoped>\n    .dataframe tbody tr th:only-of-type {\n        vertical-align: middle;\n    }\n\n    .dataframe tbody tr th {\n        vertical-align: top;\n    }\n\n    .dataframe thead th {\n        text-align: right;\n    }\n</style>\n<table border=\"1\" class=\"dataframe\">\n  <thead>\n    <tr style=\"text-align: right;\">\n      <th></th>\n      <th>A</th>\n      <th>B</th>\n      <th>C</th>\n      <th>D</th>\n    </tr>\n  </thead>\n  <tbody>\n    <tr>\n      <th>2013-01-01</th>\n      <td>NaN</td>\n      <td>NaN</td>\n      <td>0.838507</td>\n      <td>0.002086</td>\n    </tr>\n    <tr>\n      <th>2013-01-02</th>\n      <td>NaN</td>\n      <td>NaN</td>\n      <td>0.843784</td>\n      <td>1.266653</td>\n    </tr>\n    <tr>\n      <th>2013-01-03</th>\n      <td>1.168882</td>\n      <td>0.225536</td>\n      <td>NaN</td>\n      <td>NaN</td>\n    </tr>\n    <tr>\n      <th>2013-01-04</th>\n      <td>0.012269</td>\n      <td>1.678246</td>\n      <td>NaN</td>\n      <td>NaN</td>\n    </tr>\n    <tr>\n      <th>2013-01-05</th>\n      <td>NaN</td>\n      <td>NaN</td>\n      <td>1.435711</td>\n      <td>NaN</td>\n    </tr>\n    <tr>\n      <th>2013-01-06</th>\n      <td>1.496368</td>\n      <td>NaN</td>\n      <td>NaN</td>\n      <td>0.958763</td>\n    </tr>\n  </tbody>\n</table>\n</div>"
     },
     "execution_count": 54,
     "metadata": {},
     "output_type": "execute_result"
    }
   ],
   "source": [
    "df[df > 0]"
   ],
   "metadata": {
    "collapsed": false,
    "ExecuteTime": {
     "end_time": "2023-12-30T18:45:16.822219Z",
     "start_time": "2023-12-30T18:45:16.702876Z"
    }
   }
  },
  {
   "cell_type": "code",
   "execution_count": 55,
   "outputs": [],
   "source": [
    "df2 = df.copy()"
   ],
   "metadata": {
    "collapsed": false,
    "ExecuteTime": {
     "end_time": "2023-12-30T18:45:16.822284Z",
     "start_time": "2023-12-30T18:45:16.706485Z"
    }
   }
  },
  {
   "cell_type": "code",
   "execution_count": 56,
   "outputs": [],
   "source": [
    "df2[\"E\"] = [\"one\", \"one\", \"two\", \"three\", \"four\", \"three\"]"
   ],
   "metadata": {
    "collapsed": false,
    "ExecuteTime": {
     "end_time": "2023-12-30T18:45:16.822339Z",
     "start_time": "2023-12-30T18:45:16.708805Z"
    }
   }
  },
  {
   "cell_type": "code",
   "execution_count": 57,
   "outputs": [
    {
     "data": {
      "text/plain": "                   A         B         C         D      E\n2013-01-01 -1.953205 -0.510823  0.838507  0.002086    one\n2013-01-02 -1.616136 -1.659433  0.843784  1.266653    one\n2013-01-03  1.168882  0.225536 -1.205854 -0.201028    two\n2013-01-04  0.012269  1.678246 -0.266144 -1.489654  three\n2013-01-05 -1.765653 -0.143808  1.435711 -1.411263   four\n2013-01-06  1.496368 -1.271911 -2.142138  0.958763  three",
      "text/html": "<div>\n<style scoped>\n    .dataframe tbody tr th:only-of-type {\n        vertical-align: middle;\n    }\n\n    .dataframe tbody tr th {\n        vertical-align: top;\n    }\n\n    .dataframe thead th {\n        text-align: right;\n    }\n</style>\n<table border=\"1\" class=\"dataframe\">\n  <thead>\n    <tr style=\"text-align: right;\">\n      <th></th>\n      <th>A</th>\n      <th>B</th>\n      <th>C</th>\n      <th>D</th>\n      <th>E</th>\n    </tr>\n  </thead>\n  <tbody>\n    <tr>\n      <th>2013-01-01</th>\n      <td>-1.953205</td>\n      <td>-0.510823</td>\n      <td>0.838507</td>\n      <td>0.002086</td>\n      <td>one</td>\n    </tr>\n    <tr>\n      <th>2013-01-02</th>\n      <td>-1.616136</td>\n      <td>-1.659433</td>\n      <td>0.843784</td>\n      <td>1.266653</td>\n      <td>one</td>\n    </tr>\n    <tr>\n      <th>2013-01-03</th>\n      <td>1.168882</td>\n      <td>0.225536</td>\n      <td>-1.205854</td>\n      <td>-0.201028</td>\n      <td>two</td>\n    </tr>\n    <tr>\n      <th>2013-01-04</th>\n      <td>0.012269</td>\n      <td>1.678246</td>\n      <td>-0.266144</td>\n      <td>-1.489654</td>\n      <td>three</td>\n    </tr>\n    <tr>\n      <th>2013-01-05</th>\n      <td>-1.765653</td>\n      <td>-0.143808</td>\n      <td>1.435711</td>\n      <td>-1.411263</td>\n      <td>four</td>\n    </tr>\n    <tr>\n      <th>2013-01-06</th>\n      <td>1.496368</td>\n      <td>-1.271911</td>\n      <td>-2.142138</td>\n      <td>0.958763</td>\n      <td>three</td>\n    </tr>\n  </tbody>\n</table>\n</div>"
     },
     "execution_count": 57,
     "metadata": {},
     "output_type": "execute_result"
    }
   ],
   "source": [
    "df2"
   ],
   "metadata": {
    "collapsed": false,
    "ExecuteTime": {
     "end_time": "2023-12-30T18:45:16.823933Z",
     "start_time": "2023-12-30T18:45:16.712194Z"
    }
   }
  },
  {
   "cell_type": "code",
   "execution_count": 58,
   "outputs": [
    {
     "data": {
      "text/plain": "                   A         B         C         D     E\n2013-01-03  1.168882  0.225536 -1.205854 -0.201028   two\n2013-01-05 -1.765653 -0.143808  1.435711 -1.411263  four",
      "text/html": "<div>\n<style scoped>\n    .dataframe tbody tr th:only-of-type {\n        vertical-align: middle;\n    }\n\n    .dataframe tbody tr th {\n        vertical-align: top;\n    }\n\n    .dataframe thead th {\n        text-align: right;\n    }\n</style>\n<table border=\"1\" class=\"dataframe\">\n  <thead>\n    <tr style=\"text-align: right;\">\n      <th></th>\n      <th>A</th>\n      <th>B</th>\n      <th>C</th>\n      <th>D</th>\n      <th>E</th>\n    </tr>\n  </thead>\n  <tbody>\n    <tr>\n      <th>2013-01-03</th>\n      <td>1.168882</td>\n      <td>0.225536</td>\n      <td>-1.205854</td>\n      <td>-0.201028</td>\n      <td>two</td>\n    </tr>\n    <tr>\n      <th>2013-01-05</th>\n      <td>-1.765653</td>\n      <td>-0.143808</td>\n      <td>1.435711</td>\n      <td>-1.411263</td>\n      <td>four</td>\n    </tr>\n  </tbody>\n</table>\n</div>"
     },
     "execution_count": 58,
     "metadata": {},
     "output_type": "execute_result"
    }
   ],
   "source": [
    "df2[df2[\"E\"].isin([\"two\", \"four\"])]"
   ],
   "metadata": {
    "collapsed": false,
    "ExecuteTime": {
     "end_time": "2023-12-30T18:45:16.839227Z",
     "start_time": "2023-12-30T18:45:16.722428Z"
    }
   }
  },
  {
   "cell_type": "code",
   "execution_count": 59,
   "outputs": [
    {
     "data": {
      "text/plain": "2013-01-02    1\n2013-01-03    2\n2013-01-04    3\n2013-01-05    4\n2013-01-06    5\n2013-01-07    6\nFreq: D, dtype: int64"
     },
     "execution_count": 59,
     "metadata": {},
     "output_type": "execute_result"
    }
   ],
   "source": [
    "s1 = pd.Series([1, 2, 3, 4, 5, 6], index=pd.date_range(\"20130102\", periods=6))\n",
    "s1"
   ],
   "metadata": {
    "collapsed": false,
    "ExecuteTime": {
     "end_time": "2023-12-30T18:45:16.892410Z",
     "start_time": "2023-12-30T18:45:16.727945Z"
    }
   }
  },
  {
   "cell_type": "code",
   "execution_count": 60,
   "outputs": [],
   "source": [
    "df[\"F\"] = s1"
   ],
   "metadata": {
    "collapsed": false,
    "ExecuteTime": {
     "end_time": "2023-12-30T18:45:16.892586Z",
     "start_time": "2023-12-30T18:45:16.737158Z"
    }
   }
  },
  {
   "cell_type": "code",
   "execution_count": 61,
   "outputs": [],
   "source": [
    "df.at[dates[0], \"A\"] = 0"
   ],
   "metadata": {
    "collapsed": false,
    "ExecuteTime": {
     "end_time": "2023-12-30T18:45:16.892647Z",
     "start_time": "2023-12-30T18:45:16.742922Z"
    }
   }
  },
  {
   "cell_type": "code",
   "execution_count": 62,
   "outputs": [],
   "source": [
    "df.iat[0, 1] = 0"
   ],
   "metadata": {
    "collapsed": false,
    "ExecuteTime": {
     "end_time": "2023-12-30T18:45:16.894696Z",
     "start_time": "2023-12-30T18:45:16.749168Z"
    }
   }
  },
  {
   "cell_type": "code",
   "execution_count": 63,
   "outputs": [],
   "source": [
    "df.loc[:, \"D\"] = np.array([5] * len(df))"
   ],
   "metadata": {
    "collapsed": false,
    "ExecuteTime": {
     "end_time": "2023-12-30T18:45:16.894792Z",
     "start_time": "2023-12-30T18:45:16.753645Z"
    }
   }
  },
  {
   "cell_type": "code",
   "execution_count": 64,
   "outputs": [],
   "source": [
    "df2 = df.copy()"
   ],
   "metadata": {
    "collapsed": false,
    "ExecuteTime": {
     "end_time": "2023-12-30T18:45:16.894842Z",
     "start_time": "2023-12-30T18:45:16.761808Z"
    }
   }
  },
  {
   "cell_type": "code",
   "execution_count": 65,
   "outputs": [],
   "source": [
    "df2[df2 > 0] = -df2"
   ],
   "metadata": {
    "collapsed": false,
    "ExecuteTime": {
     "end_time": "2023-12-30T18:45:16.894995Z",
     "start_time": "2023-12-30T18:45:16.767583Z"
    }
   }
  },
  {
   "cell_type": "code",
   "execution_count": 66,
   "outputs": [
    {
     "data": {
      "text/plain": "                   A         B         C    D    F\n2013-01-01  0.000000  0.000000 -0.838507 -5.0  NaN\n2013-01-02 -1.616136 -1.659433 -0.843784 -5.0 -1.0\n2013-01-03 -1.168882 -0.225536 -1.205854 -5.0 -2.0\n2013-01-04 -0.012269 -1.678246 -0.266144 -5.0 -3.0\n2013-01-05 -1.765653 -0.143808 -1.435711 -5.0 -4.0\n2013-01-06 -1.496368 -1.271911 -2.142138 -5.0 -5.0",
      "text/html": "<div>\n<style scoped>\n    .dataframe tbody tr th:only-of-type {\n        vertical-align: middle;\n    }\n\n    .dataframe tbody tr th {\n        vertical-align: top;\n    }\n\n    .dataframe thead th {\n        text-align: right;\n    }\n</style>\n<table border=\"1\" class=\"dataframe\">\n  <thead>\n    <tr style=\"text-align: right;\">\n      <th></th>\n      <th>A</th>\n      <th>B</th>\n      <th>C</th>\n      <th>D</th>\n      <th>F</th>\n    </tr>\n  </thead>\n  <tbody>\n    <tr>\n      <th>2013-01-01</th>\n      <td>0.000000</td>\n      <td>0.000000</td>\n      <td>-0.838507</td>\n      <td>-5.0</td>\n      <td>NaN</td>\n    </tr>\n    <tr>\n      <th>2013-01-02</th>\n      <td>-1.616136</td>\n      <td>-1.659433</td>\n      <td>-0.843784</td>\n      <td>-5.0</td>\n      <td>-1.0</td>\n    </tr>\n    <tr>\n      <th>2013-01-03</th>\n      <td>-1.168882</td>\n      <td>-0.225536</td>\n      <td>-1.205854</td>\n      <td>-5.0</td>\n      <td>-2.0</td>\n    </tr>\n    <tr>\n      <th>2013-01-04</th>\n      <td>-0.012269</td>\n      <td>-1.678246</td>\n      <td>-0.266144</td>\n      <td>-5.0</td>\n      <td>-3.0</td>\n    </tr>\n    <tr>\n      <th>2013-01-05</th>\n      <td>-1.765653</td>\n      <td>-0.143808</td>\n      <td>-1.435711</td>\n      <td>-5.0</td>\n      <td>-4.0</td>\n    </tr>\n    <tr>\n      <th>2013-01-06</th>\n      <td>-1.496368</td>\n      <td>-1.271911</td>\n      <td>-2.142138</td>\n      <td>-5.0</td>\n      <td>-5.0</td>\n    </tr>\n  </tbody>\n</table>\n</div>"
     },
     "execution_count": 66,
     "metadata": {},
     "output_type": "execute_result"
    }
   ],
   "source": [
    "df2"
   ],
   "metadata": {
    "collapsed": false,
    "ExecuteTime": {
     "end_time": "2023-12-30T18:45:16.895510Z",
     "start_time": "2023-12-30T18:45:16.778304Z"
    }
   }
  }
 ],
 "metadata": {
  "kernelspec": {
   "display_name": "Python 3",
   "language": "python",
   "name": "python3"
  },
  "language_info": {
   "codemirror_mode": {
    "name": "ipython",
    "version": 2
   },
   "file_extension": ".py",
   "mimetype": "text/x-python",
   "name": "python",
   "nbconvert_exporter": "python",
   "pygments_lexer": "ipython2",
   "version": "2.7.6"
  }
 },
 "nbformat": 4,
 "nbformat_minor": 0
}
