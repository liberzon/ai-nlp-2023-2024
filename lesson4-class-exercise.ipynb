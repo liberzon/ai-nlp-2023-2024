{
 "cells": [
  {
   "cell_type": "code",
   "execution_count": 29,
   "id": "initial_id",
   "metadata": {
    "collapsed": true,
    "ExecuteTime": {
     "end_time": "2024-01-16T15:26:00.571338Z",
     "start_time": "2024-01-16T15:26:00.359966Z"
    }
   },
   "outputs": [],
   "source": [
    "import pandas as pd\n",
    "\n",
    "# Load the dataset\n",
    "file_path = 'super-heroes-dataset/superheroes_nlp_dataset.csv'\n",
    "df = pd.read_csv(file_path)"
   ]
  },
  {
   "cell_type": "code",
   "outputs": [
    {
     "data": {
      "text/plain": "               name               real_name               full_name  \\\n0           3-D Man     Delroy Garrett, Jr.     Delroy Garrett, Jr.   \n1     514A (Gotham)             Bruce Wayne                     NaN   \n2            A-Bomb  Richard Milhouse Jones  Richard Milhouse Jones   \n3                Aa                      Aa                     NaN   \n4        Aaron Cash              Aaron Cash              Aaron Cash   \n...             ...                     ...                     ...   \n1445        Zatanna          Zatanna Zatara          Zatanna Zatara   \n1446           Zero             DWN-∞: Zero             DWN-∞: Zero   \n1447  Zoom (New 52)          Hunter Zolomon                     NaN   \n1448           Zoom          Hunter Zolomon          Hunter Zolomon   \n1449          Zzzax                     NaN                     NaN   \n\n     overall_score                                       history_text  \\\n0                6  Delroy Garrett, Jr. grew up to become a track ...   \n1               10  He was one of the many prisoners of Indian Hil...   \n2               20   Richard \"Rick\" Jones was orphaned at a young ...   \n3               12  Aa is one of the more passive members of the P...   \n4                5  Aaron Cash is the head of security at Arkham A...   \n...            ...                                                ...   \n1445            10  Zatanna is the daughter of adventurer John Zat...   \n1446            18   Zero was created by the late Dr. Albert Wily ...   \n1447            20  Hunter Zolomon is better known as Zoom, a spee...   \n1448             9   Hunter Zolomon had a troubled relationship wi...   \n1449             5  Zzzax was the product of an accident that occu...   \n\n                                            powers_text  intelligence_score  \\\n0                                                   NaN                  85   \n1                                                   NaN                 100   \n2       On rare occasions, and through unusual circu...                  80   \n3                                                   NaN                  80   \n4                                                   NaN                  80   \n...                                                 ...                 ...   \n1445   Zatanna is genetically talented with her magi...                  90   \n1446                                                NaN                  80   \n1447  After tricking Barry Allen and Wally West into...                  95   \n1448  Zoom is able to alter time, to make himself ev...                  75   \n1449                                                NaN                  45   \n\n      strength_score  speed_score  durability_score  ...  has_flight  \\\n0                 30           60                60  ...         0.0   \n1                 20           30                50  ...         0.0   \n2                100           80               100  ...         0.0   \n3                 50           55                45  ...         0.0   \n4                 10           25                40  ...         0.0   \n...              ...          ...               ...  ...         ...   \n1445              10           25                30  ...         0.0   \n1446             100          100               100  ...         0.0   \n1447              50          100                75  ...         0.0   \n1448              10          100                30  ...         0.0   \n1449              80           75                95  ...         1.0   \n\n      has_accelerated_healing has_weapons_master has_intelligence  \\\n0                         0.0                0.0              0.0   \n1                         0.0                0.0              0.0   \n2                         1.0                0.0              0.0   \n3                         0.0                0.0              0.0   \n4                         0.0                1.0              0.0   \n...                       ...                ...              ...   \n1445                      0.0                0.0              0.0   \n1446                      1.0                1.0              1.0   \n1447                      1.0                0.0              1.0   \n1448                      0.0                0.0              0.0   \n1449                      0.0                0.0              0.0   \n\n     has_reflexes has_super_speed has_durability has_stamina has_agility  \\\n0             0.0             1.0            0.0         0.0         0.0   \n1             1.0             0.0            1.0         0.0         0.0   \n2             1.0             1.0            1.0         1.0         1.0   \n3             0.0             0.0            0.0         0.0         0.0   \n4             0.0             0.0            0.0         0.0         0.0   \n...           ...             ...            ...         ...         ...   \n1445          0.0             0.0            0.0         0.0         0.0   \n1446          1.0             1.0            1.0         1.0         1.0   \n1447          1.0             1.0            1.0         1.0         1.0   \n1448          0.0             1.0            0.0         0.0         0.0   \n1449          0.0             1.0            0.0         0.0         1.0   \n\n     has_super_strength  \n0                   1.0  \n1                   1.0  \n2                   1.0  \n3                   0.0  \n4                   0.0  \n...                 ...  \n1445                0.0  \n1446                1.0  \n1447                1.0  \n1448                0.0  \n1449                1.0  \n\n[1450 rows x 81 columns]",
      "text/html": "<div>\n<style scoped>\n    .dataframe tbody tr th:only-of-type {\n        vertical-align: middle;\n    }\n\n    .dataframe tbody tr th {\n        vertical-align: top;\n    }\n\n    .dataframe thead th {\n        text-align: right;\n    }\n</style>\n<table border=\"1\" class=\"dataframe\">\n  <thead>\n    <tr style=\"text-align: right;\">\n      <th></th>\n      <th>name</th>\n      <th>real_name</th>\n      <th>full_name</th>\n      <th>overall_score</th>\n      <th>history_text</th>\n      <th>powers_text</th>\n      <th>intelligence_score</th>\n      <th>strength_score</th>\n      <th>speed_score</th>\n      <th>durability_score</th>\n      <th>...</th>\n      <th>has_flight</th>\n      <th>has_accelerated_healing</th>\n      <th>has_weapons_master</th>\n      <th>has_intelligence</th>\n      <th>has_reflexes</th>\n      <th>has_super_speed</th>\n      <th>has_durability</th>\n      <th>has_stamina</th>\n      <th>has_agility</th>\n      <th>has_super_strength</th>\n    </tr>\n  </thead>\n  <tbody>\n    <tr>\n      <th>0</th>\n      <td>3-D Man</td>\n      <td>Delroy Garrett, Jr.</td>\n      <td>Delroy Garrett, Jr.</td>\n      <td>6</td>\n      <td>Delroy Garrett, Jr. grew up to become a track ...</td>\n      <td>NaN</td>\n      <td>85</td>\n      <td>30</td>\n      <td>60</td>\n      <td>60</td>\n      <td>...</td>\n      <td>0.0</td>\n      <td>0.0</td>\n      <td>0.0</td>\n      <td>0.0</td>\n      <td>0.0</td>\n      <td>1.0</td>\n      <td>0.0</td>\n      <td>0.0</td>\n      <td>0.0</td>\n      <td>1.0</td>\n    </tr>\n    <tr>\n      <th>1</th>\n      <td>514A (Gotham)</td>\n      <td>Bruce Wayne</td>\n      <td>NaN</td>\n      <td>10</td>\n      <td>He was one of the many prisoners of Indian Hil...</td>\n      <td>NaN</td>\n      <td>100</td>\n      <td>20</td>\n      <td>30</td>\n      <td>50</td>\n      <td>...</td>\n      <td>0.0</td>\n      <td>0.0</td>\n      <td>0.0</td>\n      <td>0.0</td>\n      <td>1.0</td>\n      <td>0.0</td>\n      <td>1.0</td>\n      <td>0.0</td>\n      <td>0.0</td>\n      <td>1.0</td>\n    </tr>\n    <tr>\n      <th>2</th>\n      <td>A-Bomb</td>\n      <td>Richard Milhouse Jones</td>\n      <td>Richard Milhouse Jones</td>\n      <td>20</td>\n      <td>Richard \"Rick\" Jones was orphaned at a young ...</td>\n      <td>On rare occasions, and through unusual circu...</td>\n      <td>80</td>\n      <td>100</td>\n      <td>80</td>\n      <td>100</td>\n      <td>...</td>\n      <td>0.0</td>\n      <td>1.0</td>\n      <td>0.0</td>\n      <td>0.0</td>\n      <td>1.0</td>\n      <td>1.0</td>\n      <td>1.0</td>\n      <td>1.0</td>\n      <td>1.0</td>\n      <td>1.0</td>\n    </tr>\n    <tr>\n      <th>3</th>\n      <td>Aa</td>\n      <td>Aa</td>\n      <td>NaN</td>\n      <td>12</td>\n      <td>Aa is one of the more passive members of the P...</td>\n      <td>NaN</td>\n      <td>80</td>\n      <td>50</td>\n      <td>55</td>\n      <td>45</td>\n      <td>...</td>\n      <td>0.0</td>\n      <td>0.0</td>\n      <td>0.0</td>\n      <td>0.0</td>\n      <td>0.0</td>\n      <td>0.0</td>\n      <td>0.0</td>\n      <td>0.0</td>\n      <td>0.0</td>\n      <td>0.0</td>\n    </tr>\n    <tr>\n      <th>4</th>\n      <td>Aaron Cash</td>\n      <td>Aaron Cash</td>\n      <td>Aaron Cash</td>\n      <td>5</td>\n      <td>Aaron Cash is the head of security at Arkham A...</td>\n      <td>NaN</td>\n      <td>80</td>\n      <td>10</td>\n      <td>25</td>\n      <td>40</td>\n      <td>...</td>\n      <td>0.0</td>\n      <td>0.0</td>\n      <td>1.0</td>\n      <td>0.0</td>\n      <td>0.0</td>\n      <td>0.0</td>\n      <td>0.0</td>\n      <td>0.0</td>\n      <td>0.0</td>\n      <td>0.0</td>\n    </tr>\n    <tr>\n      <th>...</th>\n      <td>...</td>\n      <td>...</td>\n      <td>...</td>\n      <td>...</td>\n      <td>...</td>\n      <td>...</td>\n      <td>...</td>\n      <td>...</td>\n      <td>...</td>\n      <td>...</td>\n      <td>...</td>\n      <td>...</td>\n      <td>...</td>\n      <td>...</td>\n      <td>...</td>\n      <td>...</td>\n      <td>...</td>\n      <td>...</td>\n      <td>...</td>\n      <td>...</td>\n      <td>...</td>\n    </tr>\n    <tr>\n      <th>1445</th>\n      <td>Zatanna</td>\n      <td>Zatanna Zatara</td>\n      <td>Zatanna Zatara</td>\n      <td>10</td>\n      <td>Zatanna is the daughter of adventurer John Zat...</td>\n      <td>Zatanna is genetically talented with her magi...</td>\n      <td>90</td>\n      <td>10</td>\n      <td>25</td>\n      <td>30</td>\n      <td>...</td>\n      <td>0.0</td>\n      <td>0.0</td>\n      <td>0.0</td>\n      <td>0.0</td>\n      <td>0.0</td>\n      <td>0.0</td>\n      <td>0.0</td>\n      <td>0.0</td>\n      <td>0.0</td>\n      <td>0.0</td>\n    </tr>\n    <tr>\n      <th>1446</th>\n      <td>Zero</td>\n      <td>DWN-∞: Zero</td>\n      <td>DWN-∞: Zero</td>\n      <td>18</td>\n      <td>Zero was created by the late Dr. Albert Wily ...</td>\n      <td>NaN</td>\n      <td>80</td>\n      <td>100</td>\n      <td>100</td>\n      <td>100</td>\n      <td>...</td>\n      <td>0.0</td>\n      <td>1.0</td>\n      <td>1.0</td>\n      <td>1.0</td>\n      <td>1.0</td>\n      <td>1.0</td>\n      <td>1.0</td>\n      <td>1.0</td>\n      <td>1.0</td>\n      <td>1.0</td>\n    </tr>\n    <tr>\n      <th>1447</th>\n      <td>Zoom (New 52)</td>\n      <td>Hunter Zolomon</td>\n      <td>NaN</td>\n      <td>20</td>\n      <td>Hunter Zolomon is better known as Zoom, a spee...</td>\n      <td>After tricking Barry Allen and Wally West into...</td>\n      <td>95</td>\n      <td>50</td>\n      <td>100</td>\n      <td>75</td>\n      <td>...</td>\n      <td>0.0</td>\n      <td>1.0</td>\n      <td>0.0</td>\n      <td>1.0</td>\n      <td>1.0</td>\n      <td>1.0</td>\n      <td>1.0</td>\n      <td>1.0</td>\n      <td>1.0</td>\n      <td>1.0</td>\n    </tr>\n    <tr>\n      <th>1448</th>\n      <td>Zoom</td>\n      <td>Hunter Zolomon</td>\n      <td>Hunter Zolomon</td>\n      <td>9</td>\n      <td>Hunter Zolomon had a troubled relationship wi...</td>\n      <td>Zoom is able to alter time, to make himself ev...</td>\n      <td>75</td>\n      <td>10</td>\n      <td>100</td>\n      <td>30</td>\n      <td>...</td>\n      <td>0.0</td>\n      <td>0.0</td>\n      <td>0.0</td>\n      <td>0.0</td>\n      <td>0.0</td>\n      <td>1.0</td>\n      <td>0.0</td>\n      <td>0.0</td>\n      <td>0.0</td>\n      <td>0.0</td>\n    </tr>\n    <tr>\n      <th>1449</th>\n      <td>Zzzax</td>\n      <td>NaN</td>\n      <td>NaN</td>\n      <td>5</td>\n      <td>Zzzax was the product of an accident that occu...</td>\n      <td>NaN</td>\n      <td>45</td>\n      <td>80</td>\n      <td>75</td>\n      <td>95</td>\n      <td>...</td>\n      <td>1.0</td>\n      <td>0.0</td>\n      <td>0.0</td>\n      <td>0.0</td>\n      <td>0.0</td>\n      <td>1.0</td>\n      <td>0.0</td>\n      <td>0.0</td>\n      <td>1.0</td>\n      <td>1.0</td>\n    </tr>\n  </tbody>\n</table>\n<p>1450 rows × 81 columns</p>\n</div>"
     },
     "execution_count": 30,
     "metadata": {},
     "output_type": "execute_result"
    }
   ],
   "source": [
    "df"
   ],
   "metadata": {
    "collapsed": false,
    "ExecuteTime": {
     "end_time": "2024-01-16T15:26:00.572186Z",
     "start_time": "2024-01-16T15:26:00.440228Z"
    }
   },
   "id": "5d94b63ade7a984e",
   "execution_count": 30
  },
  {
   "cell_type": "code",
   "outputs": [
    {
     "data": {
      "text/plain": "name                   object\nreal_name              object\nfull_name              object\noverall_score          object\nhistory_text           object\n                       ...   \nhas_super_speed       float64\nhas_durability        float64\nhas_stamina           float64\nhas_agility           float64\nhas_super_strength    float64\nLength: 81, dtype: object"
     },
     "execution_count": 31,
     "metadata": {},
     "output_type": "execute_result"
    }
   ],
   "source": [
    "df.dtypes"
   ],
   "metadata": {
    "collapsed": false,
    "ExecuteTime": {
     "end_time": "2024-01-16T15:26:00.572540Z",
     "start_time": "2024-01-16T15:26:00.444120Z"
    }
   },
   "id": "53555a4cc029ffeb",
   "execution_count": 31
  },
  {
   "cell_type": "code",
   "outputs": [
    {
     "data": {
      "text/plain": "(1450, 81)"
     },
     "execution_count": 32,
     "metadata": {},
     "output_type": "execute_result"
    }
   ],
   "source": [
    "df.shape"
   ],
   "metadata": {
    "collapsed": false,
    "ExecuteTime": {
     "end_time": "2024-01-16T15:26:00.572762Z",
     "start_time": "2024-01-16T15:26:00.447054Z"
    }
   },
   "id": "aa34ad1147e9200b",
   "execution_count": 32
  },
  {
   "cell_type": "code",
   "outputs": [
    {
     "data": {
      "text/plain": "            name               real_name               full_name  \\\n0        3-D Man     Delroy Garrett, Jr.     Delroy Garrett, Jr.   \n1  514A (Gotham)             Bruce Wayne                     NaN   \n2         A-Bomb  Richard Milhouse Jones  Richard Milhouse Jones   \n3             Aa                      Aa                     NaN   \n4     Aaron Cash              Aaron Cash              Aaron Cash   \n\n  overall_score                                       history_text  \\\n0             6  Delroy Garrett, Jr. grew up to become a track ...   \n1            10  He was one of the many prisoners of Indian Hil...   \n2            20   Richard \"Rick\" Jones was orphaned at a young ...   \n3            12  Aa is one of the more passive members of the P...   \n4             5  Aaron Cash is the head of security at Arkham A...   \n\n                                         powers_text  intelligence_score  \\\n0                                                NaN                  85   \n1                                                NaN                 100   \n2    On rare occasions, and through unusual circu...                  80   \n3                                                NaN                  80   \n4                                                NaN                  80   \n\n   strength_score  speed_score  durability_score  ...  has_flight  \\\n0              30           60                60  ...         0.0   \n1              20           30                50  ...         0.0   \n2             100           80               100  ...         0.0   \n3              50           55                45  ...         0.0   \n4              10           25                40  ...         0.0   \n\n   has_accelerated_healing has_weapons_master has_intelligence has_reflexes  \\\n0                      0.0                0.0              0.0          0.0   \n1                      0.0                0.0              0.0          1.0   \n2                      1.0                0.0              0.0          1.0   \n3                      0.0                0.0              0.0          0.0   \n4                      0.0                1.0              0.0          0.0   \n\n  has_super_speed has_durability has_stamina has_agility has_super_strength  \n0             1.0            0.0         0.0         0.0                1.0  \n1             0.0            1.0         0.0         0.0                1.0  \n2             1.0            1.0         1.0         1.0                1.0  \n3             0.0            0.0         0.0         0.0                0.0  \n4             0.0            0.0         0.0         0.0                0.0  \n\n[5 rows x 81 columns]",
      "text/html": "<div>\n<style scoped>\n    .dataframe tbody tr th:only-of-type {\n        vertical-align: middle;\n    }\n\n    .dataframe tbody tr th {\n        vertical-align: top;\n    }\n\n    .dataframe thead th {\n        text-align: right;\n    }\n</style>\n<table border=\"1\" class=\"dataframe\">\n  <thead>\n    <tr style=\"text-align: right;\">\n      <th></th>\n      <th>name</th>\n      <th>real_name</th>\n      <th>full_name</th>\n      <th>overall_score</th>\n      <th>history_text</th>\n      <th>powers_text</th>\n      <th>intelligence_score</th>\n      <th>strength_score</th>\n      <th>speed_score</th>\n      <th>durability_score</th>\n      <th>...</th>\n      <th>has_flight</th>\n      <th>has_accelerated_healing</th>\n      <th>has_weapons_master</th>\n      <th>has_intelligence</th>\n      <th>has_reflexes</th>\n      <th>has_super_speed</th>\n      <th>has_durability</th>\n      <th>has_stamina</th>\n      <th>has_agility</th>\n      <th>has_super_strength</th>\n    </tr>\n  </thead>\n  <tbody>\n    <tr>\n      <th>0</th>\n      <td>3-D Man</td>\n      <td>Delroy Garrett, Jr.</td>\n      <td>Delroy Garrett, Jr.</td>\n      <td>6</td>\n      <td>Delroy Garrett, Jr. grew up to become a track ...</td>\n      <td>NaN</td>\n      <td>85</td>\n      <td>30</td>\n      <td>60</td>\n      <td>60</td>\n      <td>...</td>\n      <td>0.0</td>\n      <td>0.0</td>\n      <td>0.0</td>\n      <td>0.0</td>\n      <td>0.0</td>\n      <td>1.0</td>\n      <td>0.0</td>\n      <td>0.0</td>\n      <td>0.0</td>\n      <td>1.0</td>\n    </tr>\n    <tr>\n      <th>1</th>\n      <td>514A (Gotham)</td>\n      <td>Bruce Wayne</td>\n      <td>NaN</td>\n      <td>10</td>\n      <td>He was one of the many prisoners of Indian Hil...</td>\n      <td>NaN</td>\n      <td>100</td>\n      <td>20</td>\n      <td>30</td>\n      <td>50</td>\n      <td>...</td>\n      <td>0.0</td>\n      <td>0.0</td>\n      <td>0.0</td>\n      <td>0.0</td>\n      <td>1.0</td>\n      <td>0.0</td>\n      <td>1.0</td>\n      <td>0.0</td>\n      <td>0.0</td>\n      <td>1.0</td>\n    </tr>\n    <tr>\n      <th>2</th>\n      <td>A-Bomb</td>\n      <td>Richard Milhouse Jones</td>\n      <td>Richard Milhouse Jones</td>\n      <td>20</td>\n      <td>Richard \"Rick\" Jones was orphaned at a young ...</td>\n      <td>On rare occasions, and through unusual circu...</td>\n      <td>80</td>\n      <td>100</td>\n      <td>80</td>\n      <td>100</td>\n      <td>...</td>\n      <td>0.0</td>\n      <td>1.0</td>\n      <td>0.0</td>\n      <td>0.0</td>\n      <td>1.0</td>\n      <td>1.0</td>\n      <td>1.0</td>\n      <td>1.0</td>\n      <td>1.0</td>\n      <td>1.0</td>\n    </tr>\n    <tr>\n      <th>3</th>\n      <td>Aa</td>\n      <td>Aa</td>\n      <td>NaN</td>\n      <td>12</td>\n      <td>Aa is one of the more passive members of the P...</td>\n      <td>NaN</td>\n      <td>80</td>\n      <td>50</td>\n      <td>55</td>\n      <td>45</td>\n      <td>...</td>\n      <td>0.0</td>\n      <td>0.0</td>\n      <td>0.0</td>\n      <td>0.0</td>\n      <td>0.0</td>\n      <td>0.0</td>\n      <td>0.0</td>\n      <td>0.0</td>\n      <td>0.0</td>\n      <td>0.0</td>\n    </tr>\n    <tr>\n      <th>4</th>\n      <td>Aaron Cash</td>\n      <td>Aaron Cash</td>\n      <td>Aaron Cash</td>\n      <td>5</td>\n      <td>Aaron Cash is the head of security at Arkham A...</td>\n      <td>NaN</td>\n      <td>80</td>\n      <td>10</td>\n      <td>25</td>\n      <td>40</td>\n      <td>...</td>\n      <td>0.0</td>\n      <td>0.0</td>\n      <td>1.0</td>\n      <td>0.0</td>\n      <td>0.0</td>\n      <td>0.0</td>\n      <td>0.0</td>\n      <td>0.0</td>\n      <td>0.0</td>\n      <td>0.0</td>\n    </tr>\n  </tbody>\n</table>\n<p>5 rows × 81 columns</p>\n</div>"
     },
     "execution_count": 33,
     "metadata": {},
     "output_type": "execute_result"
    }
   ],
   "source": [
    "df.head()"
   ],
   "metadata": {
    "collapsed": false,
    "ExecuteTime": {
     "end_time": "2024-01-16T15:26:00.573233Z",
     "start_time": "2024-01-16T15:26:00.457615Z"
    }
   },
   "id": "7b5610e655327439",
   "execution_count": 33
  },
  {
   "cell_type": "code",
   "outputs": [
    {
     "data": {
      "text/plain": "(615, 81)"
     },
     "execution_count": 34,
     "metadata": {},
     "output_type": "execute_result"
    }
   ],
   "source": [
    "df[df['creator'] == 'Marvel Comics'].shape"
   ],
   "metadata": {
    "collapsed": false,
    "ExecuteTime": {
     "end_time": "2024-01-16T15:26:00.573462Z",
     "start_time": "2024-01-16T15:26:00.459686Z"
    }
   },
   "id": "283b45bfdb6dfe90",
   "execution_count": 34
  },
  {
   "cell_type": "code",
   "outputs": [
    {
     "data": {
      "text/plain": "                   name               real_name               full_name  \\\n0               3-D Man     Delroy Garrett, Jr.     Delroy Garrett, Jr.   \n2                A-Bomb  Richard Milhouse Jones  Richard Milhouse Jones   \n8           Abomination            Emil Blonsky            Emil Blonsky   \n11              Abraxas                 Abraxas                 Abraxas   \n12  Absorbing Man (MCU)              Carl Creel              Carl Creel   \n\n   overall_score                                       history_text  \\\n0              6  Delroy Garrett, Jr. grew up to become a track ...   \n2             20   Richard \"Rick\" Jones was orphaned at a young ...   \n8             22  Formerly known as Emil Blonsky, a spy of Sovie...   \n11             ∞  Born within the abstract entity Eternity, Abra...   \n12             8  Carl \"Crusher\" Creel was an enhanced individua...   \n\n                                          powers_text  intelligence_score  \\\n0                                                 NaN                  85   \n2     On rare occasions, and through unusual circu...                  80   \n8   'Blonsky''s transformation into the Abominatio...                  85   \n11  As antithesis to the cosmic entity Eternity, A...                 100   \n12   Carl Creel was able to duplicate at will the ...                  75   \n\n    strength_score  speed_score  durability_score  ...  has_flight  \\\n0               30           60                60  ...         0.0   \n2              100           80               100  ...         0.0   \n8              100           80                90  ...         0.0   \n11             100          100               100  ...         1.0   \n12              15           30                40  ...         0.0   \n\n    has_accelerated_healing has_weapons_master has_intelligence has_reflexes  \\\n0                       0.0                0.0              0.0          0.0   \n2                       1.0                0.0              0.0          1.0   \n8                       1.0                0.0              1.0          0.0   \n11                      0.0                0.0              1.0          0.0   \n12                      0.0                0.0              0.0          0.0   \n\n   has_super_speed has_durability has_stamina has_agility has_super_strength  \n0              1.0            0.0         0.0         0.0                1.0  \n2              1.0            1.0         1.0         1.0                1.0  \n8              1.0            1.0         1.0         1.0                1.0  \n11             1.0            1.0         1.0         0.0                1.0  \n12             0.0            1.0         1.0         1.0                1.0  \n\n[5 rows x 81 columns]",
      "text/html": "<div>\n<style scoped>\n    .dataframe tbody tr th:only-of-type {\n        vertical-align: middle;\n    }\n\n    .dataframe tbody tr th {\n        vertical-align: top;\n    }\n\n    .dataframe thead th {\n        text-align: right;\n    }\n</style>\n<table border=\"1\" class=\"dataframe\">\n  <thead>\n    <tr style=\"text-align: right;\">\n      <th></th>\n      <th>name</th>\n      <th>real_name</th>\n      <th>full_name</th>\n      <th>overall_score</th>\n      <th>history_text</th>\n      <th>powers_text</th>\n      <th>intelligence_score</th>\n      <th>strength_score</th>\n      <th>speed_score</th>\n      <th>durability_score</th>\n      <th>...</th>\n      <th>has_flight</th>\n      <th>has_accelerated_healing</th>\n      <th>has_weapons_master</th>\n      <th>has_intelligence</th>\n      <th>has_reflexes</th>\n      <th>has_super_speed</th>\n      <th>has_durability</th>\n      <th>has_stamina</th>\n      <th>has_agility</th>\n      <th>has_super_strength</th>\n    </tr>\n  </thead>\n  <tbody>\n    <tr>\n      <th>0</th>\n      <td>3-D Man</td>\n      <td>Delroy Garrett, Jr.</td>\n      <td>Delroy Garrett, Jr.</td>\n      <td>6</td>\n      <td>Delroy Garrett, Jr. grew up to become a track ...</td>\n      <td>NaN</td>\n      <td>85</td>\n      <td>30</td>\n      <td>60</td>\n      <td>60</td>\n      <td>...</td>\n      <td>0.0</td>\n      <td>0.0</td>\n      <td>0.0</td>\n      <td>0.0</td>\n      <td>0.0</td>\n      <td>1.0</td>\n      <td>0.0</td>\n      <td>0.0</td>\n      <td>0.0</td>\n      <td>1.0</td>\n    </tr>\n    <tr>\n      <th>2</th>\n      <td>A-Bomb</td>\n      <td>Richard Milhouse Jones</td>\n      <td>Richard Milhouse Jones</td>\n      <td>20</td>\n      <td>Richard \"Rick\" Jones was orphaned at a young ...</td>\n      <td>On rare occasions, and through unusual circu...</td>\n      <td>80</td>\n      <td>100</td>\n      <td>80</td>\n      <td>100</td>\n      <td>...</td>\n      <td>0.0</td>\n      <td>1.0</td>\n      <td>0.0</td>\n      <td>0.0</td>\n      <td>1.0</td>\n      <td>1.0</td>\n      <td>1.0</td>\n      <td>1.0</td>\n      <td>1.0</td>\n      <td>1.0</td>\n    </tr>\n    <tr>\n      <th>8</th>\n      <td>Abomination</td>\n      <td>Emil Blonsky</td>\n      <td>Emil Blonsky</td>\n      <td>22</td>\n      <td>Formerly known as Emil Blonsky, a spy of Sovie...</td>\n      <td>'Blonsky''s transformation into the Abominatio...</td>\n      <td>85</td>\n      <td>100</td>\n      <td>80</td>\n      <td>90</td>\n      <td>...</td>\n      <td>0.0</td>\n      <td>1.0</td>\n      <td>0.0</td>\n      <td>1.0</td>\n      <td>0.0</td>\n      <td>1.0</td>\n      <td>1.0</td>\n      <td>1.0</td>\n      <td>1.0</td>\n      <td>1.0</td>\n    </tr>\n    <tr>\n      <th>11</th>\n      <td>Abraxas</td>\n      <td>Abraxas</td>\n      <td>Abraxas</td>\n      <td>∞</td>\n      <td>Born within the abstract entity Eternity, Abra...</td>\n      <td>As antithesis to the cosmic entity Eternity, A...</td>\n      <td>100</td>\n      <td>100</td>\n      <td>100</td>\n      <td>100</td>\n      <td>...</td>\n      <td>1.0</td>\n      <td>0.0</td>\n      <td>0.0</td>\n      <td>1.0</td>\n      <td>0.0</td>\n      <td>1.0</td>\n      <td>1.0</td>\n      <td>1.0</td>\n      <td>0.0</td>\n      <td>1.0</td>\n    </tr>\n    <tr>\n      <th>12</th>\n      <td>Absorbing Man (MCU)</td>\n      <td>Carl Creel</td>\n      <td>Carl Creel</td>\n      <td>8</td>\n      <td>Carl \"Crusher\" Creel was an enhanced individua...</td>\n      <td>Carl Creel was able to duplicate at will the ...</td>\n      <td>75</td>\n      <td>15</td>\n      <td>30</td>\n      <td>40</td>\n      <td>...</td>\n      <td>0.0</td>\n      <td>0.0</td>\n      <td>0.0</td>\n      <td>0.0</td>\n      <td>0.0</td>\n      <td>0.0</td>\n      <td>1.0</td>\n      <td>1.0</td>\n      <td>1.0</td>\n      <td>1.0</td>\n    </tr>\n  </tbody>\n</table>\n<p>5 rows × 81 columns</p>\n</div>"
     },
     "execution_count": 35,
     "metadata": {},
     "output_type": "execute_result"
    }
   ],
   "source": [
    "df[df['creator']=='Marvel Comics'].head()"
   ],
   "metadata": {
    "collapsed": false,
    "ExecuteTime": {
     "end_time": "2024-01-16T15:26:00.598Z",
     "start_time": "2024-01-16T15:26:00.471892Z"
    }
   },
   "id": "d1ab6325639eb03d",
   "execution_count": 35
  },
  {
   "cell_type": "markdown",
   "source": [
    "Combine the textual columns into one column"
   ],
   "metadata": {
    "collapsed": false
   },
   "id": "30b4bab39ba490a1"
  },
  {
   "cell_type": "code",
   "outputs": [],
   "source": [
    "text_columns = ['history_text', 'powers_text']\n",
    "df['combined_text'] = df[text_columns].fillna('').agg(' '.join, axis=1)"
   ],
   "metadata": {
    "collapsed": false,
    "ExecuteTime": {
     "end_time": "2024-01-16T15:26:00.598301Z",
     "start_time": "2024-01-16T15:26:00.481283Z"
    }
   },
   "id": "cf6d6ccf2954b202",
   "execution_count": 36
  },
  {
   "cell_type": "markdown",
   "source": [
    "Create a binary target variable"
   ],
   "metadata": {
    "collapsed": false
   },
   "id": "f96429f8c06274fe"
  },
  {
   "cell_type": "code",
   "outputs": [],
   "source": [
    "df['is_marvel'] = df['creator'].apply(lambda x: 1 if x == 'Marvel Comics' else 0)"
   ],
   "metadata": {
    "collapsed": false,
    "ExecuteTime": {
     "end_time": "2024-01-16T15:26:00.598476Z",
     "start_time": "2024-01-16T15:26:00.484727Z"
    }
   },
   "id": "52e857a09904dfa1",
   "execution_count": 37
  },
  {
   "cell_type": "markdown",
   "source": [
    "Create a transformer, estimator and a pipeline"
   ],
   "metadata": {
    "collapsed": false
   },
   "id": "7b79268cbad7efa2"
  },
  {
   "cell_type": "code",
   "outputs": [],
   "source": [
    "from sklearn.feature_extraction.text import TfidfVectorizer\n",
    "from sklearn.linear_model import LogisticRegression\n",
    "from sklearn.pipeline import Pipeline"
   ],
   "metadata": {
    "collapsed": false,
    "ExecuteTime": {
     "end_time": "2024-01-16T15:26:00.598647Z",
     "start_time": "2024-01-16T15:26:00.488469Z"
    }
   },
   "id": "9bd1b93aa0f5c913",
   "execution_count": 38
  },
  {
   "cell_type": "code",
   "outputs": [],
   "source": [
    "pipeline = Pipeline([\n",
    "    ('tfidf', TfidfVectorizer()),\n",
    "    ('lr', LogisticRegression())\n",
    "])"
   ],
   "metadata": {
    "collapsed": false,
    "ExecuteTime": {
     "end_time": "2024-01-16T15:26:00.598831Z",
     "start_time": "2024-01-16T15:26:00.491295Z"
    }
   },
   "id": "d413d9c0c046921c",
   "execution_count": 39
  },
  {
   "cell_type": "markdown",
   "source": [
    "Splitting the data into training and test sets"
   ],
   "metadata": {
    "collapsed": false
   },
   "id": "b3e4c72df77fd914"
  },
  {
   "cell_type": "code",
   "outputs": [],
   "source": [
    "from sklearn.model_selection import train_test_split\n",
    "X_train, X_test, y_train, y_test = (\n",
    "    train_test_split(df['combined_text'], df['is_marvel'], \n",
    "                     test_size=0.2, \n",
    "                     random_state=42))"
   ],
   "metadata": {
    "collapsed": false,
    "ExecuteTime": {
     "end_time": "2024-01-16T15:26:00.599007Z",
     "start_time": "2024-01-16T15:26:00.494783Z"
    }
   },
   "id": "ce3d556dfe259a59",
   "execution_count": 40
  },
  {
   "cell_type": "markdown",
   "source": [
    "Fit the pipeline to the data, train the model"
   ],
   "metadata": {
    "collapsed": false
   },
   "id": "14c1a98e23388238"
  },
  {
   "cell_type": "code",
   "outputs": [
    {
     "data": {
      "text/plain": "Pipeline(steps=[('tfidf', TfidfVectorizer()), ('lr', LogisticRegression())])",
      "text/html": "<style>#sk-container-id-4 {color: black;}#sk-container-id-4 pre{padding: 0;}#sk-container-id-4 div.sk-toggleable {background-color: white;}#sk-container-id-4 label.sk-toggleable__label {cursor: pointer;display: block;width: 100%;margin-bottom: 0;padding: 0.3em;box-sizing: border-box;text-align: center;}#sk-container-id-4 label.sk-toggleable__label-arrow:before {content: \"▸\";float: left;margin-right: 0.25em;color: #696969;}#sk-container-id-4 label.sk-toggleable__label-arrow:hover:before {color: black;}#sk-container-id-4 div.sk-estimator:hover label.sk-toggleable__label-arrow:before {color: black;}#sk-container-id-4 div.sk-toggleable__content {max-height: 0;max-width: 0;overflow: hidden;text-align: left;background-color: #f0f8ff;}#sk-container-id-4 div.sk-toggleable__content pre {margin: 0.2em;color: black;border-radius: 0.25em;background-color: #f0f8ff;}#sk-container-id-4 input.sk-toggleable__control:checked~div.sk-toggleable__content {max-height: 200px;max-width: 100%;overflow: auto;}#sk-container-id-4 input.sk-toggleable__control:checked~label.sk-toggleable__label-arrow:before {content: \"▾\";}#sk-container-id-4 div.sk-estimator input.sk-toggleable__control:checked~label.sk-toggleable__label {background-color: #d4ebff;}#sk-container-id-4 div.sk-label input.sk-toggleable__control:checked~label.sk-toggleable__label {background-color: #d4ebff;}#sk-container-id-4 input.sk-hidden--visually {border: 0;clip: rect(1px 1px 1px 1px);clip: rect(1px, 1px, 1px, 1px);height: 1px;margin: -1px;overflow: hidden;padding: 0;position: absolute;width: 1px;}#sk-container-id-4 div.sk-estimator {font-family: monospace;background-color: #f0f8ff;border: 1px dotted black;border-radius: 0.25em;box-sizing: border-box;margin-bottom: 0.5em;}#sk-container-id-4 div.sk-estimator:hover {background-color: #d4ebff;}#sk-container-id-4 div.sk-parallel-item::after {content: \"\";width: 100%;border-bottom: 1px solid gray;flex-grow: 1;}#sk-container-id-4 div.sk-label:hover label.sk-toggleable__label {background-color: #d4ebff;}#sk-container-id-4 div.sk-serial::before {content: \"\";position: absolute;border-left: 1px solid gray;box-sizing: border-box;top: 0;bottom: 0;left: 50%;z-index: 0;}#sk-container-id-4 div.sk-serial {display: flex;flex-direction: column;align-items: center;background-color: white;padding-right: 0.2em;padding-left: 0.2em;position: relative;}#sk-container-id-4 div.sk-item {position: relative;z-index: 1;}#sk-container-id-4 div.sk-parallel {display: flex;align-items: stretch;justify-content: center;background-color: white;position: relative;}#sk-container-id-4 div.sk-item::before, #sk-container-id-4 div.sk-parallel-item::before {content: \"\";position: absolute;border-left: 1px solid gray;box-sizing: border-box;top: 0;bottom: 0;left: 50%;z-index: -1;}#sk-container-id-4 div.sk-parallel-item {display: flex;flex-direction: column;z-index: 1;position: relative;background-color: white;}#sk-container-id-4 div.sk-parallel-item:first-child::after {align-self: flex-end;width: 50%;}#sk-container-id-4 div.sk-parallel-item:last-child::after {align-self: flex-start;width: 50%;}#sk-container-id-4 div.sk-parallel-item:only-child::after {width: 0;}#sk-container-id-4 div.sk-dashed-wrapped {border: 1px dashed gray;margin: 0 0.4em 0.5em 0.4em;box-sizing: border-box;padding-bottom: 0.4em;background-color: white;}#sk-container-id-4 div.sk-label label {font-family: monospace;font-weight: bold;display: inline-block;line-height: 1.2em;}#sk-container-id-4 div.sk-label-container {text-align: center;}#sk-container-id-4 div.sk-container {/* jupyter's `normalize.less` sets `[hidden] { display: none; }` but bootstrap.min.css set `[hidden] { display: none !important; }` so we also need the `!important` here to be able to override the default hidden behavior on the sphinx rendered scikit-learn.org. See: https://github.com/scikit-learn/scikit-learn/issues/21755 */display: inline-block !important;position: relative;}#sk-container-id-4 div.sk-text-repr-fallback {display: none;}</style><div id=\"sk-container-id-4\" class=\"sk-top-container\"><div class=\"sk-text-repr-fallback\"><pre>Pipeline(steps=[(&#x27;tfidf&#x27;, TfidfVectorizer()), (&#x27;lr&#x27;, LogisticRegression())])</pre><b>In a Jupyter environment, please rerun this cell to show the HTML representation or trust the notebook. <br />On GitHub, the HTML representation is unable to render, please try loading this page with nbviewer.org.</b></div><div class=\"sk-container\" hidden><div class=\"sk-item sk-dashed-wrapped\"><div class=\"sk-label-container\"><div class=\"sk-label sk-toggleable\"><input class=\"sk-toggleable__control sk-hidden--visually\" id=\"sk-estimator-id-10\" type=\"checkbox\" ><label for=\"sk-estimator-id-10\" class=\"sk-toggleable__label sk-toggleable__label-arrow\">Pipeline</label><div class=\"sk-toggleable__content\"><pre>Pipeline(steps=[(&#x27;tfidf&#x27;, TfidfVectorizer()), (&#x27;lr&#x27;, LogisticRegression())])</pre></div></div></div><div class=\"sk-serial\"><div class=\"sk-item\"><div class=\"sk-estimator sk-toggleable\"><input class=\"sk-toggleable__control sk-hidden--visually\" id=\"sk-estimator-id-11\" type=\"checkbox\" ><label for=\"sk-estimator-id-11\" class=\"sk-toggleable__label sk-toggleable__label-arrow\">TfidfVectorizer</label><div class=\"sk-toggleable__content\"><pre>TfidfVectorizer()</pre></div></div></div><div class=\"sk-item\"><div class=\"sk-estimator sk-toggleable\"><input class=\"sk-toggleable__control sk-hidden--visually\" id=\"sk-estimator-id-12\" type=\"checkbox\" ><label for=\"sk-estimator-id-12\" class=\"sk-toggleable__label sk-toggleable__label-arrow\">LogisticRegression</label><div class=\"sk-toggleable__content\"><pre>LogisticRegression()</pre></div></div></div></div></div></div></div>"
     },
     "execution_count": 41,
     "metadata": {},
     "output_type": "execute_result"
    }
   ],
   "source": [
    "# Fitting the model\n",
    "pipeline.fit(X_train, y_train)"
   ],
   "metadata": {
    "collapsed": false,
    "ExecuteTime": {
     "end_time": "2024-01-16T15:26:00.996334Z",
     "start_time": "2024-01-16T15:26:00.497351Z"
    }
   },
   "id": "ae6407d6028252ec",
   "execution_count": 41
  },
  {
   "cell_type": "markdown",
   "source": [
    "Evaluating the model using the score method"
   ],
   "metadata": {
    "collapsed": false
   },
   "id": "20e79f64c55af029"
  },
  {
   "cell_type": "code",
   "outputs": [
    {
     "name": "stdout",
     "output_type": "stream",
     "text": [
      "Accuracy: 0.8896551724137931\n"
     ]
    }
   ],
   "source": [
    "accuracy = pipeline.score(X_test, y_test)\n",
    "print(\"Accuracy:\", accuracy)"
   ],
   "metadata": {
    "collapsed": false,
    "ExecuteTime": {
     "end_time": "2024-01-16T15:26:01.076728Z",
     "start_time": "2024-01-16T15:26:01.049845Z"
    }
   },
   "id": "bb7f28c5c31bc264",
   "execution_count": 42
  },
  {
   "cell_type": "code",
   "outputs": [
    {
     "name": "stdout",
     "output_type": "stream",
     "text": [
      "              precision    recall  f1-score   support\n",
      "\n",
      "           0       0.85      0.99      0.92       176\n",
      "           1       0.99      0.73      0.84       114\n",
      "\n",
      "    accuracy                           0.89       290\n",
      "   macro avg       0.92      0.86      0.88       290\n",
      "weighted avg       0.90      0.89      0.89       290\n"
     ]
    }
   ],
   "source": [
    "from sklearn.metrics import classification_report\n",
    "\n",
    "print(classification_report(y_test, y_pred))"
   ],
   "metadata": {
    "collapsed": false,
    "ExecuteTime": {
     "end_time": "2024-01-16T15:27:27.802960Z",
     "start_time": "2024-01-16T15:27:27.794827Z"
    }
   },
   "id": "7054c41098e86242",
   "execution_count": 44
  }
 ],
 "metadata": {
  "kernelspec": {
   "display_name": "Python 3",
   "language": "python",
   "name": "python3"
  },
  "language_info": {
   "codemirror_mode": {
    "name": "ipython",
    "version": 2
   },
   "file_extension": ".py",
   "mimetype": "text/x-python",
   "name": "python",
   "nbconvert_exporter": "python",
   "pygments_lexer": "ipython2",
   "version": "2.7.6"
  }
 },
 "nbformat": 4,
 "nbformat_minor": 5
}
